{
 "cells": [
  {
   "cell_type": "markdown",
   "id": "40a73099-38c1-4bf0-afd3-5481df7c3d19",
   "metadata": {},
   "source": [
    "# Cannonical Correlation Analysis of ERN and Pe results"
   ]
  },
  {
   "cell_type": "markdown",
   "id": "d8ff9f56-5483-44c7-b9cc-486a31838279",
   "metadata": {},
   "source": [
    "### Imports"
   ]
  },
  {
   "cell_type": "code",
   "execution_count": 51,
   "id": "e9e84d26-b32c-41ae-b3f4-81e0ee55156b",
   "metadata": {},
   "outputs": [],
   "source": [
    "import os\n",
    "import re\n",
    "import glob\n",
    "import os\n",
    "import ast\n",
    "import os.path as op\n",
    "from collections import defaultdict\n",
    "from copy import deepcopy\n",
    "import copy\n",
    "\n",
    "import pickle\n",
    "from time import time\n",
    "# import pywt\n",
    "import mne\n",
    "import scipy\n",
    "import numpy as np\n",
    "# import plotly.graph_objects as go\n",
    "# import plotly.express as px\n",
    "import pandas as pd\n",
    "# import cesium.featurize\n",
    "# from plotly.subplots import make_subplots\n",
    "# from ipywidgets import Dropdown, FloatRangeSlider, IntSlider, FloatSlider, interact\n",
    "from sklearn.metrics import roc_auc_score\n",
    "from sklearn.model_selection import StratifiedKFold\n",
    "from sklearn.model_selection import train_test_split\n",
    "from sklearn.discriminant_analysis import LinearDiscriminantAnalysis\n",
    "from sklearn.base import TransformerMixin, BaseEstimator\n",
    "\n",
    "import sys\n",
    "\n",
    "from sklearn.pipeline import Pipeline, FeatureUnion\n",
    "from sklearn.preprocessing import StandardScaler\n",
    "from sklearn.preprocessing import FunctionTransformer\n",
    "from sklearn.svm import SVR\n",
    "from sklearn.decomposition import FastICA\n",
    "from sklearn.decomposition import PCA\n",
    "\n",
    "from rumination_experiment_transformers_averaged_CDS import *\n",
    "\n",
    "from sklearn.cross_decomposition import CCA\n",
    "import matplotlib.pyplot as plt\n",
    "\n",
    "import warnings\n",
    "\n",
    "warnings.filterwarnings(\"ignore\")\n"
   ]
  },
  {
   "cell_type": "code",
   "execution_count": 2,
   "id": "727b28e2-f75c-47d7-97f2-24df8f7950ec",
   "metadata": {},
   "outputs": [],
   "source": [
    "pd.set_option('display.max_rows', None)\n",
    "pd.set_option('display.max_columns', None)"
   ]
  },
  {
   "cell_type": "markdown",
   "id": "59c69899-6a32-4418-9079-8bd66aed497f",
   "metadata": {},
   "source": [
    "## Load pickled ERN and Pe results"
   ]
  },
  {
   "cell_type": "code",
   "execution_count": 3,
   "id": "ba91198f",
   "metadata": {},
   "outputs": [],
   "source": [
    "results_ern = pd.read_pickle(\"../public_data/results/models_pickles/ern_results_with_external-p.pkl\")\n",
    "results_pe = pd.read_pickle(\"../public_data/results/models_pickles/pe_results_with_external-p.pkl\")"
   ]
  },
  {
   "cell_type": "markdown",
   "id": "36da45ad-0ccb-4b2a-ab30-40517da3a268",
   "metadata": {},
   "source": [
    "### Extract significant relationships"
   ]
  },
  {
   "cell_type": "code",
   "execution_count": 4,
   "id": "3f7094b3-8b7c-4af9-b496-af3c0d7937df",
   "metadata": {},
   "outputs": [
    {
     "data": {
      "text/html": [
       "<div>\n",
       "<style scoped>\n",
       "    .dataframe tbody tr th:only-of-type {\n",
       "        vertical-align: middle;\n",
       "    }\n",
       "\n",
       "    .dataframe tbody tr th {\n",
       "        vertical-align: top;\n",
       "    }\n",
       "\n",
       "    .dataframe thead th {\n",
       "        text-align: right;\n",
       "    }\n",
       "</style>\n",
       "<table border=\"1\" class=\"dataframe\">\n",
       "  <thead>\n",
       "    <tr style=\"text-align: right;\">\n",
       "      <th></th>\n",
       "      <th>data_set</th>\n",
       "      <th>pipeline_name</th>\n",
       "      <th>model</th>\n",
       "      <th>parameters</th>\n",
       "      <th>mean_cv_r2</th>\n",
       "      <th>std_cv_r2</th>\n",
       "      <th>mean_cv_mae</th>\n",
       "      <th>std_cv_mae</th>\n",
       "      <th>mean_cv_mse</th>\n",
       "      <th>std_cv_mse</th>\n",
       "      <th>cv_results</th>\n",
       "      <th>mean_train_r2</th>\n",
       "      <th>mean_train_mae</th>\n",
       "      <th>mean_train_mse</th>\n",
       "      <th>p-value</th>\n",
       "      <th>best_estimator</th>\n",
       "      <th>pre_processed_pipeline</th>\n",
       "      <th>scale</th>\n",
       "      <th>external_score</th>\n",
       "      <th>external_p-value</th>\n",
       "    </tr>\n",
       "  </thead>\n",
       "  <tbody>\n",
       "    <tr>\n",
       "      <th>11</th>\n",
       "      <td>error_response</td>\n",
       "      <td>PCA_4_scale_15-Obsessional Beliefs - Overestim...</td>\n",
       "      <td>kr</td>\n",
       "      <td>{'kr__alpha': 0.4281332398719396, 'kr__gamma':...</td>\n",
       "      <td>0.055361</td>\n",
       "      <td>0.089090</td>\n",
       "      <td>-0.979162</td>\n",
       "      <td>0.091681</td>\n",
       "      <td>-1.350341</td>\n",
       "      <td>0.246860</td>\n",
       "      <td>{'mean_fit_time': [0.009642521540323893, 0.010...</td>\n",
       "      <td>0.196231</td>\n",
       "      <td>-0.904140</td>\n",
       "      <td>-1.148277</td>\n",
       "      <td>0.006993</td>\n",
       "      <td>(FeatureUnion(n_jobs=10,\\n             transfo...</td>\n",
       "      <td>(PickChannels(channels_list=['Fpz', 'AFz', 'F1...</td>\n",
       "      <td>OT</td>\n",
       "      <td>0.059436</td>\n",
       "      <td>0.057942</td>\n",
       "    </tr>\n",
       "    <tr>\n",
       "      <th>12</th>\n",
       "      <td>error_response</td>\n",
       "      <td>PCA_3_scale_16-Rumination Full Scale</td>\n",
       "      <td>kr</td>\n",
       "      <td>{'kr__alpha': 2.6366508987303556e-05, 'kr__gam...</td>\n",
       "      <td>0.068960</td>\n",
       "      <td>0.007099</td>\n",
       "      <td>-0.678509</td>\n",
       "      <td>0.046337</td>\n",
       "      <td>-0.744860</td>\n",
       "      <td>0.062957</td>\n",
       "      <td>{'mean_fit_time': [0.011245250701904297, 0.014...</td>\n",
       "      <td>0.125565</td>\n",
       "      <td>-0.662442</td>\n",
       "      <td>-0.703920</td>\n",
       "      <td>0.003996</td>\n",
       "      <td>(FeatureUnion(n_jobs=10,\\n             transfo...</td>\n",
       "      <td>(PickChannels(channels_list=['Fpz', 'AFz', 'Fz...</td>\n",
       "      <td>RRQ</td>\n",
       "      <td>0.070520</td>\n",
       "      <td>0.017982</td>\n",
       "    </tr>\n",
       "    <tr>\n",
       "      <th>14</th>\n",
       "      <td>error_response</td>\n",
       "      <td>PCA_6_scale_28-Intolerance of Uncertainty - In...</td>\n",
       "      <td>en</td>\n",
       "      <td>{'en__alpha': 0.01832980710832434, 'en__l1_rat...</td>\n",
       "      <td>0.036322</td>\n",
       "      <td>0.026219</td>\n",
       "      <td>-0.471418</td>\n",
       "      <td>0.033994</td>\n",
       "      <td>-0.357236</td>\n",
       "      <td>0.021651</td>\n",
       "      <td>{'mean_fit_time': [0.008257150650024414, 0.007...</td>\n",
       "      <td>0.124229</td>\n",
       "      <td>-0.455919</td>\n",
       "      <td>-0.328933</td>\n",
       "      <td>0.013986</td>\n",
       "      <td>(FeatureUnion(n_jobs=10,\\n             transfo...</td>\n",
       "      <td>(PickChannels(channels_list=['Fpz', 'AFz', 'F1...</td>\n",
       "      <td>IUS-I</td>\n",
       "      <td>0.056105</td>\n",
       "      <td>0.069930</td>\n",
       "    </tr>\n",
       "  </tbody>\n",
       "</table>\n",
       "</div>"
      ],
      "text/plain": [
       "          data_set                                      pipeline_name model  \\\n",
       "11  error_response  PCA_4_scale_15-Obsessional Beliefs - Overestim...    kr   \n",
       "12  error_response               PCA_3_scale_16-Rumination Full Scale    kr   \n",
       "14  error_response  PCA_6_scale_28-Intolerance of Uncertainty - In...    en   \n",
       "\n",
       "                                           parameters  mean_cv_r2  std_cv_r2  \\\n",
       "11  {'kr__alpha': 0.4281332398719396, 'kr__gamma':...    0.055361   0.089090   \n",
       "12  {'kr__alpha': 2.6366508987303556e-05, 'kr__gam...    0.068960   0.007099   \n",
       "14  {'en__alpha': 0.01832980710832434, 'en__l1_rat...    0.036322   0.026219   \n",
       "\n",
       "    mean_cv_mae  std_cv_mae  mean_cv_mse  std_cv_mse  \\\n",
       "11    -0.979162    0.091681    -1.350341    0.246860   \n",
       "12    -0.678509    0.046337    -0.744860    0.062957   \n",
       "14    -0.471418    0.033994    -0.357236    0.021651   \n",
       "\n",
       "                                           cv_results  mean_train_r2  \\\n",
       "11  {'mean_fit_time': [0.009642521540323893, 0.010...       0.196231   \n",
       "12  {'mean_fit_time': [0.011245250701904297, 0.014...       0.125565   \n",
       "14  {'mean_fit_time': [0.008257150650024414, 0.007...       0.124229   \n",
       "\n",
       "    mean_train_mae  mean_train_mse   p-value  \\\n",
       "11       -0.904140       -1.148277  0.006993   \n",
       "12       -0.662442       -0.703920  0.003996   \n",
       "14       -0.455919       -0.328933  0.013986   \n",
       "\n",
       "                                       best_estimator  \\\n",
       "11  (FeatureUnion(n_jobs=10,\\n             transfo...   \n",
       "12  (FeatureUnion(n_jobs=10,\\n             transfo...   \n",
       "14  (FeatureUnion(n_jobs=10,\\n             transfo...   \n",
       "\n",
       "                               pre_processed_pipeline  scale  external_score  \\\n",
       "11  (PickChannels(channels_list=['Fpz', 'AFz', 'F1...     OT        0.059436   \n",
       "12  (PickChannels(channels_list=['Fpz', 'AFz', 'Fz...    RRQ        0.070520   \n",
       "14  (PickChannels(channels_list=['Fpz', 'AFz', 'F1...  IUS-I        0.056105   \n",
       "\n",
       "    external_p-value  \n",
       "11          0.057942  \n",
       "12          0.017982  \n",
       "14          0.069930  "
      ]
     },
     "execution_count": 4,
     "metadata": {},
     "output_type": "execute_result"
    }
   ],
   "source": [
    "significant_results = results_ern[(results_ern['external_score'] > 0.0) & (results_ern['external_p-value'] < 0.07)]\n",
    "significant_results"
   ]
  },
  {
   "cell_type": "markdown",
   "id": "fe71c1e4-ec74-4d09-8b21-d926046decf4",
   "metadata": {},
   "source": [
    "Extract pre-processing pipeline"
   ]
  },
  {
   "cell_type": "code",
   "execution_count": 5,
   "id": "33d290d1-3242-46de-b687-a2a938b0f5b5",
   "metadata": {},
   "outputs": [
    {
     "data": {
      "text/plain": [
       "[('channels_extraction',\n",
       "  PickChannels(channels_list=['Fpz', 'AFz', 'F1', 'Fz', 'F2', 'FCz', 'C1', 'Cz',\n",
       "                              'C2', 'CPz', 'P1', 'Pz', 'P2'])),\n",
       " ('average', Evoked()),\n",
       " ('extract_averaged_data', ExtractData()),\n",
       " ('spatial_filter_preprocessing', SpatialFilterPreprocessing()),\n",
       " ('spatial_filter', PCA(n_components=4, random_state=0)),\n",
       " ('spatial_filter_postprocessing',\n",
       "  SpatialFilterPostprocessing(timepoints_count=181)),\n",
       " ('lowpass_filter', LowpassFilter()),\n",
       " ('binning', BinTransformer()),\n",
       " ('centering', CenteredSignalAfterBaseline3())]"
      ]
     },
     "execution_count": 5,
     "metadata": {},
     "output_type": "execute_result"
    }
   ],
   "source": [
    "pre_processing_pipeline_steps = significant_results['pre_processed_pipeline'].iloc[0].steps\n",
    "pre_processing_pipeline_steps"
   ]
  },
  {
   "cell_type": "code",
   "execution_count": 6,
   "id": "e4fe047d-8697-434e-bab4-36ebe3c20be7",
   "metadata": {},
   "outputs": [
    {
     "data": {
      "text/plain": [
       "[('ern_data_extraction', ErnTransformer()),\n",
       " ('ern_amplitude', ErnAmplitude2()),\n",
       " ('data_channel_swap', ChannelDataSwap()),\n",
       " ('postprocessing', PostprocessingTransformer()),\n",
       " ('scaler', StandardScaler())]"
      ]
     },
     "execution_count": 6,
     "metadata": {},
     "output_type": "execute_result"
    }
   ],
   "source": [
    "post_pca_pipeline_steps = significant_results.best_estimator.iloc[0]['features'].transformer_list[0][1].steps\n",
    "post_pca_pipeline_steps"
   ]
  },
  {
   "cell_type": "code",
   "execution_count": 7,
   "id": "6633cf35-f520-4688-baed-b62ad376fa79",
   "metadata": {},
   "outputs": [],
   "source": [
    "pipeline = Pipeline(pre_processing_pipeline_steps + post_pca_pipeline_steps)"
   ]
  },
  {
   "cell_type": "markdown",
   "id": "dbc724da-4677-4fac-abca-161609f4767d",
   "metadata": {
    "tags": []
   },
   "source": [
    "Read data"
   ]
  },
  {
   "cell_type": "code",
   "execution_count": 8,
   "id": "ec8a538a-fb57-48f5-ab58-6fa85333b86e",
   "metadata": {
    "tags": []
   },
   "outputs": [
    {
     "name": "stdout",
     "output_type": "stream",
     "text": [
      "Pickled file found. Loading pickled data...\n",
      "Done\n"
     ]
    }
   ],
   "source": [
    "df_name = \"go_nogo_100_600_df_3-5_all_scales\"\n",
    "pickled_data_filename = \"../data/responses_100_600_pickled/\" + df_name + \".pkl\"\n",
    "\n",
    "if os.path.isfile(pickled_data_filename):\n",
    "    print(\"Pickled file found. Loading pickled data...\")\n",
    "    epochs_df = pd.read_pickle(pickled_data_filename)\n",
    "    print(\"Done\")\n",
    "    pass\n",
    "else:\n",
    "    print(\"Pickled file not found\")"
   ]
  },
  {
   "cell_type": "code",
   "execution_count": 9,
   "id": "cdd187e5-fb7a-470e-889c-940a014dc5b4",
   "metadata": {
    "tags": []
   },
   "outputs": [],
   "source": [
    "X_train_df = epochs_df"
   ]
  },
  {
   "cell_type": "markdown",
   "id": "90978e2c-1313-4a3f-b5f2-931c932df408",
   "metadata": {},
   "source": [
    "Create X set"
   ]
  },
  {
   "cell_type": "code",
   "execution_count": 15,
   "id": "68eea1f5-cf0b-4bf3-9f6b-5d5d90f74a67",
   "metadata": {},
   "outputs": [
    {
     "name": "stdout",
     "output_type": "stream",
     "text": [
      "(96, 13, 181)\n"
     ]
    },
    {
     "data": {
      "text/plain": [
       "(96, 4)"
      ]
     },
     "execution_count": 15,
     "metadata": {},
     "output_type": "execute_result"
    }
   ],
   "source": [
    "X_train_eeg_features = pipeline.transform(X_train_df)\n",
    "X_train_eeg_features.shape"
   ]
  },
  {
   "cell_type": "code",
   "execution_count": 19,
   "id": "b2c21d1d-0188-4d9a-8f20-bc51f4e4ccd3",
   "metadata": {},
   "outputs": [
    {
     "data": {
      "text/html": [
       "<div>\n",
       "<style scoped>\n",
       "    .dataframe tbody tr th:only-of-type {\n",
       "        vertical-align: middle;\n",
       "    }\n",
       "\n",
       "    .dataframe tbody tr th {\n",
       "        vertical-align: top;\n",
       "    }\n",
       "\n",
       "    .dataframe thead th {\n",
       "        text-align: right;\n",
       "    }\n",
       "</style>\n",
       "<table border=\"1\" class=\"dataframe\">\n",
       "  <thead>\n",
       "    <tr style=\"text-align: right;\">\n",
       "      <th></th>\n",
       "      <th>PCA_1</th>\n",
       "      <th>PCA_2</th>\n",
       "      <th>PCA_3</th>\n",
       "      <th>PCA_4</th>\n",
       "    </tr>\n",
       "  </thead>\n",
       "  <tbody>\n",
       "    <tr>\n",
       "      <th>0</th>\n",
       "      <td>-0.581922</td>\n",
       "      <td>-0.168757</td>\n",
       "      <td>-1.135196</td>\n",
       "      <td>-0.166551</td>\n",
       "    </tr>\n",
       "    <tr>\n",
       "      <th>1</th>\n",
       "      <td>-0.412861</td>\n",
       "      <td>0.141481</td>\n",
       "      <td>0.665357</td>\n",
       "      <td>-0.214526</td>\n",
       "    </tr>\n",
       "    <tr>\n",
       "      <th>2</th>\n",
       "      <td>1.564176</td>\n",
       "      <td>-0.293272</td>\n",
       "      <td>3.371009</td>\n",
       "      <td>1.553244</td>\n",
       "    </tr>\n",
       "    <tr>\n",
       "      <th>3</th>\n",
       "      <td>-1.083597</td>\n",
       "      <td>-0.431022</td>\n",
       "      <td>-0.764672</td>\n",
       "      <td>-1.427828</td>\n",
       "    </tr>\n",
       "    <tr>\n",
       "      <th>4</th>\n",
       "      <td>-0.456852</td>\n",
       "      <td>0.272495</td>\n",
       "      <td>0.019829</td>\n",
       "      <td>-0.216957</td>\n",
       "    </tr>\n",
       "  </tbody>\n",
       "</table>\n",
       "</div>"
      ],
      "text/plain": [
       "      PCA_1     PCA_2     PCA_3     PCA_4\n",
       "0 -0.581922 -0.168757 -1.135196 -0.166551\n",
       "1 -0.412861  0.141481  0.665357 -0.214526\n",
       "2  1.564176 -0.293272  3.371009  1.553244\n",
       "3 -1.083597 -0.431022 -0.764672 -1.427828\n",
       "4 -0.456852  0.272495  0.019829 -0.216957"
      ]
     },
     "execution_count": 19,
     "metadata": {},
     "output_type": "execute_result"
    }
   ],
   "source": [
    "X_df = pd.DataFrame(X_train_eeg_features, columns=['PCA_1','PCA_2', 'PCA_3', 'PCA_4'])\n",
    "X_df.head()"
   ]
  },
  {
   "cell_type": "markdown",
   "id": "1a61a3dc-06d8-4d0a-a989-aabd20c8bfb1",
   "metadata": {},
   "source": [
    "Create y set"
   ]
  },
  {
   "cell_type": "code",
   "execution_count": 20,
   "id": "8e1156e2-fe0c-4096-98ff-5f047b4411d1",
   "metadata": {},
   "outputs": [],
   "source": [
    "rumination = \"16-Rumination Full Scale\"\n",
    "threat = \"15-Obsessional Beliefs - Overestimation of threat\"\n",
    "IU_inhibitory = \"28-Intolerance of Uncertainty - Inhibitory Anxiety\"\n",
    "\n",
    "scales = [\n",
    "    rumination,\n",
    "    threat,\n",
    "    IU_inhibitory,\n",
    "]\n",
    "\n",
    "scales_dict = {\n",
    "    \"16-Rumination Full Scale\": \"RRQ\",\n",
    "    \"15-Obsessional Beliefs - Overestimation of threat\": \"OT\",\n",
    "    \"28-Intolerance of Uncertainty - Inhibitory Anxiety\": \"IUS-I\",\n",
    "}"
   ]
  },
  {
   "cell_type": "code",
   "execution_count": 27,
   "id": "8b6839f4-3e14-46db-acbe-6e001e1012c7",
   "metadata": {},
   "outputs": [
    {
     "data": {
      "text/html": [
       "<div>\n",
       "<style scoped>\n",
       "    .dataframe tbody tr th:only-of-type {\n",
       "        vertical-align: middle;\n",
       "    }\n",
       "\n",
       "    .dataframe tbody tr th {\n",
       "        vertical-align: top;\n",
       "    }\n",
       "\n",
       "    .dataframe thead th {\n",
       "        text-align: right;\n",
       "    }\n",
       "</style>\n",
       "<table border=\"1\" class=\"dataframe\">\n",
       "  <thead>\n",
       "    <tr style=\"text-align: right;\">\n",
       "      <th></th>\n",
       "      <th>RRQ</th>\n",
       "      <th>OT</th>\n",
       "      <th>IUS-I</th>\n",
       "    </tr>\n",
       "  </thead>\n",
       "  <tbody>\n",
       "    <tr>\n",
       "      <th>0</th>\n",
       "      <td>2.17</td>\n",
       "      <td>3.0</td>\n",
       "      <td>1.2</td>\n",
       "    </tr>\n",
       "    <tr>\n",
       "      <th>1</th>\n",
       "      <td>1.33</td>\n",
       "      <td>1.6</td>\n",
       "      <td>1.4</td>\n",
       "    </tr>\n",
       "    <tr>\n",
       "      <th>2</th>\n",
       "      <td>4.25</td>\n",
       "      <td>2.2</td>\n",
       "      <td>2.4</td>\n",
       "    </tr>\n",
       "    <tr>\n",
       "      <th>3</th>\n",
       "      <td>2.67</td>\n",
       "      <td>1.8</td>\n",
       "      <td>1.8</td>\n",
       "    </tr>\n",
       "    <tr>\n",
       "      <th>4</th>\n",
       "      <td>4.58</td>\n",
       "      <td>4.6</td>\n",
       "      <td>2.2</td>\n",
       "    </tr>\n",
       "  </tbody>\n",
       "</table>\n",
       "</div>"
      ],
      "text/plain": [
       "    RRQ   OT  IUS-I\n",
       "0  2.17  3.0    1.2\n",
       "1  1.33  1.6    1.4\n",
       "2  4.25  2.2    2.4\n",
       "3  2.67  1.8    1.8\n",
       "4  4.58  4.6    2.2"
      ]
     },
     "execution_count": 27,
     "metadata": {},
     "output_type": "execute_result"
    }
   ],
   "source": [
    "y_df = X_train_df[scales].rename(columns=scales_dict)\n",
    "y_df.head()"
   ]
  },
  {
   "cell_type": "code",
   "execution_count": 34,
   "id": "0ebddd5d-7aca-4473-ac3b-9a7d1436dc6f",
   "metadata": {},
   "outputs": [],
   "source": [
    "y_df = y_df.fillna(y_df.mean())"
   ]
  },
  {
   "cell_type": "code",
   "execution_count": 42,
   "id": "121e6126-96c5-40e0-bcf8-b3a7e7fbc8b3",
   "metadata": {},
   "outputs": [
    {
     "data": {
      "text/html": [
       "<div>\n",
       "<style scoped>\n",
       "    .dataframe tbody tr th:only-of-type {\n",
       "        vertical-align: middle;\n",
       "    }\n",
       "\n",
       "    .dataframe tbody tr th {\n",
       "        vertical-align: top;\n",
       "    }\n",
       "\n",
       "    .dataframe thead th {\n",
       "        text-align: right;\n",
       "    }\n",
       "</style>\n",
       "<table border=\"1\" class=\"dataframe\">\n",
       "  <thead>\n",
       "    <tr style=\"text-align: right;\">\n",
       "      <th></th>\n",
       "      <th>PCA_1</th>\n",
       "      <th>PCA_2</th>\n",
       "      <th>PCA_3</th>\n",
       "      <th>PCA_4</th>\n",
       "      <th>RRQ</th>\n",
       "      <th>OT</th>\n",
       "      <th>IUS-I</th>\n",
       "    </tr>\n",
       "  </thead>\n",
       "  <tbody>\n",
       "    <tr>\n",
       "      <th>0</th>\n",
       "      <td>-0.581922</td>\n",
       "      <td>-0.168757</td>\n",
       "      <td>-1.135196</td>\n",
       "      <td>-0.166551</td>\n",
       "      <td>2.17</td>\n",
       "      <td>3.0</td>\n",
       "      <td>1.2</td>\n",
       "    </tr>\n",
       "    <tr>\n",
       "      <th>1</th>\n",
       "      <td>-0.412861</td>\n",
       "      <td>0.141481</td>\n",
       "      <td>0.665357</td>\n",
       "      <td>-0.214526</td>\n",
       "      <td>1.33</td>\n",
       "      <td>1.6</td>\n",
       "      <td>1.4</td>\n",
       "    </tr>\n",
       "    <tr>\n",
       "      <th>2</th>\n",
       "      <td>1.564176</td>\n",
       "      <td>-0.293272</td>\n",
       "      <td>3.371009</td>\n",
       "      <td>1.553244</td>\n",
       "      <td>4.25</td>\n",
       "      <td>2.2</td>\n",
       "      <td>2.4</td>\n",
       "    </tr>\n",
       "    <tr>\n",
       "      <th>3</th>\n",
       "      <td>-1.083597</td>\n",
       "      <td>-0.431022</td>\n",
       "      <td>-0.764672</td>\n",
       "      <td>-1.427828</td>\n",
       "      <td>2.67</td>\n",
       "      <td>1.8</td>\n",
       "      <td>1.8</td>\n",
       "    </tr>\n",
       "    <tr>\n",
       "      <th>4</th>\n",
       "      <td>-0.456852</td>\n",
       "      <td>0.272495</td>\n",
       "      <td>0.019829</td>\n",
       "      <td>-0.216957</td>\n",
       "      <td>4.58</td>\n",
       "      <td>4.6</td>\n",
       "      <td>2.2</td>\n",
       "    </tr>\n",
       "  </tbody>\n",
       "</table>\n",
       "</div>"
      ],
      "text/plain": [
       "      PCA_1     PCA_2     PCA_3     PCA_4   RRQ   OT  IUS-I\n",
       "0 -0.581922 -0.168757 -1.135196 -0.166551  2.17  3.0    1.2\n",
       "1 -0.412861  0.141481  0.665357 -0.214526  1.33  1.6    1.4\n",
       "2  1.564176 -0.293272  3.371009  1.553244  4.25  2.2    2.4\n",
       "3 -1.083597 -0.431022 -0.764672 -1.427828  2.67  1.8    1.8\n",
       "4 -0.456852  0.272495  0.019829 -0.216957  4.58  4.6    2.2"
      ]
     },
     "execution_count": 42,
     "metadata": {},
     "output_type": "execute_result"
    }
   ],
   "source": [
    "data_df = pd.concat([X_df, y_df], axis=1)\n",
    "data_df.head()"
   ]
  },
  {
   "cell_type": "markdown",
   "id": "a6727724-8b85-4fe0-9796-3bea3c53b2d3",
   "metadata": {},
   "source": [
    "### CCA"
   ]
  },
  {
   "cell_type": "code",
   "execution_count": 36,
   "id": "f2264308-433f-4acb-a3c8-96b4c2f584f7",
   "metadata": {},
   "outputs": [
    {
     "data": {
      "text/plain": [
       "CCA()"
      ]
     },
     "execution_count": 36,
     "metadata": {},
     "output_type": "execute_result"
    }
   ],
   "source": [
    "# Instantiate the Canonical Correlation Analysis with 2 components\n",
    "cca = CCA(n_components=2)\n",
    "\n",
    "# Fit the model\n",
    "cca.fit(X_df, y_df)"
   ]
  },
  {
   "cell_type": "code",
   "execution_count": 50,
   "id": "fccda5b6-f757-4a1a-aaf3-8b6d5746f5be",
   "metadata": {},
   "outputs": [
    {
     "data": {
      "image/png": "[encoded data removed]",
      "text/plain": [
       "<Figure size 1080x1080 with 1 Axes>"
      ]
     },
     "metadata": {
      "needs_background": "light"
     },
     "output_type": "display_data"
    }
   ],
   "source": [
    "# Obtain the rotation matrices\n",
    "xrot = cca.x_rotations_ \n",
    "yrot = cca.y_rotations_ \n",
    "\n",
    "# Put them together in a numpy matrix\n",
    "xyrot = np.vstack((xrot,yrot))\n",
    "\n",
    "nvariables = xyrot.shape[0]\n",
    "\n",
    "plt.figure(figsize=(15, 15))\n",
    "plt.xlim((-1,1))\n",
    "plt.ylim((-1,1))\n",
    "\n",
    "# Plot an arrow and a text label for each variable\n",
    "for var_i in range(nvariables):\n",
    "    x = xyrot[var_i,0]\n",
    "    y = xyrot[var_i,1]\n",
    "\n",
    "    plt.arrow(0,0,x,y)\n",
    "    plt.text(x,y,data_df.columns[var_i], color='red' if var_i >= 4 else 'blue')\n",
    "\n",
    "plt.show()"
   ]
  },
  {
   "cell_type": "markdown",
   "id": "3f5c66de",
   "metadata": {},
   "source": [
    "## Compute ERN and Pe components scores"
   ]
  },
  {
   "cell_type": "markdown",
   "id": "65c0cad2",
   "metadata": {},
   "source": [
    "### 1. Extract data pre-processing pipeliens for ERn and Pe"
   ]
  },
  {
   "cell_type": "markdown",
   "id": "5b9a6add-d60f-4cf3-8ec5-89b0c7e176fe",
   "metadata": {},
   "source": [
    "#### Extract post-PCA pipeline for ERN"
   ]
  },
  {
   "cell_type": "code",
   "execution_count": 5,
   "id": "f1fb66bf-1547-4f7c-8746-6b5e7c4cd214",
   "metadata": {
    "scrolled": true
   },
   "outputs": [
    {
     "data": {
      "text/html": [
       "<style>#sk-container-id-1 {color: black;background-color: white;}#sk-container-id-1 pre{padding: 0;}#sk-container-id-1 div.sk-toggleable {background-color: white;}#sk-container-id-1 label.sk-toggleable__label {cursor: pointer;display: block;width: 100%;margin-bottom: 0;padding: 0.3em;box-sizing: border-box;text-align: center;}#sk-container-id-1 label.sk-toggleable__label-arrow:before {content: \"▸\";float: left;margin-right: 0.25em;color: #696969;}#sk-container-id-1 label.sk-toggleable__label-arrow:hover:before {color: black;}#sk-container-id-1 div.sk-estimator:hover label.sk-toggleable__label-arrow:before {color: black;}#sk-container-id-1 div.sk-toggleable__content {max-height: 0;max-width: 0;overflow: hidden;text-align: left;background-color: #f0f8ff;}#sk-container-id-1 div.sk-toggleable__content pre {margin: 0.2em;color: black;border-radius: 0.25em;background-color: #f0f8ff;}#sk-container-id-1 input.sk-toggleable__control:checked~div.sk-toggleable__content {max-height: 200px;max-width: 100%;overflow: auto;}#sk-container-id-1 input.sk-toggleable__control:checked~label.sk-toggleable__label-arrow:before {content: \"▾\";}#sk-container-id-1 div.sk-estimator input.sk-toggleable__control:checked~label.sk-toggleable__label {background-color: #d4ebff;}#sk-container-id-1 div.sk-label input.sk-toggleable__control:checked~label.sk-toggleable__label {background-color: #d4ebff;}#sk-container-id-1 input.sk-hidden--visually {border: 0;clip: rect(1px 1px 1px 1px);clip: rect(1px, 1px, 1px, 1px);height: 1px;margin: -1px;overflow: hidden;padding: 0;position: absolute;width: 1px;}#sk-container-id-1 div.sk-estimator {font-family: monospace;background-color: #f0f8ff;border: 1px dotted black;border-radius: 0.25em;box-sizing: border-box;margin-bottom: 0.5em;}#sk-container-id-1 div.sk-estimator:hover {background-color: #d4ebff;}#sk-container-id-1 div.sk-parallel-item::after {content: \"\";width: 100%;border-bottom: 1px solid gray;flex-grow: 1;}#sk-container-id-1 div.sk-label:hover label.sk-toggleable__label {background-color: #d4ebff;}#sk-container-id-1 div.sk-serial::before {content: \"\";position: absolute;border-left: 1px solid gray;box-sizing: border-box;top: 0;bottom: 0;left: 50%;z-index: 0;}#sk-container-id-1 div.sk-serial {display: flex;flex-direction: column;align-items: center;background-color: white;padding-right: 0.2em;padding-left: 0.2em;position: relative;}#sk-container-id-1 div.sk-item {position: relative;z-index: 1;}#sk-container-id-1 div.sk-parallel {display: flex;align-items: stretch;justify-content: center;background-color: white;position: relative;}#sk-container-id-1 div.sk-item::before, #sk-container-id-1 div.sk-parallel-item::before {content: \"\";position: absolute;border-left: 1px solid gray;box-sizing: border-box;top: 0;bottom: 0;left: 50%;z-index: -1;}#sk-container-id-1 div.sk-parallel-item {display: flex;flex-direction: column;z-index: 1;position: relative;background-color: white;}#sk-container-id-1 div.sk-parallel-item:first-child::after {align-self: flex-end;width: 50%;}#sk-container-id-1 div.sk-parallel-item:last-child::after {align-self: flex-start;width: 50%;}#sk-container-id-1 div.sk-parallel-item:only-child::after {width: 0;}#sk-container-id-1 div.sk-dashed-wrapped {border: 1px dashed gray;margin: 0 0.4em 0.5em 0.4em;box-sizing: border-box;padding-bottom: 0.4em;background-color: white;}#sk-container-id-1 div.sk-label label {font-family: monospace;font-weight: bold;display: inline-block;line-height: 1.2em;}#sk-container-id-1 div.sk-label-container {text-align: center;}#sk-container-id-1 div.sk-container {/* jupyter's `normalize.less` sets `[hidden] { display: none; }` but bootstrap.min.css set `[hidden] { display: none !important; }` so we also need the `!important` here to be able to override the default hidden behavior on the sphinx rendered scikit-learn.org. See: https://github.com/scikit-learn/scikit-learn/issues/21755 */display: inline-block !important;position: relative;}#sk-container-id-1 div.sk-text-repr-fallback {display: none;}</style><div id=\"sk-container-id-1\" class=\"sk-top-container\"><div class=\"sk-text-repr-fallback\"><pre>Pipeline(steps=[(&#x27;ern_data_extraction&#x27;, ErnTransformer()),\n",
       "                (&#x27;ern_amplitude&#x27;, ErnAmplitude2()),\n",
       "                (&#x27;data_channel_swap&#x27;, ChannelDataSwap()),\n",
       "                (&#x27;postprocessing&#x27;, PostprocessingTransformer())])</pre><b>In a Jupyter environment, please rerun this cell to show the HTML representation or trust the notebook. <br />On GitHub, the HTML representation is unable to render, please try loading this page with nbviewer.org.</b></div><div class=\"sk-container\" hidden><div class=\"sk-item sk-dashed-wrapped\"><div class=\"sk-label-container\"><div class=\"sk-label sk-toggleable\"><input class=\"sk-toggleable__control sk-hidden--visually\" id=\"sk-estimator-id-1\" type=\"checkbox\" ><label for=\"sk-estimator-id-1\" class=\"sk-toggleable__label sk-toggleable__label-arrow\">Pipeline</label><div class=\"sk-toggleable__content\"><pre>Pipeline(steps=[(&#x27;ern_data_extraction&#x27;, ErnTransformer()),\n",
       "                (&#x27;ern_amplitude&#x27;, ErnAmplitude2()),\n",
       "                (&#x27;data_channel_swap&#x27;, ChannelDataSwap()),\n",
       "                (&#x27;postprocessing&#x27;, PostprocessingTransformer())])</pre></div></div></div><div class=\"sk-serial\"><div class=\"sk-item\"><div class=\"sk-estimator sk-toggleable\"><input class=\"sk-toggleable__control sk-hidden--visually\" id=\"sk-estimator-id-2\" type=\"checkbox\" ><label for=\"sk-estimator-id-2\" class=\"sk-toggleable__label sk-toggleable__label-arrow\">ErnTransformer</label><div class=\"sk-toggleable__content\"><pre>ErnTransformer()</pre></div></div></div><div class=\"sk-item\"><div class=\"sk-estimator sk-toggleable\"><input class=\"sk-toggleable__control sk-hidden--visually\" id=\"sk-estimator-id-3\" type=\"checkbox\" ><label for=\"sk-estimator-id-3\" class=\"sk-toggleable__label sk-toggleable__label-arrow\">ErnAmplitude2</label><div class=\"sk-toggleable__content\"><pre>ErnAmplitude2()</pre></div></div></div><div class=\"sk-item\"><div class=\"sk-estimator sk-toggleable\"><input class=\"sk-toggleable__control sk-hidden--visually\" id=\"sk-estimator-id-4\" type=\"checkbox\" ><label for=\"sk-estimator-id-4\" class=\"sk-toggleable__label sk-toggleable__label-arrow\">ChannelDataSwap</label><div class=\"sk-toggleable__content\"><pre>ChannelDataSwap()</pre></div></div></div><div class=\"sk-item\"><div class=\"sk-estimator sk-toggleable\"><input class=\"sk-toggleable__control sk-hidden--visually\" id=\"sk-estimator-id-5\" type=\"checkbox\" ><label for=\"sk-estimator-id-5\" class=\"sk-toggleable__label sk-toggleable__label-arrow\">PostprocessingTransformer</label><div class=\"sk-toggleable__content\"><pre>PostprocessingTransformer()</pre></div></div></div></div></div></div></div>"
      ],
      "text/plain": [
       "Pipeline(steps=[('ern_data_extraction', ErnTransformer()),\n",
       "                ('ern_amplitude', ErnAmplitude2()),\n",
       "                ('data_channel_swap', ChannelDataSwap()),\n",
       "                ('postprocessing', PostprocessingTransformer())])"
      ]
     },
     "execution_count": 5,
     "metadata": {},
     "output_type": "execute_result"
    }
   ],
   "source": [
    "last_steps_pipeline_ern = results_ern.best_estimator.iloc[0]['features'].transformer_list[0][1][:-1]\n",
    "last_steps_pipeline_ern"
   ]
  },
  {
   "cell_type": "markdown",
   "id": "39620d3e",
   "metadata": {},
   "source": [
    "#### Extract post-PCA pipeline for Pe"
   ]
  },
  {
   "cell_type": "code",
   "execution_count": 5,
   "id": "93b886b2",
   "metadata": {},
   "outputs": [
    {
     "data": {
      "text/plain": [
       "Pipeline(steps=[('pe_data_extraction', PeTransformer(stop_pe_bin=9)),\n",
       "                ('pe_amplitude', PeAmplitude2()),\n",
       "                ('data_channel_swap', ChannelDataSwap()),\n",
       "                ('postprocessing', PostprocessingTransformer())])"
      ]
     },
     "execution_count": 5,
     "metadata": {},
     "output_type": "execute_result"
    }
   ],
   "source": [
    "last_steps_pipeline_pe = results_pe.best_estimator.iloc[0]['features'].transformer_list[0][1][:-1]\n",
    "last_steps_pipeline_pe"
   ]
  },
  {
   "cell_type": "markdown",
   "id": "342f3375-cf8b-4045-ae59-e0e7f52fa9f6",
   "metadata": {},
   "source": [
    "#### Extract PCA-pipeline for both ERN ROIs"
   ]
  },
  {
   "cell_type": "code",
   "execution_count": 6,
   "id": "d71625f8-a4ba-4936-93cf-fbfc62be83d5",
   "metadata": {
    "scrolled": true
   },
   "outputs": [
    {
     "name": "stdout",
     "output_type": "stream",
     "text": [
      "Pipeline(steps=[('channels_extraction',\n",
      "                 PickChannels(channels_list=['Fpz', 'AFz', 'Fz', 'FCz', 'Cz',\n",
      "                                             'CPz', 'P1', 'Pz', 'P2'])),\n",
      "                ('average', Evoked()), ('extract_averaged_data', ExtractData()),\n",
      "                ('spatial_filter_preprocessing', SpatialFilterPreprocessing()),\n",
      "                ('spatial_filter', PCA(n_components=4, random_state=0)),\n",
      "                ('spatial_filter_postprocessing',\n",
      "                 SpatialFilterPostprocessing(timepoints_count=181)),\n",
      "                ('lowpass_filter', LowpassFilter()),\n",
      "                ('binning', BinTransformer()),\n",
      "                ('centering', CenteredSignalAfterBaseline3())])\n",
      "['Fpz', 'AFz', 'Fz', 'FCz', 'Cz', 'CPz', 'P1', 'Pz', 'P2']\n"
     ]
    }
   ],
   "source": [
    "# ROI 1\n",
    "roi_1_pipeline = results_ern.pre_processed_pipeline.iloc[9]\n",
    "roi_1 = roi_1_pipeline['channels_extraction'].channels_list\n",
    "\n",
    "print(roi_1_pipeline)\n",
    "print(roi_1)"
   ]
  },
  {
   "cell_type": "code",
   "execution_count": 7,
   "id": "fde1ad87-6128-47f6-af1c-00c4468472ec",
   "metadata": {},
   "outputs": [
    {
     "name": "stdout",
     "output_type": "stream",
     "text": [
      "Pipeline(steps=[('channels_extraction',\n",
      "                 PickChannels(channels_list=['Fpz', 'AFz', 'F1', 'Fz', 'F2',\n",
      "                                             'FCz', 'C1', 'Cz', 'C2', 'CPz',\n",
      "                                             'P1', 'Pz', 'P2'])),\n",
      "                ('average', Evoked()), ('extract_averaged_data', ExtractData()),\n",
      "                ('spatial_filter_preprocessing', SpatialFilterPreprocessing()),\n",
      "                ('spatial_filter', PCA(n_components=4, random_state=0)),\n",
      "                ('spatial_filter_postprocessing',\n",
      "                 SpatialFilterPostprocessing(timepoints_count=181)),\n",
      "                ('lowpass_filter', LowpassFilter()),\n",
      "                ('binning', BinTransformer()),\n",
      "                ('centering', CenteredSignalAfterBaseline3())])\n",
      "['Fpz', 'AFz', 'F1', 'Fz', 'F2', 'FCz', 'C1', 'Cz', 'C2', 'CPz', 'P1', 'Pz', 'P2']\n"
     ]
    }
   ],
   "source": [
    "# ROI 2\n",
    "roi_2_pipeline = results_ern.pre_processed_pipeline.iloc[15]\n",
    "roi_2 = roi_2_pipeline['channels_extraction'].channels_list\n",
    "\n",
    "print(roi_2_pipeline)\n",
    "print(roi_2)"
   ]
  },
  {
   "cell_type": "markdown",
   "id": "756347aa",
   "metadata": {},
   "source": [
    "#### Extract PCA-pipeline for both Pe ROIs"
   ]
  },
  {
   "cell_type": "code",
   "execution_count": 8,
   "id": "be6b8efa",
   "metadata": {},
   "outputs": [
    {
     "name": "stdout",
     "output_type": "stream",
     "text": [
      "Pipeline(steps=[('channels_extraction',\n",
      "                 PickChannels(channels_list=['Fpz', 'AFz', 'Fz', 'FCz', 'C1',\n",
      "                                             'Cz', 'C2', 'CPz', 'P1', 'Pz',\n",
      "                                             'P2'])),\n",
      "                ('average', Evoked()), ('extract_averaged_data', ExtractData()),\n",
      "                ('spatial_filter_preprocessing', SpatialFilterPreprocessing()),\n",
      "                ('spatial_filter', PCA(n_components=4, random_state=0)),\n",
      "                ('spatial_filter_postprocessing',\n",
      "                 SpatialFilterPostprocessing(timepoints_count=181)),\n",
      "                ('lowpass_filter', LowpassFilter()),\n",
      "                ('binning', BinTransformer()), ('baseline', ErnBaselined()),\n",
      "                ('centering', CenteredSignalAfterBaseline3())])\n",
      "['Fpz', 'AFz', 'Fz', 'FCz', 'C1', 'Cz', 'C2', 'CPz', 'P1', 'Pz', 'P2']\n"
     ]
    }
   ],
   "source": [
    "# ROI 3\n",
    "roi_3_pipeline = results_pe.pre_processed_pipeline.iloc[13]\n",
    "roi_3 = roi_3_pipeline['channels_extraction'].channels_list\n",
    "\n",
    "print(roi_3_pipeline)\n",
    "print(roi_3)"
   ]
  },
  {
   "cell_type": "code",
   "execution_count": 9,
   "id": "03ff0289",
   "metadata": {},
   "outputs": [
    {
     "name": "stdout",
     "output_type": "stream",
     "text": [
      "Pipeline(steps=[('channels_extraction',\n",
      "                 PickChannels(channels_list=['Fpz', 'AFz', 'F1', 'Fz', 'F2',\n",
      "                                             'FC1', 'FCz', 'FC2', 'C1', 'Cz',\n",
      "                                             'C2', 'CP1', 'CPz', 'CP2', 'P1',\n",
      "                                             'Pz', 'P2'])),\n",
      "                ('average', Evoked()), ('extract_averaged_data', ExtractData()),\n",
      "                ('spatial_filter_preprocessing', SpatialFilterPreprocessing()),\n",
      "                ('spatial_filter', PCA(n_components=4, random_state=0)),\n",
      "                ('spatial_filter_postprocessing',\n",
      "                 SpatialFilterPostprocessing(timepoints_count=181)),\n",
      "                ('lowpass_filter', LowpassFilter()),\n",
      "                ('binning', BinTransformer()), ('baseline', ErnBaselined()),\n",
      "                ('centering', CenteredSignalAfterBaseline3())])\n",
      "['Fpz', 'AFz', 'F1', 'Fz', 'F2', 'FC1', 'FCz', 'FC2', 'C1', 'Cz', 'C2', 'CP1', 'CPz', 'CP2', 'P1', 'Pz', 'P2']\n"
     ]
    }
   ],
   "source": [
    "# ROI 4\n",
    "roi_4_pipeline = results_pe.pre_processed_pipeline.iloc[1]\n",
    "roi_4 = roi_4_pipeline['channels_extraction'].channels_list\n",
    "\n",
    "print(roi_4_pipeline)\n",
    "print(roi_4)"
   ]
  },
  {
   "cell_type": "markdown",
   "id": "26982b6d-b1a1-423b-a7e7-2ae938d4d594",
   "metadata": {},
   "source": [
    "### 2. Read the data"
   ]
  },
  {
   "cell_type": "markdown",
   "id": "5bb9a799-8132-42d4-b937-aae1047fb84c",
   "metadata": {
    "tags": []
   },
   "source": [
    "The train data"
   ]
  },
  {
   "cell_type": "code",
   "execution_count": 10,
   "id": "26b79de8-796f-4d36-949b-2e65f4d93eb2",
   "metadata": {
    "tags": []
   },
   "outputs": [
    {
     "name": "stdout",
     "output_type": "stream",
     "text": [
      "Pickled file found. Loading pickled data...\n",
      "Done\n"
     ]
    }
   ],
   "source": [
    "df_name = \"go_nogo_100_600_df_3-5_all_scales\"\n",
    "pickled_data_filename = \"../data/responses_100_600_pickled/\" + df_name + \".pkl\"\n",
    "info_filename = \"../data/scales/all_scales.csv\"\n",
    "\n",
    "if os.path.isfile(pickled_data_filename):\n",
    "    print(\"Pickled file found. Loading pickled data...\")\n",
    "    epochs_df = pd.read_pickle(pickled_data_filename)\n",
    "    print(\"Done\")\n",
    "    pass\n",
    "else:\n",
    "    print(\"Pickled file not found\")"
   ]
  },
  {
   "cell_type": "code",
   "execution_count": 11,
   "id": "fce9a7b2-443d-4046-bc1d-d496e5bffe5a",
   "metadata": {
    "tags": []
   },
   "outputs": [],
   "source": [
    "X_train_df = epochs_df"
   ]
  },
  {
   "cell_type": "markdown",
   "id": "cdba2044-8cc3-4d97-a475-4e3b3f55d8ab",
   "metadata": {
    "tags": []
   },
   "source": [
    "The test data"
   ]
  },
  {
   "cell_type": "code",
   "execution_count": 12,
   "id": "dd19c830-1b09-4cf8-9b59-0a665b229554",
   "metadata": {
    "collapsed": true,
    "jupyter": {
     "outputs_hidden": true
    },
    "tags": []
   },
   "outputs": [
    {
     "name": "stdout",
     "output_type": "stream",
     "text": [
      "Pickled file found. Loading pickled data...\n",
      "Done\n"
     ]
    }
   ],
   "source": [
    "df_name = 'go_nogo_100_600_test_df_3-5_all_scales'\n",
    "pickled_data_filename = \"../data/responses_100_600_pickled/\" + df_name + \".pkl\"\n",
    "info_filename = \"../data/scales/all_scales.csv\"\n",
    "\n",
    "if os.path.isfile(pickled_data_filename):\n",
    "    print(\"Pickled file found. Loading pickled data...\")\n",
    "    epochs_df = pd.read_pickle(pickled_data_filename)\n",
    "    print(\"Done\")\n",
    "    pass\n",
    "else:\n",
    "    print(\"Pickled file not found\")"
   ]
  },
  {
   "cell_type": "code",
   "execution_count": 13,
   "id": "d01d24d1-0749-4461-8f61-c023b35c2466",
   "metadata": {
    "tags": []
   },
   "outputs": [],
   "source": [
    "X_test_df = epochs_df"
   ]
  },
  {
   "cell_type": "markdown",
   "id": "92d00df6-9d28-46b4-9e6a-8cfaf1e12552",
   "metadata": {},
   "source": [
    "### 3. Apply pre-processing pipelines to data and compute statistics: mean and SD of scores"
   ]
  },
  {
   "cell_type": "code",
   "execution_count": 14,
   "id": "4d04cf49",
   "metadata": {},
   "outputs": [],
   "source": [
    "results_df = pd.DataFrame()"
   ]
  },
  {
   "cell_type": "code",
   "execution_count": 15,
   "id": "00267d6a-b98b-4d5b-9007-7e80fd97b86e",
   "metadata": {
    "scrolled": true
   },
   "outputs": [
    {
     "name": "stdout",
     "output_type": "stream",
     "text": [
      "---- DATASET: train-----------\n",
      "(96, 9, 181)\n",
      "(96, 13, 181)\n",
      "(96, 11, 181)\n",
      "(96, 17, 181)\n",
      "---- ROI 1\n",
      "---- PCA 1\n",
      " MEAN: 1.8953602928889747e-05\n",
      " SD: 1.0562940025190903e-05\n",
      "\n",
      "---- PCA 2\n",
      " MEAN: 1.1845588662262889e-05\n",
      " SD: 6.89601125647799e-06\n",
      "\n",
      "---- PCA 3\n",
      " MEAN: 6.042230898537439e-06\n",
      " SD: 3.115857273079911e-06\n",
      "\n",
      "---- PCA 4\n",
      " MEAN: 2.102309718395574e-06\n",
      " SD: 1.1593810121973813e-06\n",
      "\n",
      "---- ROI 2\n",
      "---- PCA 1\n",
      " MEAN: 2.4324090350905986e-05\n",
      " SD: 1.3607232178584808e-05\n",
      "\n",
      "---- PCA 2\n",
      " MEAN: 1.2994118919941206e-05\n",
      " SD: 7.699727379038759e-06\n",
      "\n",
      "---- PCA 3\n",
      " MEAN: 6.090104292145985e-06\n",
      " SD: 3.269377585271518e-06\n",
      "\n",
      "---- PCA 4\n",
      " MEAN: 2.4620134524185194e-06\n",
      " SD: 1.400189878581368e-06\n",
      "\n",
      "---- ROI 3\n",
      "---- PCA 1\n",
      " MEAN: 4.428561129222968e-05\n",
      " SD: 1.909256875971781e-05\n",
      "\n",
      "---- PCA 2\n",
      " MEAN: 1.1260718840475782e-05\n",
      " SD: 5.460446614857752e-06\n",
      "\n",
      "---- PCA 3\n",
      " MEAN: 6.568368335157186e-06\n",
      " SD: 3.296254396448207e-06\n",
      "\n",
      "---- PCA 4\n",
      " MEAN: 2.7183267475472265e-06\n",
      " SD: 1.5557452591412552e-06\n",
      "\n",
      "---- ROI 4\n",
      "---- PCA 1\n",
      " MEAN: 5.625392113278409e-05\n",
      " SD: 2.3591132383806078e-05\n",
      "\n",
      "---- PCA 2\n",
      " MEAN: 1.4000756416988124e-05\n",
      " SD: 6.7885474570098705e-06\n",
      "\n",
      "---- PCA 3\n",
      " MEAN: 6.795445630500438e-06\n",
      " SD: 3.5120357202183426e-06\n",
      "\n",
      "---- PCA 4\n",
      " MEAN: 3.0838838523094483e-06\n",
      " SD: 1.5096648681368858e-06\n",
      "\n",
      "---- DATASET: test-----------\n",
      "(34, 9, 181)\n",
      "(34, 13, 181)\n",
      "(34, 11, 181)\n",
      "(34, 17, 181)\n",
      "---- ROI 1\n",
      "---- PCA 1\n",
      " MEAN: 1.8355619211531143e-05\n",
      " SD: 9.662242964461435e-06\n",
      "\n",
      "---- PCA 2\n",
      " MEAN: 8.927976141775666e-06\n",
      " SD: 4.27401103531736e-06\n",
      "\n",
      "---- PCA 3\n",
      " MEAN: 5.96086736889814e-06\n",
      " SD: 2.7733041160989973e-06\n",
      "\n",
      "---- PCA 4\n",
      " MEAN: 1.8497737237120198e-06\n",
      " SD: 1.0418668536416479e-06\n",
      "\n",
      "---- ROI 2\n",
      "---- PCA 1\n",
      " MEAN: 2.3260091189903567e-05\n",
      " SD: 1.2713468533152453e-05\n",
      "\n",
      "---- PCA 2\n",
      " MEAN: 9.850757485383146e-06\n",
      " SD: 4.984032632236027e-06\n",
      "\n",
      "---- PCA 3\n",
      " MEAN: 6.132158624744148e-06\n",
      " SD: 2.7470395038561855e-06\n",
      "\n",
      "---- PCA 4\n",
      " MEAN: 2.045251151695891e-06\n",
      " SD: 1.1720089073539386e-06\n",
      "\n",
      "---- ROI 3\n",
      "---- PCA 1\n",
      " MEAN: 4.108193315508635e-05\n",
      " SD: 1.3799025438918756e-05\n",
      "\n",
      "---- PCA 2\n",
      " MEAN: 9.718143784591275e-06\n",
      " SD: 4.971598524910789e-06\n",
      "\n",
      "---- PCA 3\n",
      " MEAN: 6.326544186556589e-06\n",
      " SD: 2.852347403824387e-06\n",
      "\n",
      "---- PCA 4\n",
      " MEAN: 2.3436183583404846e-06\n",
      " SD: 1.137322547166105e-06\n",
      "\n",
      "---- ROI 4\n",
      "---- PCA 1\n",
      " MEAN: 5.22828898952031e-05\n",
      " SD: 1.7225225730583197e-05\n",
      "\n",
      "---- PCA 2\n",
      " MEAN: 1.188004264599621e-05\n",
      " SD: 5.731887389637198e-06\n",
      "\n",
      "---- PCA 3\n",
      " MEAN: 6.567065777424068e-06\n",
      " SD: 2.990556597480842e-06\n",
      "\n",
      "---- PCA 4\n",
      " MEAN: 2.7447467307291853e-06\n",
      " SD: 1.1501854423888427e-06\n",
      "\n"
     ]
    }
   ],
   "source": [
    "for item in {\"train\": X_train_df, \"test\": X_test_df}.items():\n",
    "    \n",
    "    dataset_name = item[0]\n",
    "    dataset = item[1]\n",
    "    \n",
    "    print(f\"---- DATASET: {dataset_name}-----------\")\n",
    "        \n",
    "    # ROI 1\n",
    "    X_df_copy = pd.DataFrame(copy.deepcopy(dataset.to_dict()))\n",
    "\n",
    "    X_roi_1_mid = roi_1_pipeline.transform(X_df_copy)\n",
    "    X_roi_1 = last_steps_pipeline_ern.transform(X_roi_1_mid)\n",
    "\n",
    "    # ROI 2\n",
    "    X_df_copy = pd.DataFrame(copy.deepcopy(dataset.to_dict()))\n",
    "\n",
    "    X_roi_2_mid = roi_2_pipeline.transform(X_df_copy)\n",
    "    X_roi_2 = last_steps_pipeline_ern.transform(X_roi_2_mid)\n",
    "    \n",
    "    # ROI 3\n",
    "    X_df_copy = pd.DataFrame(copy.deepcopy(dataset.to_dict()))\n",
    "\n",
    "    X_roi_3_mid = roi_3_pipeline.transform(X_df_copy)\n",
    "    X_roi_3 = last_steps_pipeline_pe.transform(X_roi_3_mid)\n",
    "\n",
    "    # ROI 4\n",
    "    X_df_copy = pd.DataFrame(copy.deepcopy(dataset.to_dict()))\n",
    "\n",
    "    X_roi_4_mid = roi_4_pipeline.transform(X_df_copy)\n",
    "    X_roi_4 = last_steps_pipeline_pe.transform(X_roi_4_mid)\n",
    "    \n",
    "\n",
    "    \n",
    "    print(f\"---- ROI 1\")\n",
    "\n",
    "    for i in range(0,4):\n",
    "        this_result = pd.DataFrame({\n",
    "            'dataset': [dataset_name],\n",
    "            'ROI': 1,\n",
    "            'component_num': [i+1],\n",
    "            'mean': [np.mean(X_roi_1[:,i])],\n",
    "            'sd': [np.std(X_roi_1[:,i])]\n",
    "        }) \n",
    "\n",
    "        results_df = results_df.append(this_result, ignore_index=True)\n",
    "        \n",
    "        print(f\"---- PCA {i+1}\\n MEAN: {np.mean(X_roi_1[:,i])}\\n SD: {np.std(X_roi_1[:,i])}\\n\")\n",
    "        \n",
    "##########################################\n",
    "\n",
    "    print(f\"---- ROI 2\")\n",
    "\n",
    "    for i in range(0,4):\n",
    "        this_result = pd.DataFrame({\n",
    "            'dataset': [dataset_name],\n",
    "            'ROI': 2,\n",
    "            'component_num': [i+1],\n",
    "            'mean': [np.mean(X_roi_2[:,i])],\n",
    "            'sd': [np.std(X_roi_2[:,i])]\n",
    "        }) \n",
    "\n",
    "        results_df = results_df.append(this_result, ignore_index=True)\n",
    "        \n",
    "        print(f\"---- PCA {i+1}\\n MEAN: {np.mean(X_roi_2[:,i])}\\n SD: {np.std(X_roi_2[:,i])}\\n\")\n",
    "\n",
    "##########################################\n",
    "\n",
    "        \n",
    "    print(f\"---- ROI 3\")\n",
    "\n",
    "    for i in range(0,4):\n",
    "        this_result = pd.DataFrame({\n",
    "            'dataset': [dataset_name],\n",
    "            'ROI': 3,\n",
    "            'component_num': [i+1],\n",
    "            'mean': [np.mean(X_roi_3[:,i])],\n",
    "            'sd': [np.std(X_roi_3[:,i])]\n",
    "        }) \n",
    "\n",
    "        results_df = results_df.append(this_result, ignore_index=True)\n",
    "        \n",
    "        print(f\"---- PCA {i+1}\\n MEAN: {np.mean(X_roi_3[:,i])}\\n SD: {np.std(X_roi_3[:,i])}\\n\")\n",
    "\n",
    "##########################################\n",
    "\n",
    "    print(f\"---- ROI 4\")\n",
    "\n",
    "    for i in range(0,4):\n",
    "        this_result = pd.DataFrame({\n",
    "            'dataset': [dataset_name],\n",
    "            'ROI': 4,\n",
    "            'component_num': [i+1],\n",
    "            'mean': [np.mean(X_roi_4[:,i])],\n",
    "            'sd': [np.std(X_roi_4[:,i])]\n",
    "        }) \n",
    "\n",
    "        results_df = results_df.append(this_result, ignore_index=True)\n",
    "        \n",
    "        print(f\"---- PCA {i+1}\\n MEAN: {np.mean(X_roi_4[:,i])}\\n SD: {np.std(X_roi_4[:,i])}\\n\")"
   ]
  },
  {
   "cell_type": "code",
   "execution_count": 127,
   "id": "128970ff-29ae-42df-a904-ac842bd1198b",
   "metadata": {},
   "outputs": [
    {
     "data": {
      "text/html": [
       "<div>\n",
       "<style scoped>\n",
       "    .dataframe tbody tr th:only-of-type {\n",
       "        vertical-align: middle;\n",
       "    }\n",
       "\n",
       "    .dataframe tbody tr th {\n",
       "        vertical-align: top;\n",
       "    }\n",
       "\n",
       "    .dataframe thead th {\n",
       "        text-align: right;\n",
       "    }\n",
       "</style>\n",
       "<table border=\"1\" class=\"dataframe\">\n",
       "  <thead>\n",
       "    <tr style=\"text-align: right;\">\n",
       "      <th></th>\n",
       "      <th></th>\n",
       "      <th></th>\n",
       "      <th>mean</th>\n",
       "      <th>sd</th>\n",
       "    </tr>\n",
       "    <tr>\n",
       "      <th>dataset</th>\n",
       "      <th>ROI</th>\n",
       "      <th>component_num</th>\n",
       "      <th></th>\n",
       "      <th></th>\n",
       "    </tr>\n",
       "  </thead>\n",
       "  <tbody>\n",
       "    <tr>\n",
       "      <th rowspan=\"16\" valign=\"top\">train</th>\n",
       "      <th rowspan=\"4\" valign=\"top\">1</th>\n",
       "      <th>1</th>\n",
       "      <td>0.000019</td>\n",
       "      <td>0.000011</td>\n",
       "    </tr>\n",
       "    <tr>\n",
       "      <th>2</th>\n",
       "      <td>0.000012</td>\n",
       "      <td>0.000007</td>\n",
       "    </tr>\n",
       "    <tr>\n",
       "      <th>3</th>\n",
       "      <td>0.000006</td>\n",
       "      <td>0.000003</td>\n",
       "    </tr>\n",
       "    <tr>\n",
       "      <th>4</th>\n",
       "      <td>0.000002</td>\n",
       "      <td>0.000001</td>\n",
       "    </tr>\n",
       "    <tr>\n",
       "      <th rowspan=\"4\" valign=\"top\">2</th>\n",
       "      <th>1</th>\n",
       "      <td>0.000024</td>\n",
       "      <td>0.000014</td>\n",
       "    </tr>\n",
       "    <tr>\n",
       "      <th>2</th>\n",
       "      <td>0.000013</td>\n",
       "      <td>0.000008</td>\n",
       "    </tr>\n",
       "    <tr>\n",
       "      <th>3</th>\n",
       "      <td>0.000006</td>\n",
       "      <td>0.000003</td>\n",
       "    </tr>\n",
       "    <tr>\n",
       "      <th>4</th>\n",
       "      <td>0.000002</td>\n",
       "      <td>0.000001</td>\n",
       "    </tr>\n",
       "    <tr>\n",
       "      <th rowspan=\"4\" valign=\"top\">3</th>\n",
       "      <th>1</th>\n",
       "      <td>0.000044</td>\n",
       "      <td>0.000019</td>\n",
       "    </tr>\n",
       "    <tr>\n",
       "      <th>2</th>\n",
       "      <td>0.000011</td>\n",
       "      <td>0.000005</td>\n",
       "    </tr>\n",
       "    <tr>\n",
       "      <th>3</th>\n",
       "      <td>0.000007</td>\n",
       "      <td>0.000003</td>\n",
       "    </tr>\n",
       "    <tr>\n",
       "      <th>4</th>\n",
       "      <td>0.000003</td>\n",
       "      <td>0.000002</td>\n",
       "    </tr>\n",
       "    <tr>\n",
       "      <th rowspan=\"4\" valign=\"top\">4</th>\n",
       "      <th>1</th>\n",
       "      <td>0.000056</td>\n",
       "      <td>0.000024</td>\n",
       "    </tr>\n",
       "    <tr>\n",
       "      <th>2</th>\n",
       "      <td>0.000014</td>\n",
       "      <td>0.000007</td>\n",
       "    </tr>\n",
       "    <tr>\n",
       "      <th>3</th>\n",
       "      <td>0.000007</td>\n",
       "      <td>0.000004</td>\n",
       "    </tr>\n",
       "    <tr>\n",
       "      <th>4</th>\n",
       "      <td>0.000003</td>\n",
       "      <td>0.000002</td>\n",
       "    </tr>\n",
       "    <tr>\n",
       "      <th rowspan=\"16\" valign=\"top\">test</th>\n",
       "      <th rowspan=\"4\" valign=\"top\">1</th>\n",
       "      <th>1</th>\n",
       "      <td>0.000018</td>\n",
       "      <td>0.000010</td>\n",
       "    </tr>\n",
       "    <tr>\n",
       "      <th>2</th>\n",
       "      <td>0.000009</td>\n",
       "      <td>0.000004</td>\n",
       "    </tr>\n",
       "    <tr>\n",
       "      <th>3</th>\n",
       "      <td>0.000006</td>\n",
       "      <td>0.000003</td>\n",
       "    </tr>\n",
       "    <tr>\n",
       "      <th>4</th>\n",
       "      <td>0.000002</td>\n",
       "      <td>0.000001</td>\n",
       "    </tr>\n",
       "    <tr>\n",
       "      <th rowspan=\"4\" valign=\"top\">2</th>\n",
       "      <th>1</th>\n",
       "      <td>0.000023</td>\n",
       "      <td>0.000013</td>\n",
       "    </tr>\n",
       "    <tr>\n",
       "      <th>2</th>\n",
       "      <td>0.000010</td>\n",
       "      <td>0.000005</td>\n",
       "    </tr>\n",
       "    <tr>\n",
       "      <th>3</th>\n",
       "      <td>0.000006</td>\n",
       "      <td>0.000003</td>\n",
       "    </tr>\n",
       "    <tr>\n",
       "      <th>4</th>\n",
       "      <td>0.000002</td>\n",
       "      <td>0.000001</td>\n",
       "    </tr>\n",
       "    <tr>\n",
       "      <th rowspan=\"4\" valign=\"top\">3</th>\n",
       "      <th>1</th>\n",
       "      <td>0.000041</td>\n",
       "      <td>0.000014</td>\n",
       "    </tr>\n",
       "    <tr>\n",
       "      <th>2</th>\n",
       "      <td>0.000010</td>\n",
       "      <td>0.000005</td>\n",
       "    </tr>\n",
       "    <tr>\n",
       "      <th>3</th>\n",
       "      <td>0.000006</td>\n",
       "      <td>0.000003</td>\n",
       "    </tr>\n",
       "    <tr>\n",
       "      <th>4</th>\n",
       "      <td>0.000002</td>\n",
       "      <td>0.000001</td>\n",
       "    </tr>\n",
       "    <tr>\n",
       "      <th rowspan=\"4\" valign=\"top\">4</th>\n",
       "      <th>1</th>\n",
       "      <td>0.000052</td>\n",
       "      <td>0.000017</td>\n",
       "    </tr>\n",
       "    <tr>\n",
       "      <th>2</th>\n",
       "      <td>0.000012</td>\n",
       "      <td>0.000006</td>\n",
       "    </tr>\n",
       "    <tr>\n",
       "      <th>3</th>\n",
       "      <td>0.000007</td>\n",
       "      <td>0.000003</td>\n",
       "    </tr>\n",
       "    <tr>\n",
       "      <th>4</th>\n",
       "      <td>0.000003</td>\n",
       "      <td>0.000001</td>\n",
       "    </tr>\n",
       "  </tbody>\n",
       "</table>\n",
       "</div>"
      ],
      "text/plain": [
       "                               mean        sd\n",
       "dataset ROI component_num                    \n",
       "train   1   1              0.000019  0.000011\n",
       "            2              0.000012  0.000007\n",
       "            3              0.000006  0.000003\n",
       "            4              0.000002  0.000001\n",
       "        2   1              0.000024  0.000014\n",
       "            2              0.000013  0.000008\n",
       "            3              0.000006  0.000003\n",
       "            4              0.000002  0.000001\n",
       "        3   1              0.000044  0.000019\n",
       "            2              0.000011  0.000005\n",
       "            3              0.000007  0.000003\n",
       "            4              0.000003  0.000002\n",
       "        4   1              0.000056  0.000024\n",
       "            2              0.000014  0.000007\n",
       "            3              0.000007  0.000004\n",
       "            4              0.000003  0.000002\n",
       "test    1   1              0.000018  0.000010\n",
       "            2              0.000009  0.000004\n",
       "            3              0.000006  0.000003\n",
       "            4              0.000002  0.000001\n",
       "        2   1              0.000023  0.000013\n",
       "            2              0.000010  0.000005\n",
       "            3              0.000006  0.000003\n",
       "            4              0.000002  0.000001\n",
       "        3   1              0.000041  0.000014\n",
       "            2              0.000010  0.000005\n",
       "            3              0.000006  0.000003\n",
       "            4              0.000002  0.000001\n",
       "        4   1              0.000052  0.000017\n",
       "            2              0.000012  0.000006\n",
       "            3              0.000007  0.000003\n",
       "            4              0.000003  0.000001"
      ]
     },
     "execution_count": 127,
     "metadata": {},
     "output_type": "execute_result"
    }
   ],
   "source": [
    "results_df = results_df.set_index(['dataset', 'ROI', 'component_num'])\n",
    "\n",
    "results_df"
   ]
  },
  {
   "cell_type": "code",
   "execution_count": 128,
   "id": "8469fca7-e120-49ff-8a67-732b13ae68bf",
   "metadata": {},
   "outputs": [],
   "source": [
    "results_df.to_csv('../public_data/results/components_scores/scores_per_component_stats.csv')"
   ]
  },
  {
   "cell_type": "markdown",
   "id": "44de2201-f30f-46f9-a308-f8cc4022f931",
   "metadata": {},
   "source": [
    "## ERN/Pe ERP analyses"
   ]
  },
  {
   "cell_type": "markdown",
   "id": "e2e7492f-a26f-4580-89af-9aa3616020f7",
   "metadata": {
    "tags": []
   },
   "source": [
    "### Compute ERN and Pe components scores"
   ]
  },
  {
   "cell_type": "code",
   "execution_count": 20,
   "id": "905e21da-d057-46e3-bac7-3511c28b4bdc",
   "metadata": {},
   "outputs": [],
   "source": [
    "results_ern = pd.read_pickle(\"../public_data/results/models_pickles/ern_waves_analysis_train_cv_lin.pkl\")\n",
    "results_pe = pd.read_pickle(\"../public_data/results/models_pickles/pe_waves_analysis_train_cv_lin.pkl\")"
   ]
  },
  {
   "cell_type": "markdown",
   "id": "9d71f7b9-528b-49bd-b240-6f3bddec6040",
   "metadata": {},
   "source": [
    "#### 1. Extract data pre-processing pipeliens for ERN and Pe"
   ]
  },
  {
   "cell_type": "code",
   "execution_count": 24,
   "id": "72f6fed1-4e6e-40b1-b652-d93e032fccd6",
   "metadata": {},
   "outputs": [],
   "source": [
    "ern_pipeline = results_ern.pre_processed_pipeline[0]\n",
    "ern_features_pipeline = results_ern.best_estimator[0][:-1]\n",
    "\n",
    "pe_pipeline = results_pe.pre_processed_pipeline[0]\n",
    "pe_features_pipeline = results_pe.best_estimator[0][:-1]"
   ]
  },
  {
   "cell_type": "code",
   "execution_count": 33,
   "id": "499c23c4-bedb-4cd6-a7a6-5861b23e22f5",
   "metadata": {},
   "outputs": [
    {
     "data": {
      "text/plain": [
       "Pipeline(steps=[('channels_extraction', PickChannels(channels_list=['Cz'])),\n",
       "                ('trim', EpochTrim(tmax=0.35, tmin=0.15)),\n",
       "                ('average', Evoked()),\n",
       "                ('extract_averaged_data', ExtractData())])"
      ]
     },
     "execution_count": 33,
     "metadata": {},
     "output_type": "execute_result"
    }
   ],
   "source": [
    "pe_pipeline"
   ]
  },
  {
   "cell_type": "markdown",
   "id": "f88cc81f-776c-4b6e-a12a-e7798e726c6c",
   "metadata": {},
   "source": [
    "#### 2. Read the data"
   ]
  },
  {
   "cell_type": "markdown",
   "id": "e35e4b19-47eb-49e8-9364-84efe37b0783",
   "metadata": {
    "tags": []
   },
   "source": [
    "The train data"
   ]
  },
  {
   "cell_type": "code",
   "execution_count": 25,
   "id": "7833b71f-004f-4cab-83ec-0392690ce330",
   "metadata": {
    "tags": []
   },
   "outputs": [
    {
     "name": "stdout",
     "output_type": "stream",
     "text": [
      "Pickled file found. Loading pickled data...\n",
      "Done\n"
     ]
    }
   ],
   "source": [
    "df_name = \"go_nogo_100_600_df_3-5_all_scales\"\n",
    "pickled_data_filename = \"../data/responses_100_600_pickled/\" + df_name + \".pkl\"\n",
    "info_filename = \"../data/scales/all_scales.csv\"\n",
    "\n",
    "if os.path.isfile(pickled_data_filename):\n",
    "    print(\"Pickled file found. Loading pickled data...\")\n",
    "    epochs_df = pd.read_pickle(pickled_data_filename)\n",
    "    print(\"Done\")\n",
    "    pass\n",
    "else:\n",
    "    print(\"Pickled file not found\")"
   ]
  },
  {
   "cell_type": "code",
   "execution_count": 27,
   "id": "ce018d09-b22f-48e7-bcd0-60982d3e0c64",
   "metadata": {
    "tags": []
   },
   "outputs": [],
   "source": [
    "X_train_df = epochs_df"
   ]
  },
  {
   "cell_type": "markdown",
   "id": "c993ef06-9c15-43c4-8f3c-98f09b754479",
   "metadata": {
    "tags": []
   },
   "source": [
    "The test data"
   ]
  },
  {
   "cell_type": "code",
   "execution_count": 28,
   "id": "8844a124-33b4-4933-9530-274f2f88507b",
   "metadata": {
    "tags": []
   },
   "outputs": [
    {
     "name": "stdout",
     "output_type": "stream",
     "text": [
      "Pickled file found. Loading pickled data...\n",
      "Done\n"
     ]
    }
   ],
   "source": [
    "df_name = 'go_nogo_100_600_test_df_3-5_all_scales'\n",
    "pickled_data_filename = \"../data/responses_100_600_pickled/\" + df_name + \".pkl\"\n",
    "info_filename = \"../data/scales/all_scales.csv\"\n",
    "\n",
    "if os.path.isfile(pickled_data_filename):\n",
    "    print(\"Pickled file found. Loading pickled data...\")\n",
    "    epochs_df = pd.read_pickle(pickled_data_filename)\n",
    "    print(\"Done\")\n",
    "    pass\n",
    "else:\n",
    "    print(\"Pickled file not found\")"
   ]
  },
  {
   "cell_type": "code",
   "execution_count": 29,
   "id": "ad64d040-bf7c-44bc-90e8-5bd09971201a",
   "metadata": {
    "tags": []
   },
   "outputs": [],
   "source": [
    "X_test_df = epochs_df"
   ]
  },
  {
   "cell_type": "markdown",
   "id": "2d7e505e-6800-4ea7-8f7a-2d96a5043bda",
   "metadata": {},
   "source": [
    "#### 3. Apply piplines to data and compute statistics"
   ]
  },
  {
   "cell_type": "code",
   "execution_count": 70,
   "id": "1df3a8a0-e8e0-453c-947e-c84be46d6aea",
   "metadata": {
    "scrolled": true
   },
   "outputs": [
    {
     "name": "stdout",
     "output_type": "stream",
     "text": [
      "IN PE RETURN SHAPE: (206, 1, 27)\n",
      "(96, 1, 27)\n",
      "IN PE RETURN SHAPE: (206, 1, 53)\n",
      "(96, 1, 53)\n",
      "IN PE RETURN SHAPE: (178, 1, 27)\n",
      "(34, 1, 27)\n",
      "IN PE RETURN SHAPE: (178, 1, 53)\n",
      "(34, 1, 53)\n"
     ]
    }
   ],
   "source": [
    "results_df = pd.DataFrame()\n",
    "per_participant_results = pd.DataFrame()\n",
    "\n",
    "for item in {\"train\": X_train_df, \"test\": X_test_df}.items():\n",
    "    participant_dataset_df = pd.DataFrame()\n",
    "    \n",
    "    dataset_name = item[0]\n",
    "    dataset = item[1]\n",
    "            \n",
    "    # ERN\n",
    "    X_df_copy = pd.DataFrame(copy.deepcopy(dataset.to_dict()))\n",
    "\n",
    "    X_ern_mid = ern_pipeline.transform(X_df_copy)\n",
    "    X_ern = ern_features_pipeline.transform(X_ern_mid)\n",
    "        \n",
    "    this_result = pd.DataFrame({\n",
    "            'dataset': [dataset_name],\n",
    "            'component': [\"ERN\"],\n",
    "            'mean': [np.mean(X_ern)],\n",
    "            'sd': [np.std(X_ern)]\n",
    "    }) \n",
    "\n",
    "    results_df = results_df.append(this_result)\n",
    "        \n",
    "    # Pe\n",
    "    X_df_copy = pd.DataFrame(copy.deepcopy(dataset.to_dict()))\n",
    "\n",
    "    X_pe_mid = pe_pipeline.transform(X_df_copy)\n",
    "    X_pe = pe_features_pipeline.transform(X_pe_mid)\n",
    "    \n",
    "    this_result = pd.DataFrame({\n",
    "            'dataset': [dataset_name],\n",
    "            'component': [\"Pe\"],\n",
    "            'mean': [np.mean(X_pe)],\n",
    "            'sd': [np.std(X_pe)]\n",
    "    }) \n",
    "    \n",
    "    results_df = results_df.append(this_result, ignore_index=True)\n",
    "    \n",
    "    participant_dataset_df[\"ERN\"] = X_ern.flatten()\n",
    "    participant_dataset_df[\"Pe\"] = X_pe.flatten()\n",
    "    participant_dataset_df[\"dataset\"] = [dataset_name] * len(X_ern.flatten())\n",
    "\n",
    "    per_participant_results = per_participant_results.append(participant_dataset_df, ignore_index=True)"
   ]
  },
  {
   "cell_type": "code",
   "execution_count": 71,
   "id": "dde518ce-d242-4aee-8239-ed8cc9bc2356",
   "metadata": {},
   "outputs": [
    {
     "data": {
      "text/html": [
       "<div>\n",
       "<style scoped>\n",
       "    .dataframe tbody tr th:only-of-type {\n",
       "        vertical-align: middle;\n",
       "    }\n",
       "\n",
       "    .dataframe tbody tr th {\n",
       "        vertical-align: top;\n",
       "    }\n",
       "\n",
       "    .dataframe thead th {\n",
       "        text-align: right;\n",
       "    }\n",
       "</style>\n",
       "<table border=\"1\" class=\"dataframe\">\n",
       "  <thead>\n",
       "    <tr style=\"text-align: right;\">\n",
       "      <th></th>\n",
       "      <th>dataset</th>\n",
       "      <th>component</th>\n",
       "      <th>mean</th>\n",
       "      <th>sd</th>\n",
       "    </tr>\n",
       "  </thead>\n",
       "  <tbody>\n",
       "    <tr>\n",
       "      <th>0</th>\n",
       "      <td>train</td>\n",
       "      <td>ERN</td>\n",
       "      <td>-0.000005</td>\n",
       "      <td>0.000005</td>\n",
       "    </tr>\n",
       "    <tr>\n",
       "      <th>1</th>\n",
       "      <td>train</td>\n",
       "      <td>Pe</td>\n",
       "      <td>0.000015</td>\n",
       "      <td>0.000007</td>\n",
       "    </tr>\n",
       "    <tr>\n",
       "      <th>2</th>\n",
       "      <td>test</td>\n",
       "      <td>ERN</td>\n",
       "      <td>-0.000004</td>\n",
       "      <td>0.000004</td>\n",
       "    </tr>\n",
       "    <tr>\n",
       "      <th>3</th>\n",
       "      <td>test</td>\n",
       "      <td>Pe</td>\n",
       "      <td>0.000014</td>\n",
       "      <td>0.000008</td>\n",
       "    </tr>\n",
       "  </tbody>\n",
       "</table>\n",
       "</div>"
      ],
      "text/plain": [
       "  dataset component      mean        sd\n",
       "0   train       ERN -0.000005  0.000005\n",
       "1   train        Pe  0.000015  0.000007\n",
       "2    test       ERN -0.000004  0.000004\n",
       "3    test        Pe  0.000014  0.000008"
      ]
     },
     "execution_count": 71,
     "metadata": {},
     "output_type": "execute_result"
    }
   ],
   "source": [
    "results_df"
   ]
  },
  {
   "cell_type": "code",
   "execution_count": 73,
   "id": "83a114de-44dc-4660-8a24-2b9dca772926",
   "metadata": {},
   "outputs": [],
   "source": [
    "results_df.to_csv('../public_data/results/components_scores/scores_wave_analysis_stats.csv')"
   ]
  },
  {
   "cell_type": "code",
   "execution_count": 72,
   "id": "10110a57-a385-493a-92c6-708856f4c0d1",
   "metadata": {},
   "outputs": [
    {
     "data": {
      "text/html": [
       "<div>\n",
       "<style scoped>\n",
       "    .dataframe tbody tr th:only-of-type {\n",
       "        vertical-align: middle;\n",
       "    }\n",
       "\n",
       "    .dataframe tbody tr th {\n",
       "        vertical-align: top;\n",
       "    }\n",
       "\n",
       "    .dataframe thead th {\n",
       "        text-align: right;\n",
       "    }\n",
       "</style>\n",
       "<table border=\"1\" class=\"dataframe\">\n",
       "  <thead>\n",
       "    <tr style=\"text-align: right;\">\n",
       "      <th></th>\n",
       "      <th>ERN</th>\n",
       "      <th>Pe</th>\n",
       "      <th>dataset</th>\n",
       "    </tr>\n",
       "  </thead>\n",
       "  <tbody>\n",
       "    <tr>\n",
       "      <th>0</th>\n",
       "      <td>-4.188265e-06</td>\n",
       "      <td>0.000027</td>\n",
       "      <td>train</td>\n",
       "    </tr>\n",
       "    <tr>\n",
       "      <th>1</th>\n",
       "      <td>-3.915253e-06</td>\n",
       "      <td>0.000012</td>\n",
       "      <td>train</td>\n",
       "    </tr>\n",
       "    <tr>\n",
       "      <th>2</th>\n",
       "      <td>-1.794473e-05</td>\n",
       "      <td>0.000005</td>\n",
       "      <td>train</td>\n",
       "    </tr>\n",
       "    <tr>\n",
       "      <th>3</th>\n",
       "      <td>3.809618e-07</td>\n",
       "      <td>0.000007</td>\n",
       "      <td>train</td>\n",
       "    </tr>\n",
       "    <tr>\n",
       "      <th>4</th>\n",
       "      <td>-2.832309e-06</td>\n",
       "      <td>0.000008</td>\n",
       "      <td>train</td>\n",
       "    </tr>\n",
       "  </tbody>\n",
       "</table>\n",
       "</div>"
      ],
      "text/plain": [
       "            ERN        Pe dataset\n",
       "0 -4.188265e-06  0.000027   train\n",
       "1 -3.915253e-06  0.000012   train\n",
       "2 -1.794473e-05  0.000005   train\n",
       "3  3.809618e-07  0.000007   train\n",
       "4 -2.832309e-06  0.000008   train"
      ]
     },
     "execution_count": 72,
     "metadata": {},
     "output_type": "execute_result"
    }
   ],
   "source": [
    "per_participant_results.head()"
   ]
  },
  {
   "cell_type": "code",
   "execution_count": 75,
   "id": "7c5543c6-f82f-4cdb-872f-5223d46aed94",
   "metadata": {},
   "outputs": [],
   "source": [
    "per_participant_results.to_csv('../public_data/results/components_scores/scores_wave_analysis_per_participant.csv')"
   ]
  }
 ],
 "metadata": {
  "kernelspec": {
   "display_name": "erroneurous",
   "language": "python",
   "name": "erroneurous"
  },
  "language_info": {
   "codemirror_mode": {
    "name": "ipython",
    "version": 3
   },
   "file_extension": ".py",
   "mimetype": "text/x-python",
   "name": "python",
   "nbconvert_exporter": "python",
   "pygments_lexer": "ipython3",
   "version": "3.8.10"
  }
 },
 "nbformat": 4,
 "nbformat_minor": 5
}
