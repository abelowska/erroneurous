{
 "cells": [
  {
   "cell_type": "markdown",
   "id": "40a73099-38c1-4bf0-afd3-5481df7c3d19",
   "metadata": {},
   "source": [
    "# Cannonical Correlation Analysis of ERN and Pe results"
   ]
  },
  {
   "cell_type": "markdown",
   "id": "d8ff9f56-5483-44c7-b9cc-486a31838279",
   "metadata": {},
   "source": [
    "### Imports"
   ]
  },
  {
   "cell_type": "code",
   "execution_count": 51,
   "id": "e9e84d26-b32c-41ae-b3f4-81e0ee55156b",
   "metadata": {},
   "outputs": [],
   "source": [
    "import os\n",
    "import re\n",
    "import glob\n",
    "import os\n",
    "import ast\n",
    "import os.path as op\n",
    "from collections import defaultdict\n",
    "from copy import deepcopy\n",
    "import copy\n",
    "\n",
    "import pickle\n",
    "from time import time\n",
    "# import pywt\n",
    "import mne\n",
    "import scipy\n",
    "import numpy as np\n",
    "# import plotly.graph_objects as go\n",
    "# import plotly.express as px\n",
    "import pandas as pd\n",
    "# import cesium.featurize\n",
    "# from plotly.subplots import make_subplots\n",
    "# from ipywidgets import Dropdown, FloatRangeSlider, IntSlider, FloatSlider, interact\n",
    "from sklearn.metrics import roc_auc_score\n",
    "from sklearn.model_selection import StratifiedKFold\n",
    "from sklearn.model_selection import train_test_split\n",
    "from sklearn.discriminant_analysis import LinearDiscriminantAnalysis\n",
    "from sklearn.base import TransformerMixin, BaseEstimator\n",
    "\n",
    "import sys\n",
    "\n",
    "from sklearn.pipeline import Pipeline, FeatureUnion\n",
    "from sklearn.preprocessing import StandardScaler\n",
    "from sklearn.preprocessing import FunctionTransformer\n",
    "from sklearn.svm import SVR\n",
    "from sklearn.decomposition import FastICA\n",
    "from sklearn.decomposition import PCA\n",
    "\n",
    "from rumination_experiment_transformers_averaged_CDS import *\n",
    "\n",
    "from sklearn.cross_decomposition import CCA\n",
    "import matplotlib.pyplot as plt\n",
    "\n",
    "import warnings\n",
    "\n",
    "warnings.filterwarnings(\"ignore\")\n"
   ]
  },
  {
   "cell_type": "code",
   "execution_count": 2,
   "id": "727b28e2-f75c-47d7-97f2-24df8f7950ec",
   "metadata": {},
   "outputs": [],
   "source": [
    "pd.set_option('display.max_rows', None)\n",
    "pd.set_option('display.max_columns', None)"
   ]
  },
  {
   "cell_type": "markdown",
   "id": "59c69899-6a32-4418-9079-8bd66aed497f",
   "metadata": {},
   "source": [
    "## Load pickled ERN and Pe results"
   ]
  },
  {
   "cell_type": "code",
   "execution_count": 3,
   "id": "ba91198f",
   "metadata": {},
   "outputs": [],
   "source": [
    "results_ern = pd.read_pickle(\"../public_data/results/models_pickles/ern_results_with_external-p.pkl\")\n",
    "results_pe = pd.read_pickle(\"../public_data/results/models_pickles/pe_results_with_external-p.pkl\")"
   ]
  },
  {
   "cell_type": "markdown",
   "id": "5cb7513f-b357-4018-b8af-958ba9da2d52",
   "metadata": {},
   "source": [
    "## ERN"
   ]
  },
  {
   "cell_type": "markdown",
   "id": "36da45ad-0ccb-4b2a-ab30-40517da3a268",
   "metadata": {},
   "source": [
    "### Extract significant relationships"
   ]
  },
  {
   "cell_type": "code",
   "execution_count": 84,
   "id": "3f7094b3-8b7c-4af9-b496-af3c0d7937df",
   "metadata": {},
   "outputs": [
    {
     "data": {
      "text/html": [
       "<div>\n",
       "<style scoped>\n",
       "    .dataframe tbody tr th:only-of-type {\n",
       "        vertical-align: middle;\n",
       "    }\n",
       "\n",
       "    .dataframe tbody tr th {\n",
       "        vertical-align: top;\n",
       "    }\n",
       "\n",
       "    .dataframe thead th {\n",
       "        text-align: right;\n",
       "    }\n",
       "</style>\n",
       "<table border=\"1\" class=\"dataframe\">\n",
       "  <thead>\n",
       "    <tr style=\"text-align: right;\">\n",
       "      <th></th>\n",
       "      <th>data_set</th>\n",
       "      <th>pipeline_name</th>\n",
       "      <th>model</th>\n",
       "      <th>parameters</th>\n",
       "      <th>mean_cv_r2</th>\n",
       "      <th>std_cv_r2</th>\n",
       "      <th>mean_cv_mae</th>\n",
       "      <th>std_cv_mae</th>\n",
       "      <th>mean_cv_mse</th>\n",
       "      <th>std_cv_mse</th>\n",
       "      <th>cv_results</th>\n",
       "      <th>mean_train_r2</th>\n",
       "      <th>mean_train_mae</th>\n",
       "      <th>mean_train_mse</th>\n",
       "      <th>p-value</th>\n",
       "      <th>best_estimator</th>\n",
       "      <th>pre_processed_pipeline</th>\n",
       "      <th>scale</th>\n",
       "      <th>external_score</th>\n",
       "      <th>external_p-value</th>\n",
       "    </tr>\n",
       "  </thead>\n",
       "  <tbody>\n",
       "    <tr>\n",
       "      <th>11</th>\n",
       "      <td>error_response</td>\n",
       "      <td>PCA_4_scale_15-Obsessional Beliefs - Overestim...</td>\n",
       "      <td>kr</td>\n",
       "      <td>{'kr__alpha': 0.4281332398719396, 'kr__gamma':...</td>\n",
       "      <td>0.055361</td>\n",
       "      <td>0.089090</td>\n",
       "      <td>-0.979162</td>\n",
       "      <td>0.091681</td>\n",
       "      <td>-1.350341</td>\n",
       "      <td>0.246860</td>\n",
       "      <td>{'mean_fit_time': [0.009642521540323893, 0.010...</td>\n",
       "      <td>0.196231</td>\n",
       "      <td>-0.904140</td>\n",
       "      <td>-1.148277</td>\n",
       "      <td>0.006993</td>\n",
       "      <td>(FeatureUnion(n_jobs=10,\\n             transfo...</td>\n",
       "      <td>(PickChannels(channels_list=['Fpz', 'AFz', 'F1...</td>\n",
       "      <td>OT</td>\n",
       "      <td>0.059436</td>\n",
       "      <td>0.057942</td>\n",
       "    </tr>\n",
       "    <tr>\n",
       "      <th>12</th>\n",
       "      <td>error_response</td>\n",
       "      <td>PCA_3_scale_16-Rumination Full Scale</td>\n",
       "      <td>kr</td>\n",
       "      <td>{'kr__alpha': 2.6366508987303556e-05, 'kr__gam...</td>\n",
       "      <td>0.068960</td>\n",
       "      <td>0.007099</td>\n",
       "      <td>-0.678509</td>\n",
       "      <td>0.046337</td>\n",
       "      <td>-0.744860</td>\n",
       "      <td>0.062957</td>\n",
       "      <td>{'mean_fit_time': [0.011245250701904297, 0.014...</td>\n",
       "      <td>0.125565</td>\n",
       "      <td>-0.662442</td>\n",
       "      <td>-0.703920</td>\n",
       "      <td>0.003996</td>\n",
       "      <td>(FeatureUnion(n_jobs=10,\\n             transfo...</td>\n",
       "      <td>(PickChannels(channels_list=['Fpz', 'AFz', 'Fz...</td>\n",
       "      <td>RRQ</td>\n",
       "      <td>0.070520</td>\n",
       "      <td>0.017982</td>\n",
       "    </tr>\n",
       "    <tr>\n",
       "      <th>14</th>\n",
       "      <td>error_response</td>\n",
       "      <td>PCA_6_scale_28-Intolerance of Uncertainty - In...</td>\n",
       "      <td>en</td>\n",
       "      <td>{'en__alpha': 0.01832980710832434, 'en__l1_rat...</td>\n",
       "      <td>0.036322</td>\n",
       "      <td>0.026219</td>\n",
       "      <td>-0.471418</td>\n",
       "      <td>0.033994</td>\n",
       "      <td>-0.357236</td>\n",
       "      <td>0.021651</td>\n",
       "      <td>{'mean_fit_time': [0.008257150650024414, 0.007...</td>\n",
       "      <td>0.124229</td>\n",
       "      <td>-0.455919</td>\n",
       "      <td>-0.328933</td>\n",
       "      <td>0.013986</td>\n",
       "      <td>(FeatureUnion(n_jobs=10,\\n             transfo...</td>\n",
       "      <td>(PickChannels(channels_list=['Fpz', 'AFz', 'F1...</td>\n",
       "      <td>IUS-I</td>\n",
       "      <td>0.056105</td>\n",
       "      <td>0.069930</td>\n",
       "    </tr>\n",
       "  </tbody>\n",
       "</table>\n",
       "</div>"
      ],
      "text/plain": [
       "          data_set                                      pipeline_name model  \\\n",
       "11  error_response  PCA_4_scale_15-Obsessional Beliefs - Overestim...    kr   \n",
       "12  error_response               PCA_3_scale_16-Rumination Full Scale    kr   \n",
       "14  error_response  PCA_6_scale_28-Intolerance of Uncertainty - In...    en   \n",
       "\n",
       "                                           parameters  mean_cv_r2  std_cv_r2  \\\n",
       "11  {'kr__alpha': 0.4281332398719396, 'kr__gamma':...    0.055361   0.089090   \n",
       "12  {'kr__alpha': 2.6366508987303556e-05, 'kr__gam...    0.068960   0.007099   \n",
       "14  {'en__alpha': 0.01832980710832434, 'en__l1_rat...    0.036322   0.026219   \n",
       "\n",
       "    mean_cv_mae  std_cv_mae  mean_cv_mse  std_cv_mse  \\\n",
       "11    -0.979162    0.091681    -1.350341    0.246860   \n",
       "12    -0.678509    0.046337    -0.744860    0.062957   \n",
       "14    -0.471418    0.033994    -0.357236    0.021651   \n",
       "\n",
       "                                           cv_results  mean_train_r2  \\\n",
       "11  {'mean_fit_time': [0.009642521540323893, 0.010...       0.196231   \n",
       "12  {'mean_fit_time': [0.011245250701904297, 0.014...       0.125565   \n",
       "14  {'mean_fit_time': [0.008257150650024414, 0.007...       0.124229   \n",
       "\n",
       "    mean_train_mae  mean_train_mse   p-value  \\\n",
       "11       -0.904140       -1.148277  0.006993   \n",
       "12       -0.662442       -0.703920  0.003996   \n",
       "14       -0.455919       -0.328933  0.013986   \n",
       "\n",
       "                                       best_estimator  \\\n",
       "11  (FeatureUnion(n_jobs=10,\\n             transfo...   \n",
       "12  (FeatureUnion(n_jobs=10,\\n             transfo...   \n",
       "14  (FeatureUnion(n_jobs=10,\\n             transfo...   \n",
       "\n",
       "                               pre_processed_pipeline  scale  external_score  \\\n",
       "11  (PickChannels(channels_list=['Fpz', 'AFz', 'F1...     OT        0.059436   \n",
       "12  (PickChannels(channels_list=['Fpz', 'AFz', 'Fz...    RRQ        0.070520   \n",
       "14  (PickChannels(channels_list=['Fpz', 'AFz', 'F1...  IUS-I        0.056105   \n",
       "\n",
       "    external_p-value  \n",
       "11          0.057942  \n",
       "12          0.017982  \n",
       "14          0.069930  "
      ]
     },
     "execution_count": 84,
     "metadata": {},
     "output_type": "execute_result"
    }
   ],
   "source": [
    "significant_results = results_ern[(results_ern['external_score'] > 0.0) & (results_ern['external_p-value'] < 0.07)]\n",
    "significant_results"
   ]
  },
  {
   "cell_type": "markdown",
   "id": "fe71c1e4-ec74-4d09-8b21-d926046decf4",
   "metadata": {},
   "source": [
    "Extract pre-processing pipeline"
   ]
  },
  {
   "cell_type": "code",
   "execution_count": 85,
   "id": "33d290d1-3242-46de-b687-a2a938b0f5b5",
   "metadata": {},
   "outputs": [
    {
     "data": {
      "text/plain": [
       "[('channels_extraction',\n",
       "  PickChannels(channels_list=['Fpz', 'AFz', 'F1', 'Fz', 'F2', 'FCz', 'C1', 'Cz',\n",
       "                              'C2', 'CPz', 'P1', 'Pz', 'P2'])),\n",
       " ('average', Evoked()),\n",
       " ('extract_averaged_data', ExtractData()),\n",
       " ('spatial_filter_preprocessing', SpatialFilterPreprocessing()),\n",
       " ('spatial_filter', PCA(n_components=4, random_state=0)),\n",
       " ('spatial_filter_postprocessing',\n",
       "  SpatialFilterPostprocessing(timepoints_count=181)),\n",
       " ('lowpass_filter', LowpassFilter()),\n",
       " ('binning', BinTransformer()),\n",
       " ('centering', CenteredSignalAfterBaseline3())]"
      ]
     },
     "execution_count": 85,
     "metadata": {},
     "output_type": "execute_result"
    }
   ],
   "source": [
    "pre_processing_pipeline_steps = significant_results['pre_processed_pipeline'].iloc[0].steps\n",
    "pre_processing_pipeline_steps"
   ]
  },
  {
   "cell_type": "code",
   "execution_count": 86,
   "id": "e4fe047d-8697-434e-bab4-36ebe3c20be7",
   "metadata": {},
   "outputs": [
    {
     "data": {
      "text/plain": [
       "[('ern_data_extraction', ErnTransformer()),\n",
       " ('ern_amplitude', ErnAmplitude2()),\n",
       " ('data_channel_swap', ChannelDataSwap()),\n",
       " ('postprocessing', PostprocessingTransformer()),\n",
       " ('scaler', StandardScaler())]"
      ]
     },
     "execution_count": 86,
     "metadata": {},
     "output_type": "execute_result"
    }
   ],
   "source": [
    "post_pca_pipeline_steps = significant_results.best_estimator.iloc[0]['features'].transformer_list[0][1].steps\n",
    "post_pca_pipeline_steps"
   ]
  },
  {
   "cell_type": "code",
   "execution_count": 87,
   "id": "6633cf35-f520-4688-baed-b62ad376fa79",
   "metadata": {},
   "outputs": [],
   "source": [
    "pipeline = Pipeline(pre_processing_pipeline_steps + post_pca_pipeline_steps)"
   ]
  },
  {
   "cell_type": "markdown",
   "id": "dbc724da-4677-4fac-abca-161609f4767d",
   "metadata": {
    "tags": []
   },
   "source": [
    "Read data"
   ]
  },
  {
   "cell_type": "code",
   "execution_count": 88,
   "id": "ec8a538a-fb57-48f5-ab58-6fa85333b86e",
   "metadata": {
    "tags": []
   },
   "outputs": [
    {
     "name": "stdout",
     "output_type": "stream",
     "text": [
      "Pickled file found. Loading pickled data...\n",
      "Done\n"
     ]
    }
   ],
   "source": [
    "df_name = \"go_nogo_100_600_df_3-5_all_scales\"\n",
    "pickled_data_filename = \"../data/responses_100_600_pickled/\" + df_name + \".pkl\"\n",
    "\n",
    "if os.path.isfile(pickled_data_filename):\n",
    "    print(\"Pickled file found. Loading pickled data...\")\n",
    "    epochs_df = pd.read_pickle(pickled_data_filename)\n",
    "    print(\"Done\")\n",
    "    pass\n",
    "else:\n",
    "    print(\"Pickled file not found\")"
   ]
  },
  {
   "cell_type": "code",
   "execution_count": 89,
   "id": "cdd187e5-fb7a-470e-889c-940a014dc5b4",
   "metadata": {
    "tags": []
   },
   "outputs": [],
   "source": [
    "X_train_df = epochs_df"
   ]
  },
  {
   "cell_type": "markdown",
   "id": "90978e2c-1313-4a3f-b5f2-931c932df408",
   "metadata": {},
   "source": [
    "Create X set"
   ]
  },
  {
   "cell_type": "code",
   "execution_count": 90,
   "id": "68eea1f5-cf0b-4bf3-9f6b-5d5d90f74a67",
   "metadata": {},
   "outputs": [
    {
     "name": "stdout",
     "output_type": "stream",
     "text": [
      "(96, 13, 181)\n"
     ]
    },
    {
     "data": {
      "text/plain": [
       "(96, 4)"
      ]
     },
     "execution_count": 90,
     "metadata": {},
     "output_type": "execute_result"
    }
   ],
   "source": [
    "X_train_eeg_features = pipeline.transform(X_train_df)\n",
    "X_train_eeg_features.shape"
   ]
  },
  {
   "cell_type": "code",
   "execution_count": 91,
   "id": "b2c21d1d-0188-4d9a-8f20-bc51f4e4ccd3",
   "metadata": {},
   "outputs": [
    {
     "data": {
      "text/html": [
       "<div>\n",
       "<style scoped>\n",
       "    .dataframe tbody tr th:only-of-type {\n",
       "        vertical-align: middle;\n",
       "    }\n",
       "\n",
       "    .dataframe tbody tr th {\n",
       "        vertical-align: top;\n",
       "    }\n",
       "\n",
       "    .dataframe thead th {\n",
       "        text-align: right;\n",
       "    }\n",
       "</style>\n",
       "<table border=\"1\" class=\"dataframe\">\n",
       "  <thead>\n",
       "    <tr style=\"text-align: right;\">\n",
       "      <th></th>\n",
       "      <th>PCA_1</th>\n",
       "      <th>PCA_2</th>\n",
       "      <th>PCA_3</th>\n",
       "      <th>PCA_4</th>\n",
       "    </tr>\n",
       "  </thead>\n",
       "  <tbody>\n",
       "    <tr>\n",
       "      <th>0</th>\n",
       "      <td>-0.581922</td>\n",
       "      <td>-0.168757</td>\n",
       "      <td>-1.135196</td>\n",
       "      <td>-0.166551</td>\n",
       "    </tr>\n",
       "    <tr>\n",
       "      <th>1</th>\n",
       "      <td>-0.412861</td>\n",
       "      <td>0.141481</td>\n",
       "      <td>0.665357</td>\n",
       "      <td>-0.214526</td>\n",
       "    </tr>\n",
       "    <tr>\n",
       "      <th>2</th>\n",
       "      <td>1.564176</td>\n",
       "      <td>-0.293272</td>\n",
       "      <td>3.371009</td>\n",
       "      <td>1.553244</td>\n",
       "    </tr>\n",
       "    <tr>\n",
       "      <th>3</th>\n",
       "      <td>-1.083597</td>\n",
       "      <td>-0.431022</td>\n",
       "      <td>-0.764672</td>\n",
       "      <td>-1.427828</td>\n",
       "    </tr>\n",
       "    <tr>\n",
       "      <th>4</th>\n",
       "      <td>-0.456852</td>\n",
       "      <td>0.272495</td>\n",
       "      <td>0.019829</td>\n",
       "      <td>-0.216957</td>\n",
       "    </tr>\n",
       "  </tbody>\n",
       "</table>\n",
       "</div>"
      ],
      "text/plain": [
       "      PCA_1     PCA_2     PCA_3     PCA_4\n",
       "0 -0.581922 -0.168757 -1.135196 -0.166551\n",
       "1 -0.412861  0.141481  0.665357 -0.214526\n",
       "2  1.564176 -0.293272  3.371009  1.553244\n",
       "3 -1.083597 -0.431022 -0.764672 -1.427828\n",
       "4 -0.456852  0.272495  0.019829 -0.216957"
      ]
     },
     "execution_count": 91,
     "metadata": {},
     "output_type": "execute_result"
    }
   ],
   "source": [
    "X_df = pd.DataFrame(X_train_eeg_features, columns=['PCA_1','PCA_2', 'PCA_3', 'PCA_4'])\n",
    "X_df.head()"
   ]
  },
  {
   "cell_type": "markdown",
   "id": "1a61a3dc-06d8-4d0a-a989-aabd20c8bfb1",
   "metadata": {},
   "source": [
    "Create y set"
   ]
  },
  {
   "cell_type": "code",
   "execution_count": 92,
   "id": "8e1156e2-fe0c-4096-98ff-5f047b4411d1",
   "metadata": {},
   "outputs": [],
   "source": [
    "rumination = \"16-Rumination Full Scale\"\n",
    "threat = \"15-Obsessional Beliefs - Overestimation of threat\"\n",
    "IU_inhibitory = \"28-Intolerance of Uncertainty - Inhibitory Anxiety\"\n",
    "\n",
    "scales = [\n",
    "    rumination,\n",
    "    threat,\n",
    "    IU_inhibitory,\n",
    "]\n",
    "\n",
    "scales_dict = {\n",
    "    \"16-Rumination Full Scale\": \"RRQ\",\n",
    "    \"15-Obsessional Beliefs - Overestimation of threat\": \"OT\",\n",
    "    \"28-Intolerance of Uncertainty - Inhibitory Anxiety\": \"IUS-I\",\n",
    "}"
   ]
  },
  {
   "cell_type": "code",
   "execution_count": 93,
   "id": "8b6839f4-3e14-46db-acbe-6e001e1012c7",
   "metadata": {},
   "outputs": [
    {
     "data": {
      "text/html": [
       "<div>\n",
       "<style scoped>\n",
       "    .dataframe tbody tr th:only-of-type {\n",
       "        vertical-align: middle;\n",
       "    }\n",
       "\n",
       "    .dataframe tbody tr th {\n",
       "        vertical-align: top;\n",
       "    }\n",
       "\n",
       "    .dataframe thead th {\n",
       "        text-align: right;\n",
       "    }\n",
       "</style>\n",
       "<table border=\"1\" class=\"dataframe\">\n",
       "  <thead>\n",
       "    <tr style=\"text-align: right;\">\n",
       "      <th></th>\n",
       "      <th>RRQ</th>\n",
       "      <th>OT</th>\n",
       "      <th>IUS-I</th>\n",
       "    </tr>\n",
       "  </thead>\n",
       "  <tbody>\n",
       "    <tr>\n",
       "      <th>0</th>\n",
       "      <td>2.17</td>\n",
       "      <td>3.0</td>\n",
       "      <td>1.2</td>\n",
       "    </tr>\n",
       "    <tr>\n",
       "      <th>1</th>\n",
       "      <td>1.33</td>\n",
       "      <td>1.6</td>\n",
       "      <td>1.4</td>\n",
       "    </tr>\n",
       "    <tr>\n",
       "      <th>2</th>\n",
       "      <td>4.25</td>\n",
       "      <td>2.2</td>\n",
       "      <td>2.4</td>\n",
       "    </tr>\n",
       "    <tr>\n",
       "      <th>3</th>\n",
       "      <td>2.67</td>\n",
       "      <td>1.8</td>\n",
       "      <td>1.8</td>\n",
       "    </tr>\n",
       "    <tr>\n",
       "      <th>4</th>\n",
       "      <td>4.58</td>\n",
       "      <td>4.6</td>\n",
       "      <td>2.2</td>\n",
       "    </tr>\n",
       "  </tbody>\n",
       "</table>\n",
       "</div>"
      ],
      "text/plain": [
       "    RRQ   OT  IUS-I\n",
       "0  2.17  3.0    1.2\n",
       "1  1.33  1.6    1.4\n",
       "2  4.25  2.2    2.4\n",
       "3  2.67  1.8    1.8\n",
       "4  4.58  4.6    2.2"
      ]
     },
     "execution_count": 93,
     "metadata": {},
     "output_type": "execute_result"
    }
   ],
   "source": [
    "y_df = X_train_df[scales].rename(columns=scales_dict)\n",
    "y_df.head()"
   ]
  },
  {
   "cell_type": "code",
   "execution_count": 94,
   "id": "0ebddd5d-7aca-4473-ac3b-9a7d1436dc6f",
   "metadata": {},
   "outputs": [],
   "source": [
    "y_df = y_df.fillna(y_df.mean())"
   ]
  },
  {
   "cell_type": "code",
   "execution_count": 95,
   "id": "121e6126-96c5-40e0-bcf8-b3a7e7fbc8b3",
   "metadata": {},
   "outputs": [
    {
     "data": {
      "text/html": [
       "<div>\n",
       "<style scoped>\n",
       "    .dataframe tbody tr th:only-of-type {\n",
       "        vertical-align: middle;\n",
       "    }\n",
       "\n",
       "    .dataframe tbody tr th {\n",
       "        vertical-align: top;\n",
       "    }\n",
       "\n",
       "    .dataframe thead th {\n",
       "        text-align: right;\n",
       "    }\n",
       "</style>\n",
       "<table border=\"1\" class=\"dataframe\">\n",
       "  <thead>\n",
       "    <tr style=\"text-align: right;\">\n",
       "      <th></th>\n",
       "      <th>PCA_1</th>\n",
       "      <th>PCA_2</th>\n",
       "      <th>PCA_3</th>\n",
       "      <th>PCA_4</th>\n",
       "      <th>RRQ</th>\n",
       "      <th>OT</th>\n",
       "      <th>IUS-I</th>\n",
       "    </tr>\n",
       "  </thead>\n",
       "  <tbody>\n",
       "    <tr>\n",
       "      <th>0</th>\n",
       "      <td>-0.581922</td>\n",
       "      <td>-0.168757</td>\n",
       "      <td>-1.135196</td>\n",
       "      <td>-0.166551</td>\n",
       "      <td>2.17</td>\n",
       "      <td>3.0</td>\n",
       "      <td>1.2</td>\n",
       "    </tr>\n",
       "    <tr>\n",
       "      <th>1</th>\n",
       "      <td>-0.412861</td>\n",
       "      <td>0.141481</td>\n",
       "      <td>0.665357</td>\n",
       "      <td>-0.214526</td>\n",
       "      <td>1.33</td>\n",
       "      <td>1.6</td>\n",
       "      <td>1.4</td>\n",
       "    </tr>\n",
       "    <tr>\n",
       "      <th>2</th>\n",
       "      <td>1.564176</td>\n",
       "      <td>-0.293272</td>\n",
       "      <td>3.371009</td>\n",
       "      <td>1.553244</td>\n",
       "      <td>4.25</td>\n",
       "      <td>2.2</td>\n",
       "      <td>2.4</td>\n",
       "    </tr>\n",
       "    <tr>\n",
       "      <th>3</th>\n",
       "      <td>-1.083597</td>\n",
       "      <td>-0.431022</td>\n",
       "      <td>-0.764672</td>\n",
       "      <td>-1.427828</td>\n",
       "      <td>2.67</td>\n",
       "      <td>1.8</td>\n",
       "      <td>1.8</td>\n",
       "    </tr>\n",
       "    <tr>\n",
       "      <th>4</th>\n",
       "      <td>-0.456852</td>\n",
       "      <td>0.272495</td>\n",
       "      <td>0.019829</td>\n",
       "      <td>-0.216957</td>\n",
       "      <td>4.58</td>\n",
       "      <td>4.6</td>\n",
       "      <td>2.2</td>\n",
       "    </tr>\n",
       "  </tbody>\n",
       "</table>\n",
       "</div>"
      ],
      "text/plain": [
       "      PCA_1     PCA_2     PCA_3     PCA_4   RRQ   OT  IUS-I\n",
       "0 -0.581922 -0.168757 -1.135196 -0.166551  2.17  3.0    1.2\n",
       "1 -0.412861  0.141481  0.665357 -0.214526  1.33  1.6    1.4\n",
       "2  1.564176 -0.293272  3.371009  1.553244  4.25  2.2    2.4\n",
       "3 -1.083597 -0.431022 -0.764672 -1.427828  2.67  1.8    1.8\n",
       "4 -0.456852  0.272495  0.019829 -0.216957  4.58  4.6    2.2"
      ]
     },
     "execution_count": 95,
     "metadata": {},
     "output_type": "execute_result"
    }
   ],
   "source": [
    "data_df = pd.concat([X_df, y_df], axis=1)\n",
    "data_df.head()"
   ]
  },
  {
   "cell_type": "markdown",
   "id": "a6727724-8b85-4fe0-9796-3bea3c53b2d3",
   "metadata": {},
   "source": [
    "### CCA"
   ]
  },
  {
   "cell_type": "code",
   "execution_count": 97,
   "id": "f2264308-433f-4acb-a3c8-96b4c2f584f7",
   "metadata": {},
   "outputs": [
    {
     "data": {
      "text/plain": [
       "CCA(n_components=3)"
      ]
     },
     "execution_count": 97,
     "metadata": {},
     "output_type": "execute_result"
    }
   ],
   "source": [
    "# Instantiate the Canonical Correlation Analysis with 2 components\n",
    "cca = CCA(n_components=3)\n",
    "\n",
    "# Fit the model\n",
    "cca.fit(X_df, y_df)"
   ]
  },
  {
   "cell_type": "code",
   "execution_count": 98,
   "id": "fccda5b6-f757-4a1a-aaf3-8b6d5746f5be",
   "metadata": {},
   "outputs": [
    {
     "data": {
      "image/png": "[encoded data removed]",
      "text/plain": [
       "<Figure size 1080x1080 with 1 Axes>"
      ]
     },
     "metadata": {
      "needs_background": "light"
     },
     "output_type": "display_data"
    }
   ],
   "source": [
    "# Obtain the rotation matrices\n",
    "xrot = cca.x_rotations_ \n",
    "yrot = cca.y_rotations_ \n",
    "\n",
    "# Put them together in a numpy matrix\n",
    "xyrot = np.vstack((xrot,yrot))\n",
    "\n",
    "nvariables = xyrot.shape[0]\n",
    "\n",
    "plt.figure(figsize=(15, 15))\n",
    "plt.xlim((-1,1))\n",
    "plt.ylim((-1,1))\n",
    "\n",
    "# Plot an arrow and a text label for each variable\n",
    "for var_i in range(nvariables):\n",
    "    x = xyrot[var_i,0]\n",
    "    y = xyrot[var_i,1]\n",
    "\n",
    "    plt.arrow(0,0,x,y)\n",
    "    plt.text(x,y,data_df.columns[var_i], color='red' if var_i >= 4 else 'blue')\n",
    "\n",
    "plt.show()"
   ]
  },
  {
   "cell_type": "code",
   "execution_count": 99,
   "id": "438daeb2-8746-43c2-a844-0f655d7422cd",
   "metadata": {},
   "outputs": [
    {
     "data": {
      "image/png": "[encoded data removed]",
      "text/plain": [
       "<Figure size 1080x1080 with 1 Axes>"
      ]
     },
     "metadata": {
      "needs_background": "light"
     },
     "output_type": "display_data"
    }
   ],
   "source": [
    "# Obtain the rotation matrices\n",
    "xrot = cca.x_rotations_ \n",
    "yrot = cca.y_rotations_ \n",
    "\n",
    "# Put them together in a numpy matrix\n",
    "xyrot = np.vstack((xrot,yrot))\n",
    "\n",
    "nvariables = xyrot.shape[0]\n",
    "\n",
    "plt.figure(figsize=(15, 15))\n",
    "plt.xlim((-1,1))\n",
    "plt.ylim((-1,1))\n",
    "\n",
    "# Plot an arrow and a text label for each variable\n",
    "for var_i in range(nvariables):\n",
    "    x = xyrot[var_i,0]\n",
    "    y = xyrot[var_i,2]\n",
    "\n",
    "    plt.arrow(0,0,x,y)\n",
    "    plt.text(x,y,data_df.columns[var_i], color='red' if var_i >= 4 else 'blue')\n",
    "\n",
    "plt.show()"
   ]
  },
  {
   "cell_type": "code",
   "execution_count": 100,
   "id": "1c81d9aa-1b7b-4dae-89ae-a86ec223864c",
   "metadata": {},
   "outputs": [
    {
     "data": {
      "image/png": "[encoded data removed]",
      "text/plain": [
       "<Figure size 1080x1080 with 1 Axes>"
      ]
     },
     "metadata": {
      "needs_background": "light"
     },
     "output_type": "display_data"
    }
   ],
   "source": [
    "# Obtain the rotation matrices\n",
    "xrot = cca.x_rotations_ \n",
    "yrot = cca.y_rotations_ \n",
    "\n",
    "# Put them together in a numpy matrix\n",
    "xyrot = np.vstack((xrot,yrot))\n",
    "\n",
    "nvariables = xyrot.shape[0]\n",
    "\n",
    "plt.figure(figsize=(15, 15))\n",
    "plt.xlim((-1,1))\n",
    "plt.ylim((-1,1))\n",
    "\n",
    "# Plot an arrow and a text label for each variable\n",
    "for var_i in range(nvariables):\n",
    "    x = xyrot[var_i,1]\n",
    "    y = xyrot[var_i,2]\n",
    "\n",
    "    plt.arrow(0,0,x,y)\n",
    "    plt.text(x,y,data_df.columns[var_i], color='red' if var_i >= 4 else 'blue')\n",
    "\n",
    "plt.show()"
   ]
  },
  {
   "cell_type": "markdown",
   "id": "3e85d454-09e9-441d-98cc-c0c9b0a6ab9c",
   "metadata": {},
   "source": [
    "## Pe"
   ]
  },
  {
   "cell_type": "markdown",
   "id": "69f4e528-ecf3-4a95-914f-60d4a7e1dc43",
   "metadata": {},
   "source": [
    "### Extract significant relationships"
   ]
  },
  {
   "cell_type": "code",
   "execution_count": 53,
   "id": "8153ad67-fd81-4061-8b28-78df4c5b1563",
   "metadata": {},
   "outputs": [
    {
     "data": {
      "text/html": [
       "<div>\n",
       "<style scoped>\n",
       "    .dataframe tbody tr th:only-of-type {\n",
       "        vertical-align: middle;\n",
       "    }\n",
       "\n",
       "    .dataframe tbody tr th {\n",
       "        vertical-align: top;\n",
       "    }\n",
       "\n",
       "    .dataframe thead th {\n",
       "        text-align: right;\n",
       "    }\n",
       "</style>\n",
       "<table border=\"1\" class=\"dataframe\">\n",
       "  <thead>\n",
       "    <tr style=\"text-align: right;\">\n",
       "      <th></th>\n",
       "      <th>data_set</th>\n",
       "      <th>pipeline_name</th>\n",
       "      <th>model</th>\n",
       "      <th>parameters</th>\n",
       "      <th>mean_cv_r2</th>\n",
       "      <th>std_cv_r2</th>\n",
       "      <th>mean_cv_mae</th>\n",
       "      <th>std_cv_mae</th>\n",
       "      <th>mean_cv_mse</th>\n",
       "      <th>std_cv_mse</th>\n",
       "      <th>cv_results</th>\n",
       "      <th>mean_train_r2</th>\n",
       "      <th>mean_train_mae</th>\n",
       "      <th>mean_train_mse</th>\n",
       "      <th>p-value</th>\n",
       "      <th>best_estimator</th>\n",
       "      <th>pre_processed_pipeline</th>\n",
       "      <th>scale</th>\n",
       "      <th>external_score</th>\n",
       "      <th>external_p-value</th>\n",
       "    </tr>\n",
       "  </thead>\n",
       "  <tbody>\n",
       "    <tr>\n",
       "      <th>3</th>\n",
       "      <td>error_response</td>\n",
       "      <td>PCA_3_scale_07-BIS</td>\n",
       "      <td>en</td>\n",
       "      <td>{'en__alpha': 0.6951927961775606, 'en__l1_rati...</td>\n",
       "      <td>0.010798</td>\n",
       "      <td>0.014686</td>\n",
       "      <td>-0.491464</td>\n",
       "      <td>0.052304</td>\n",
       "      <td>-0.330572</td>\n",
       "      <td>0.060272</td>\n",
       "      <td>{'mean_fit_time': [0.007289886474609375, 0.008...</td>\n",
       "      <td>0.047343</td>\n",
       "      <td>-0.485214</td>\n",
       "      <td>-0.318102</td>\n",
       "      <td>0.044955</td>\n",
       "      <td>(FeatureUnion(n_jobs=10,\\n             transfo...</td>\n",
       "      <td>(PickChannels(channels_list=['Fpz', 'F1', 'Fz'...</td>\n",
       "      <td>BIS</td>\n",
       "      <td>0.048408</td>\n",
       "      <td>0.052947</td>\n",
       "    </tr>\n",
       "    <tr>\n",
       "      <th>12</th>\n",
       "      <td>error_response</td>\n",
       "      <td>PCA_3_scale_16-Rumination Full Scale</td>\n",
       "      <td>svr</td>\n",
       "      <td>{'svr__C': 0.1, 'svr__epsilon': 0.1, 'svr__gam...</td>\n",
       "      <td>0.052768</td>\n",
       "      <td>0.042269</td>\n",
       "      <td>-0.700315</td>\n",
       "      <td>0.067102</td>\n",
       "      <td>-0.756656</td>\n",
       "      <td>0.057081</td>\n",
       "      <td>{'mean_fit_time': [0.009009838104248047, 0.013...</td>\n",
       "      <td>0.098618</td>\n",
       "      <td>-0.677934</td>\n",
       "      <td>-0.725360</td>\n",
       "      <td>0.005994</td>\n",
       "      <td>(FeatureUnion(n_jobs=10,\\n             transfo...</td>\n",
       "      <td>(PickChannels(channels_list=['Fpz', 'AFz', 'Fz...</td>\n",
       "      <td>RRQ</td>\n",
       "      <td>0.108485</td>\n",
       "      <td>0.024975</td>\n",
       "    </tr>\n",
       "    <tr>\n",
       "      <th>15</th>\n",
       "      <td>error_response</td>\n",
       "      <td>PCA_3_scale_28-Intolerance of Uncertainty - Pr...</td>\n",
       "      <td>svr</td>\n",
       "      <td>{'svr__C': 0.1, 'svr__epsilon': 0.01, 'svr__ga...</td>\n",
       "      <td>0.046577</td>\n",
       "      <td>0.060381</td>\n",
       "      <td>-0.608425</td>\n",
       "      <td>0.052721</td>\n",
       "      <td>-0.586643</td>\n",
       "      <td>0.127528</td>\n",
       "      <td>{'mean_fit_time': [0.01009670893351237, 0.0074...</td>\n",
       "      <td>0.055649</td>\n",
       "      <td>-0.599423</td>\n",
       "      <td>-0.577504</td>\n",
       "      <td>0.006993</td>\n",
       "      <td>(FeatureUnion(n_jobs=10,\\n             transfo...</td>\n",
       "      <td>(PickChannels(channels_list=['Fpz', 'F1', 'Fz'...</td>\n",
       "      <td>IUS-P</td>\n",
       "      <td>0.194465</td>\n",
       "      <td>0.008991</td>\n",
       "    </tr>\n",
       "  </tbody>\n",
       "</table>\n",
       "</div>"
      ],
      "text/plain": [
       "          data_set                                      pipeline_name model  \\\n",
       "3   error_response                                 PCA_3_scale_07-BIS    en   \n",
       "12  error_response               PCA_3_scale_16-Rumination Full Scale   svr   \n",
       "15  error_response  PCA_3_scale_28-Intolerance of Uncertainty - Pr...   svr   \n",
       "\n",
       "                                           parameters  mean_cv_r2  std_cv_r2  \\\n",
       "3   {'en__alpha': 0.6951927961775606, 'en__l1_rati...    0.010798   0.014686   \n",
       "12  {'svr__C': 0.1, 'svr__epsilon': 0.1, 'svr__gam...    0.052768   0.042269   \n",
       "15  {'svr__C': 0.1, 'svr__epsilon': 0.01, 'svr__ga...    0.046577   0.060381   \n",
       "\n",
       "    mean_cv_mae  std_cv_mae  mean_cv_mse  std_cv_mse  \\\n",
       "3     -0.491464    0.052304    -0.330572    0.060272   \n",
       "12    -0.700315    0.067102    -0.756656    0.057081   \n",
       "15    -0.608425    0.052721    -0.586643    0.127528   \n",
       "\n",
       "                                           cv_results  mean_train_r2  \\\n",
       "3   {'mean_fit_time': [0.007289886474609375, 0.008...       0.047343   \n",
       "12  {'mean_fit_time': [0.009009838104248047, 0.013...       0.098618   \n",
       "15  {'mean_fit_time': [0.01009670893351237, 0.0074...       0.055649   \n",
       "\n",
       "    mean_train_mae  mean_train_mse   p-value  \\\n",
       "3        -0.485214       -0.318102  0.044955   \n",
       "12       -0.677934       -0.725360  0.005994   \n",
       "15       -0.599423       -0.577504  0.006993   \n",
       "\n",
       "                                       best_estimator  \\\n",
       "3   (FeatureUnion(n_jobs=10,\\n             transfo...   \n",
       "12  (FeatureUnion(n_jobs=10,\\n             transfo...   \n",
       "15  (FeatureUnion(n_jobs=10,\\n             transfo...   \n",
       "\n",
       "                               pre_processed_pipeline  scale  external_score  \\\n",
       "3   (PickChannels(channels_list=['Fpz', 'F1', 'Fz'...    BIS        0.048408   \n",
       "12  (PickChannels(channels_list=['Fpz', 'AFz', 'Fz...    RRQ        0.108485   \n",
       "15  (PickChannels(channels_list=['Fpz', 'F1', 'Fz'...  IUS-P        0.194465   \n",
       "\n",
       "    external_p-value  \n",
       "3           0.052947  \n",
       "12          0.024975  \n",
       "15          0.008991  "
      ]
     },
     "execution_count": 53,
     "metadata": {},
     "output_type": "execute_result"
    }
   ],
   "source": [
    "significant_results = results_pe[(results_pe['mean_cv_r2'] > 0.0) & (results_pe['external_score'] > 0.0) & (results_pe['external_p-value'] < 0.07)]\n",
    "significant_results"
   ]
  },
  {
   "cell_type": "markdown",
   "id": "08cc9c94-95c9-4d62-a14c-f88c4bd36f3c",
   "metadata": {},
   "source": [
    "Extract pre-processing pipeline"
   ]
  },
  {
   "cell_type": "code",
   "execution_count": 60,
   "id": "26c68ec5-2be4-4dbf-8b0b-c19de0c07fe9",
   "metadata": {},
   "outputs": [
    {
     "data": {
      "text/plain": [
       "[('channels_extraction',\n",
       "  PickChannels(channels_list=['Fpz', 'F1', 'Fz', 'F2', 'FC1', 'FCz', 'FC2', 'C1',\n",
       "                              'Cz', 'C2', 'CP1', 'CPz', 'CP2', 'P1', 'Pz', 'P2'])),\n",
       " ('average', Evoked()),\n",
       " ('extract_averaged_data', ExtractData()),\n",
       " ('spatial_filter_preprocessing', SpatialFilterPreprocessing()),\n",
       " ('spatial_filter', PCA(n_components=3, random_state=0)),\n",
       " ('spatial_filter_postprocessing',\n",
       "  SpatialFilterPostprocessing(timepoints_count=181)),\n",
       " ('lowpass_filter', LowpassFilter()),\n",
       " ('binning', BinTransformer()),\n",
       " ('baseline', ErnBaselined()),\n",
       " ('centering', CenteredSignalAfterBaseline3())]"
      ]
     },
     "execution_count": 60,
     "metadata": {},
     "output_type": "execute_result"
    }
   ],
   "source": [
    "pre_processing_pipeline_steps = significant_results['pre_processed_pipeline'].iloc[0].steps\n",
    "pre_processing_pipeline_steps"
   ]
  },
  {
   "cell_type": "code",
   "execution_count": 61,
   "id": "6a977028-76e9-4a6b-8a18-ecf8f177caee",
   "metadata": {},
   "outputs": [
    {
     "data": {
      "text/plain": [
       "[('pe_data_extraction', PeTransformer(stop_pe_bin=9)),\n",
       " ('pe_amplitude', PeAmplitude2()),\n",
       " ('data_channel_swap', ChannelDataSwap()),\n",
       " ('postprocessing', PostprocessingTransformer()),\n",
       " ('scaler', StandardScaler())]"
      ]
     },
     "execution_count": 61,
     "metadata": {},
     "output_type": "execute_result"
    }
   ],
   "source": [
    "post_pca_pipeline_steps = significant_results.best_estimator.iloc[0]['features'].transformer_list[0][1].steps\n",
    "post_pca_pipeline_steps"
   ]
  },
  {
   "cell_type": "code",
   "execution_count": 62,
   "id": "e9e212ac-20e2-476a-a958-b68e78748938",
   "metadata": {},
   "outputs": [],
   "source": [
    "pipeline = Pipeline(pre_processing_pipeline_steps + post_pca_pipeline_steps)"
   ]
  },
  {
   "cell_type": "markdown",
   "id": "712211d5-a746-469b-a11d-2690913c556a",
   "metadata": {
    "tags": []
   },
   "source": [
    "Read data"
   ]
  },
  {
   "cell_type": "code",
   "execution_count": 63,
   "id": "9ba6e304-2867-4f0d-b126-666243994685",
   "metadata": {
    "tags": []
   },
   "outputs": [
    {
     "name": "stdout",
     "output_type": "stream",
     "text": [
      "Pickled file found. Loading pickled data...\n",
      "Done\n"
     ]
    }
   ],
   "source": [
    "df_name = \"go_nogo_100_600_df_3-5_all_scales\"\n",
    "pickled_data_filename = \"../data/responses_100_600_pickled/\" + df_name + \".pkl\"\n",
    "\n",
    "if os.path.isfile(pickled_data_filename):\n",
    "    print(\"Pickled file found. Loading pickled data...\")\n",
    "    epochs_df = pd.read_pickle(pickled_data_filename)\n",
    "    print(\"Done\")\n",
    "    pass\n",
    "else:\n",
    "    print(\"Pickled file not found\")"
   ]
  },
  {
   "cell_type": "code",
   "execution_count": 64,
   "id": "f8bad545-eb0e-4544-9d36-9bba88389538",
   "metadata": {
    "tags": []
   },
   "outputs": [],
   "source": [
    "X_train_df = epochs_df"
   ]
  },
  {
   "cell_type": "markdown",
   "id": "08fcd2dc-5591-46b8-91cb-383d3cefa4ef",
   "metadata": {},
   "source": [
    "Create X set"
   ]
  },
  {
   "cell_type": "code",
   "execution_count": 65,
   "id": "22c05443-55ed-4bf2-be7f-c31369470a4b",
   "metadata": {},
   "outputs": [
    {
     "name": "stdout",
     "output_type": "stream",
     "text": [
      "(96, 16, 181)\n"
     ]
    },
    {
     "data": {
      "text/plain": [
       "(96, 3)"
      ]
     },
     "execution_count": 65,
     "metadata": {},
     "output_type": "execute_result"
    }
   ],
   "source": [
    "X_train_eeg_features = pipeline.transform(X_train_df)\n",
    "X_train_eeg_features.shape"
   ]
  },
  {
   "cell_type": "code",
   "execution_count": 66,
   "id": "f9789633-fc2a-49e7-8483-1221fb2f8b18",
   "metadata": {},
   "outputs": [
    {
     "data": {
      "text/html": [
       "<div>\n",
       "<style scoped>\n",
       "    .dataframe tbody tr th:only-of-type {\n",
       "        vertical-align: middle;\n",
       "    }\n",
       "\n",
       "    .dataframe tbody tr th {\n",
       "        vertical-align: top;\n",
       "    }\n",
       "\n",
       "    .dataframe thead th {\n",
       "        text-align: right;\n",
       "    }\n",
       "</style>\n",
       "<table border=\"1\" class=\"dataframe\">\n",
       "  <thead>\n",
       "    <tr style=\"text-align: right;\">\n",
       "      <th></th>\n",
       "      <th>PCA_1</th>\n",
       "      <th>PCA_2</th>\n",
       "      <th>PCA_3</th>\n",
       "    </tr>\n",
       "  </thead>\n",
       "  <tbody>\n",
       "    <tr>\n",
       "      <th>0</th>\n",
       "      <td>2.147863</td>\n",
       "      <td>-0.241824</td>\n",
       "      <td>-0.395047</td>\n",
       "    </tr>\n",
       "    <tr>\n",
       "      <th>1</th>\n",
       "      <td>-0.104353</td>\n",
       "      <td>0.510953</td>\n",
       "      <td>1.039721</td>\n",
       "    </tr>\n",
       "    <tr>\n",
       "      <th>2</th>\n",
       "      <td>0.914020</td>\n",
       "      <td>2.809245</td>\n",
       "      <td>3.459358</td>\n",
       "    </tr>\n",
       "    <tr>\n",
       "      <th>3</th>\n",
       "      <td>-1.511832</td>\n",
       "      <td>-1.423347</td>\n",
       "      <td>-1.590243</td>\n",
       "    </tr>\n",
       "    <tr>\n",
       "      <th>4</th>\n",
       "      <td>-1.423066</td>\n",
       "      <td>-0.112046</td>\n",
       "      <td>0.651959</td>\n",
       "    </tr>\n",
       "  </tbody>\n",
       "</table>\n",
       "</div>"
      ],
      "text/plain": [
       "      PCA_1     PCA_2     PCA_3\n",
       "0  2.147863 -0.241824 -0.395047\n",
       "1 -0.104353  0.510953  1.039721\n",
       "2  0.914020  2.809245  3.459358\n",
       "3 -1.511832 -1.423347 -1.590243\n",
       "4 -1.423066 -0.112046  0.651959"
      ]
     },
     "execution_count": 66,
     "metadata": {},
     "output_type": "execute_result"
    }
   ],
   "source": [
    "X_df = pd.DataFrame(X_train_eeg_features, columns=['PCA_1','PCA_2', 'PCA_3'])\n",
    "X_df.head()"
   ]
  },
  {
   "cell_type": "markdown",
   "id": "45d5b0f0-12cc-4a10-bef3-1b17ff96b871",
   "metadata": {},
   "source": [
    "Create y set"
   ]
  },
  {
   "cell_type": "code",
   "execution_count": 67,
   "id": "784af758-206c-44ba-89e3-ff88743aceb3",
   "metadata": {},
   "outputs": [],
   "source": [
    "rumination = \"16-Rumination Full Scale\"\n",
    "bis = \"07-BIS\"\n",
    "IU_prospecitve = \"28-Intolerance of Uncertainty - Prospective Anxiety\"\n",
    "\n",
    "scales = [\n",
    "    rumination,\n",
    "    bis,\n",
    "    IU_prospecitve,\n",
    "]\n",
    "\n",
    "scales_dict = {\n",
    "    \"16-Rumination Full Scale\": \"RRQ\",\n",
    "    \"07-BIS\": \"BIS\",\n",
    "    \"28-Intolerance of Uncertainty - Prospective Anxiety\": \"IUS-P\",\n",
    "}"
   ]
  },
  {
   "cell_type": "code",
   "execution_count": 68,
   "id": "e0c00dd9-f176-4785-b572-eaaaa8dfc0f1",
   "metadata": {},
   "outputs": [
    {
     "data": {
      "text/html": [
       "<div>\n",
       "<style scoped>\n",
       "    .dataframe tbody tr th:only-of-type {\n",
       "        vertical-align: middle;\n",
       "    }\n",
       "\n",
       "    .dataframe tbody tr th {\n",
       "        vertical-align: top;\n",
       "    }\n",
       "\n",
       "    .dataframe thead th {\n",
       "        text-align: right;\n",
       "    }\n",
       "</style>\n",
       "<table border=\"1\" class=\"dataframe\">\n",
       "  <thead>\n",
       "    <tr style=\"text-align: right;\">\n",
       "      <th></th>\n",
       "      <th>RRQ</th>\n",
       "      <th>BIS</th>\n",
       "      <th>IUS-P</th>\n",
       "    </tr>\n",
       "  </thead>\n",
       "  <tbody>\n",
       "    <tr>\n",
       "      <th>0</th>\n",
       "      <td>2.17</td>\n",
       "      <td>2.43</td>\n",
       "      <td>3.00</td>\n",
       "    </tr>\n",
       "    <tr>\n",
       "      <th>1</th>\n",
       "      <td>1.33</td>\n",
       "      <td>2.86</td>\n",
       "      <td>1.71</td>\n",
       "    </tr>\n",
       "    <tr>\n",
       "      <th>2</th>\n",
       "      <td>4.25</td>\n",
       "      <td>3.57</td>\n",
       "      <td>3.43</td>\n",
       "    </tr>\n",
       "    <tr>\n",
       "      <th>3</th>\n",
       "      <td>2.67</td>\n",
       "      <td>1.86</td>\n",
       "      <td>2.86</td>\n",
       "    </tr>\n",
       "    <tr>\n",
       "      <th>4</th>\n",
       "      <td>4.58</td>\n",
       "      <td>2.43</td>\n",
       "      <td>2.43</td>\n",
       "    </tr>\n",
       "  </tbody>\n",
       "</table>\n",
       "</div>"
      ],
      "text/plain": [
       "    RRQ   BIS  IUS-P\n",
       "0  2.17  2.43   3.00\n",
       "1  1.33  2.86   1.71\n",
       "2  4.25  3.57   3.43\n",
       "3  2.67  1.86   2.86\n",
       "4  4.58  2.43   2.43"
      ]
     },
     "execution_count": 68,
     "metadata": {},
     "output_type": "execute_result"
    }
   ],
   "source": [
    "y_df = X_train_df[scales].rename(columns=scales_dict)\n",
    "y_df.head()"
   ]
  },
  {
   "cell_type": "code",
   "execution_count": 69,
   "id": "2bbfcfc9-e968-4a70-88c1-1b5e1fb82ae0",
   "metadata": {},
   "outputs": [],
   "source": [
    "y_df = y_df.fillna(y_df.mean())"
   ]
  },
  {
   "cell_type": "code",
   "execution_count": 70,
   "id": "02ac725a-dbd8-421c-bfc5-ac1b792357aa",
   "metadata": {},
   "outputs": [
    {
     "data": {
      "text/html": [
       "<div>\n",
       "<style scoped>\n",
       "    .dataframe tbody tr th:only-of-type {\n",
       "        vertical-align: middle;\n",
       "    }\n",
       "\n",
       "    .dataframe tbody tr th {\n",
       "        vertical-align: top;\n",
       "    }\n",
       "\n",
       "    .dataframe thead th {\n",
       "        text-align: right;\n",
       "    }\n",
       "</style>\n",
       "<table border=\"1\" class=\"dataframe\">\n",
       "  <thead>\n",
       "    <tr style=\"text-align: right;\">\n",
       "      <th></th>\n",
       "      <th>PCA_1</th>\n",
       "      <th>PCA_2</th>\n",
       "      <th>PCA_3</th>\n",
       "      <th>RRQ</th>\n",
       "      <th>BIS</th>\n",
       "      <th>IUS-P</th>\n",
       "    </tr>\n",
       "  </thead>\n",
       "  <tbody>\n",
       "    <tr>\n",
       "      <th>0</th>\n",
       "      <td>2.147863</td>\n",
       "      <td>-0.241824</td>\n",
       "      <td>-0.395047</td>\n",
       "      <td>2.17</td>\n",
       "      <td>2.43</td>\n",
       "      <td>3.00</td>\n",
       "    </tr>\n",
       "    <tr>\n",
       "      <th>1</th>\n",
       "      <td>-0.104353</td>\n",
       "      <td>0.510953</td>\n",
       "      <td>1.039721</td>\n",
       "      <td>1.33</td>\n",
       "      <td>2.86</td>\n",
       "      <td>1.71</td>\n",
       "    </tr>\n",
       "    <tr>\n",
       "      <th>2</th>\n",
       "      <td>0.914020</td>\n",
       "      <td>2.809245</td>\n",
       "      <td>3.459358</td>\n",
       "      <td>4.25</td>\n",
       "      <td>3.57</td>\n",
       "      <td>3.43</td>\n",
       "    </tr>\n",
       "    <tr>\n",
       "      <th>3</th>\n",
       "      <td>-1.511832</td>\n",
       "      <td>-1.423347</td>\n",
       "      <td>-1.590243</td>\n",
       "      <td>2.67</td>\n",
       "      <td>1.86</td>\n",
       "      <td>2.86</td>\n",
       "    </tr>\n",
       "    <tr>\n",
       "      <th>4</th>\n",
       "      <td>-1.423066</td>\n",
       "      <td>-0.112046</td>\n",
       "      <td>0.651959</td>\n",
       "      <td>4.58</td>\n",
       "      <td>2.43</td>\n",
       "      <td>2.43</td>\n",
       "    </tr>\n",
       "  </tbody>\n",
       "</table>\n",
       "</div>"
      ],
      "text/plain": [
       "      PCA_1     PCA_2     PCA_3   RRQ   BIS  IUS-P\n",
       "0  2.147863 -0.241824 -0.395047  2.17  2.43   3.00\n",
       "1 -0.104353  0.510953  1.039721  1.33  2.86   1.71\n",
       "2  0.914020  2.809245  3.459358  4.25  3.57   3.43\n",
       "3 -1.511832 -1.423347 -1.590243  2.67  1.86   2.86\n",
       "4 -1.423066 -0.112046  0.651959  4.58  2.43   2.43"
      ]
     },
     "execution_count": 70,
     "metadata": {},
     "output_type": "execute_result"
    }
   ],
   "source": [
    "data_df = pd.concat([X_df, y_df], axis=1)\n",
    "data_df.head()"
   ]
  },
  {
   "cell_type": "markdown",
   "id": "af1c1027-a809-48db-97f2-31bf566ccca4",
   "metadata": {},
   "source": [
    "### CCA"
   ]
  },
  {
   "cell_type": "code",
   "execution_count": 79,
   "id": "467078df-247a-410e-bc3b-6781fda0fab6",
   "metadata": {},
   "outputs": [
    {
     "data": {
      "text/plain": [
       "CCA(n_components=3)"
      ]
     },
     "execution_count": 79,
     "metadata": {},
     "output_type": "execute_result"
    }
   ],
   "source": [
    "# Instantiate the Canonical Correlation Analysis with 2 components\n",
    "cca = CCA(n_components=3)\n",
    "\n",
    "# Fit the model\n",
    "cca.fit(X_df, y_df)"
   ]
  },
  {
   "cell_type": "code",
   "execution_count": 80,
   "id": "b947ee8e-8ad9-439b-bbd7-ebf8b1e88053",
   "metadata": {},
   "outputs": [
    {
     "data": {
      "image/png": "[encoded data removed]",
      "text/plain": [
       "<Figure size 1080x1080 with 1 Axes>"
      ]
     },
     "metadata": {
      "needs_background": "light"
     },
     "output_type": "display_data"
    }
   ],
   "source": [
    "# Obtain the rotation matrices\n",
    "xrot = cca.x_rotations_ \n",
    "yrot = cca.y_rotations_ \n",
    "\n",
    "# Put them together in a numpy matrix\n",
    "xyrot = np.vstack((xrot,yrot))\n",
    "\n",
    "nvariables = xyrot.shape[0]\n",
    "\n",
    "plt.figure(figsize=(15, 15))\n",
    "plt.xlim((-1,1))\n",
    "plt.ylim((-1,1))\n",
    "\n",
    "# Plot an arrow and a text label for each variable\n",
    "for var_i in range(nvariables):\n",
    "    x = xyrot[var_i,0]\n",
    "    y = xyrot[var_i,1]\n",
    "\n",
    "    plt.arrow(0,0,x,y)\n",
    "    plt.text(x,y,data_df.columns[var_i], color='red' if var_i >= 3 else 'blue')\n",
    "\n",
    "plt.show()"
   ]
  },
  {
   "cell_type": "code",
   "execution_count": 82,
   "id": "ea87fd6d-6501-4b34-85bc-ecba0a0ac74b",
   "metadata": {},
   "outputs": [
    {
     "data": {
      "image/png": "[encoded data removed]",
      "text/plain": [
       "<Figure size 1080x1080 with 1 Axes>"
      ]
     },
     "metadata": {
      "needs_background": "light"
     },
     "output_type": "display_data"
    }
   ],
   "source": [
    "# Obtain the rotation matrices\n",
    "xrot = cca.x_rotations_ \n",
    "yrot = cca.y_rotations_ \n",
    "\n",
    "# Put them together in a numpy matrix\n",
    "xyrot = np.vstack((xrot,yrot))\n",
    "\n",
    "nvariables = xyrot.shape[0]\n",
    "\n",
    "plt.figure(figsize=(15, 15))\n",
    "plt.xlim((-1,1))\n",
    "plt.ylim((-1,1))\n",
    "\n",
    "# Plot an arrow and a text label for each variable\n",
    "for var_i in range(nvariables):\n",
    "    x = xyrot[var_i,0]\n",
    "    y = xyrot[var_i,2]\n",
    "\n",
    "    plt.arrow(0,0,x,y)\n",
    "    plt.text(x,y,data_df.columns[var_i], color='red' if var_i >= 3 else 'blue')\n",
    "\n",
    "plt.show()"
   ]
  },
  {
   "cell_type": "code",
   "execution_count": 83,
   "id": "244ea7a7-79ec-4c4f-988d-f6d68b59cbfd",
   "metadata": {},
   "outputs": [
    {
     "data": {
      "image/png": "[encoded data removed]",
      "text/plain": [
       "<Figure size 1080x1080 with 1 Axes>"
      ]
     },
     "metadata": {
      "needs_background": "light"
     },
     "output_type": "display_data"
    }
   ],
   "source": [
    "# Obtain the rotation matrices\n",
    "xrot = cca.x_rotations_ \n",
    "yrot = cca.y_rotations_ \n",
    "\n",
    "# Put them together in a numpy matrix\n",
    "xyrot = np.vstack((xrot,yrot))\n",
    "\n",
    "nvariables = xyrot.shape[0]\n",
    "\n",
    "plt.figure(figsize=(15, 15))\n",
    "plt.xlim((-1,1))\n",
    "plt.ylim((-1,1))\n",
    "\n",
    "# Plot an arrow and a text label for each variable\n",
    "for var_i in range(nvariables):\n",
    "    x = xyrot[var_i,1]\n",
    "    y = xyrot[var_i,2]\n",
    "\n",
    "    plt.arrow(0,0,x,y)\n",
    "    plt.text(x,y,data_df.columns[var_i], color='red' if var_i >= 3 else 'blue')\n",
    "\n",
    "plt.show()"
   ]
  },
  {
   "cell_type": "code",
   "execution_count": null,
   "id": "7ec4f336-6c91-4a34-bcbc-7ce4c0dbc7bf",
   "metadata": {},
   "outputs": [],
   "source": []
  }
 ],
 "metadata": {
  "kernelspec": {
   "display_name": "erroneurous",
   "language": "python",
   "name": "erroneurous"
  },
  "language_info": {
   "codemirror_mode": {
    "name": "ipython",
    "version": 3
   },
   "file_extension": ".py",
   "mimetype": "text/x-python",
   "name": "python",
   "nbconvert_exporter": "python",
   "pygments_lexer": "ipython3",
   "version": "3.8.10"
  }
 },
 "nbformat": 4,
 "nbformat_minor": 5
}
