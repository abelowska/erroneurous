{
 "cells": [
  {
   "cell_type": "markdown",
   "id": "40a73099-38c1-4bf0-afd3-5481df7c3d19",
   "metadata": {},
   "source": [
    "# ERN and Pe PCA components' scores"
   ]
  },
  {
   "cell_type": "markdown",
   "id": "d8ff9f56-5483-44c7-b9cc-486a31838279",
   "metadata": {},
   "source": [
    "### Imports"
   ]
  },
  {
   "cell_type": "code",
   "execution_count": 1,
   "id": "e9e84d26-b32c-41ae-b3f4-81e0ee55156b",
   "metadata": {},
   "outputs": [],
   "source": [
    "import os\n",
    "import re\n",
    "import glob\n",
    "import os\n",
    "import ast\n",
    "import os.path as op\n",
    "from collections import defaultdict\n",
    "from copy import deepcopy\n",
    "import copy\n",
    "\n",
    "import pickle\n",
    "from time import time\n",
    "import pywt\n",
    "import mne\n",
    "import scipy\n",
    "import numpy as np\n",
    "import plotly.graph_objects as go\n",
    "import plotly.express as px\n",
    "import pandas as pd\n",
    "import cesium.featurize\n",
    "from plotly.subplots import make_subplots\n",
    "from ipywidgets import Dropdown, FloatRangeSlider, IntSlider, FloatSlider, interact\n",
    "from sklearn.metrics import roc_auc_score\n",
    "from sklearn.model_selection import StratifiedKFold\n",
    "from sklearn.model_selection import train_test_split\n",
    "from sklearn.discriminant_analysis import LinearDiscriminantAnalysis\n",
    "from sklearn.base import TransformerMixin, BaseEstimator\n",
    "\n",
    "import sys\n",
    "\n",
    "from sklearn.pipeline import Pipeline, FeatureUnion\n",
    "from sklearn.preprocessing import StandardScaler\n",
    "from sklearn.preprocessing import FunctionTransformer\n",
    "from sklearn.svm import SVR\n",
    "from sklearn.decomposition import FastICA\n",
    "from sklearn.decomposition import PCA\n",
    "\n",
    "from rumination_experiment_transformers_averaged_CDS import *\n",
    "\n",
    "import warnings\n",
    "\n",
    "warnings.filterwarnings(\"ignore\")\n"
   ]
  },
  {
   "cell_type": "code",
   "execution_count": 2,
   "id": "727b28e2-f75c-47d7-97f2-24df8f7950ec",
   "metadata": {},
   "outputs": [],
   "source": [
    "pd.set_option('display.max_rows', None)\n",
    "pd.set_option('display.max_columns', None)"
   ]
  },
  {
   "cell_type": "markdown",
   "id": "59c69899-6a32-4418-9079-8bd66aed497f",
   "metadata": {},
   "source": [
    "## Load pickled ERN and Pe results"
   ]
  },
  {
   "cell_type": "code",
   "execution_count": 3,
   "id": "ba91198f",
   "metadata": {},
   "outputs": [],
   "source": [
    "results_ern = pd.read_pickle(\"../public_data/results/models_pickles/ern_results_with_external-p.pkl\")\n",
    "results_pe = pd.read_pickle(\"../public_data/results/models_pickles/pe_results_with_external-p.pkl\")"
   ]
  },
  {
   "cell_type": "markdown",
   "id": "3f5c66de",
   "metadata": {},
   "source": [
    "## Compute ERN and Pe components scores"
   ]
  },
  {
   "cell_type": "markdown",
   "id": "65c0cad2",
   "metadata": {},
   "source": [
    "### 1. Extract data pre-processing pipeliens for ERn and Pe"
   ]
  },
  {
   "cell_type": "markdown",
   "id": "5b9a6add-d60f-4cf3-8ec5-89b0c7e176fe",
   "metadata": {},
   "source": [
    "#### Extract post-PCA pipeline for ERN"
   ]
  },
  {
   "cell_type": "code",
   "execution_count": 4,
   "id": "f1fb66bf-1547-4f7c-8746-6b5e7c4cd214",
   "metadata": {
    "scrolled": true
   },
   "outputs": [
    {
     "data": {
      "text/plain": [
       "Pipeline(steps=[('ern_data_extraction', ErnTransformer()),\n",
       "                ('ern_amplitude', ErnAmplitude2()),\n",
       "                ('data_channel_swap', ChannelDataSwap()),\n",
       "                ('postprocessing', PostprocessingTransformer())])"
      ]
     },
     "execution_count": 4,
     "metadata": {},
     "output_type": "execute_result"
    }
   ],
   "source": [
    "last_steps_pipeline_ern = results_ern.best_estimator.iloc[0]['features'].transformer_list[0][1][:-1]\n",
    "last_steps_pipeline_ern"
   ]
  },
  {
   "cell_type": "markdown",
   "id": "39620d3e",
   "metadata": {},
   "source": [
    "#### Extract post-PCA pipeline for Pe"
   ]
  },
  {
   "cell_type": "code",
   "execution_count": 5,
   "id": "93b886b2",
   "metadata": {
    "scrolled": false
   },
   "outputs": [
    {
     "data": {
      "text/plain": [
       "Pipeline(steps=[('pe_data_extraction', PeTransformer(stop_pe_bin=9)),\n",
       "                ('pe_amplitude', PeAmplitude2()),\n",
       "                ('data_channel_swap', ChannelDataSwap()),\n",
       "                ('postprocessing', PostprocessingTransformer())])"
      ]
     },
     "execution_count": 5,
     "metadata": {},
     "output_type": "execute_result"
    }
   ],
   "source": [
    "last_steps_pipeline_pe = results_pe.best_estimator.iloc[0]['features'].transformer_list[0][1][:-1]\n",
    "last_steps_pipeline_pe"
   ]
  },
  {
   "cell_type": "markdown",
   "id": "342f3375-cf8b-4045-ae59-e0e7f52fa9f6",
   "metadata": {},
   "source": [
    "#### Extract PCA-pipeline for both ERN ROIs"
   ]
  },
  {
   "cell_type": "code",
   "execution_count": 6,
   "id": "d71625f8-a4ba-4936-93cf-fbfc62be83d5",
   "metadata": {
    "scrolled": true
   },
   "outputs": [
    {
     "name": "stdout",
     "output_type": "stream",
     "text": [
      "Pipeline(steps=[('channels_extraction',\n",
      "                 PickChannels(channels_list=['Fpz', 'AFz', 'Fz', 'FCz', 'Cz',\n",
      "                                             'CPz', 'P1', 'Pz', 'P2'])),\n",
      "                ('average', Evoked()), ('extract_averaged_data', ExtractData()),\n",
      "                ('spatial_filter_preprocessing', SpatialFilterPreprocessing()),\n",
      "                ('spatial_filter', PCA(n_components=4, random_state=0)),\n",
      "                ('spatial_filter_postprocessing',\n",
      "                 SpatialFilterPostprocessing(timepoints_count=181)),\n",
      "                ('lowpass_filter', LowpassFilter()),\n",
      "                ('binning', BinTransformer()),\n",
      "                ('centering', CenteredSignalAfterBaseline3())])\n",
      "['Fpz', 'AFz', 'Fz', 'FCz', 'Cz', 'CPz', 'P1', 'Pz', 'P2']\n"
     ]
    }
   ],
   "source": [
    "# ROI 1\n",
    "roi_1_pipeline = results_ern.pre_processed_pipeline.iloc[9]\n",
    "roi_1 = roi_1_pipeline['channels_extraction'].channels_list\n",
    "\n",
    "print(roi_1_pipeline)\n",
    "print(roi_1)"
   ]
  },
  {
   "cell_type": "code",
   "execution_count": 7,
   "id": "fde1ad87-6128-47f6-af1c-00c4468472ec",
   "metadata": {
    "scrolled": false
   },
   "outputs": [
    {
     "name": "stdout",
     "output_type": "stream",
     "text": [
      "Pipeline(steps=[('channels_extraction',\n",
      "                 PickChannels(channels_list=['Fpz', 'AFz', 'F1', 'Fz', 'F2',\n",
      "                                             'FCz', 'C1', 'Cz', 'C2', 'CPz',\n",
      "                                             'P1', 'Pz', 'P2'])),\n",
      "                ('average', Evoked()), ('extract_averaged_data', ExtractData()),\n",
      "                ('spatial_filter_preprocessing', SpatialFilterPreprocessing()),\n",
      "                ('spatial_filter', PCA(n_components=4, random_state=0)),\n",
      "                ('spatial_filter_postprocessing',\n",
      "                 SpatialFilterPostprocessing(timepoints_count=181)),\n",
      "                ('lowpass_filter', LowpassFilter()),\n",
      "                ('binning', BinTransformer()),\n",
      "                ('centering', CenteredSignalAfterBaseline3())])\n",
      "['Fpz', 'AFz', 'F1', 'Fz', 'F2', 'FCz', 'C1', 'Cz', 'C2', 'CPz', 'P1', 'Pz', 'P2']\n"
     ]
    }
   ],
   "source": [
    "# ROI 2\n",
    "roi_2_pipeline = results_ern.pre_processed_pipeline.iloc[15]\n",
    "roi_2 = roi_2_pipeline['channels_extraction'].channels_list\n",
    "\n",
    "print(roi_2_pipeline)\n",
    "print(roi_2)"
   ]
  },
  {
   "cell_type": "markdown",
   "id": "756347aa",
   "metadata": {},
   "source": [
    "#### Extract PCA-pipeline for both Pe ROIs"
   ]
  },
  {
   "cell_type": "code",
   "execution_count": 8,
   "id": "be6b8efa",
   "metadata": {},
   "outputs": [
    {
     "name": "stdout",
     "output_type": "stream",
     "text": [
      "Pipeline(steps=[('channels_extraction',\n",
      "                 PickChannels(channels_list=['Fpz', 'AFz', 'Fz', 'FCz', 'C1',\n",
      "                                             'Cz', 'C2', 'CPz', 'P1', 'Pz',\n",
      "                                             'P2'])),\n",
      "                ('average', Evoked()), ('extract_averaged_data', ExtractData()),\n",
      "                ('spatial_filter_preprocessing', SpatialFilterPreprocessing()),\n",
      "                ('spatial_filter', PCA(n_components=4, random_state=0)),\n",
      "                ('spatial_filter_postprocessing',\n",
      "                 SpatialFilterPostprocessing(timepoints_count=181)),\n",
      "                ('lowpass_filter', LowpassFilter()),\n",
      "                ('binning', BinTransformer()), ('baseline', ErnBaselined()),\n",
      "                ('centering', CenteredSignalAfterBaseline3())])\n",
      "['Fpz', 'AFz', 'Fz', 'FCz', 'C1', 'Cz', 'C2', 'CPz', 'P1', 'Pz', 'P2']\n"
     ]
    }
   ],
   "source": [
    "# ROI 3\n",
    "roi_3_pipeline = results_pe.pre_processed_pipeline.iloc[13]\n",
    "roi_3 = roi_3_pipeline['channels_extraction'].channels_list\n",
    "\n",
    "print(roi_3_pipeline)\n",
    "print(roi_3)"
   ]
  },
  {
   "cell_type": "code",
   "execution_count": 9,
   "id": "03ff0289",
   "metadata": {},
   "outputs": [
    {
     "name": "stdout",
     "output_type": "stream",
     "text": [
      "Pipeline(steps=[('channels_extraction',\n",
      "                 PickChannels(channels_list=['Fpz', 'AFz', 'F1', 'Fz', 'F2',\n",
      "                                             'FC1', 'FCz', 'FC2', 'C1', 'Cz',\n",
      "                                             'C2', 'CP1', 'CPz', 'CP2', 'P1',\n",
      "                                             'Pz', 'P2'])),\n",
      "                ('average', Evoked()), ('extract_averaged_data', ExtractData()),\n",
      "                ('spatial_filter_preprocessing', SpatialFilterPreprocessing()),\n",
      "                ('spatial_filter', PCA(n_components=4, random_state=0)),\n",
      "                ('spatial_filter_postprocessing',\n",
      "                 SpatialFilterPostprocessing(timepoints_count=181)),\n",
      "                ('lowpass_filter', LowpassFilter()),\n",
      "                ('binning', BinTransformer()), ('baseline', ErnBaselined()),\n",
      "                ('centering', CenteredSignalAfterBaseline3())])\n",
      "['Fpz', 'AFz', 'F1', 'Fz', 'F2', 'FC1', 'FCz', 'FC2', 'C1', 'Cz', 'C2', 'CP1', 'CPz', 'CP2', 'P1', 'Pz', 'P2']\n"
     ]
    }
   ],
   "source": [
    "# ROI 4\n",
    "roi_4_pipeline = results_pe.pre_processed_pipeline.iloc[1]\n",
    "roi_4 = roi_4_pipeline['channels_extraction'].channels_list\n",
    "\n",
    "print(roi_4_pipeline)\n",
    "print(roi_4)"
   ]
  },
  {
   "cell_type": "markdown",
   "id": "26982b6d-b1a1-423b-a7e7-2ae938d4d594",
   "metadata": {},
   "source": [
    "### 2. Read the data"
   ]
  },
  {
   "cell_type": "markdown",
   "id": "5bb9a799-8132-42d4-b937-aae1047fb84c",
   "metadata": {},
   "source": [
    "The train data"
   ]
  },
  {
   "cell_type": "code",
   "execution_count": 10,
   "id": "26b79de8-796f-4d36-949b-2e65f4d93eb2",
   "metadata": {},
   "outputs": [
    {
     "name": "stdout",
     "output_type": "stream",
     "text": [
      "Pickled file found. Loading pickled data...\n",
      "Done\n"
     ]
    }
   ],
   "source": [
    "df_name = \"go_nogo_100_600_df_3-5_all_scales\"\n",
    "pickled_data_filename = \"../data/responses_100_600_pickled/\" + df_name + \".pkl\"\n",
    "info_filename = \"../data/scales/all_scales.csv\"\n",
    "\n",
    "if os.path.isfile(pickled_data_filename):\n",
    "    print(\"Pickled file found. Loading pickled data...\")\n",
    "    epochs_df = pd.read_pickle(pickled_data_filename)\n",
    "    print(\"Done\")\n",
    "    pass\n",
    "else:\n",
    "    print(\"Pickled file not found\")"
   ]
  },
  {
   "cell_type": "code",
   "execution_count": 11,
   "id": "fce9a7b2-443d-4046-bc1d-d496e5bffe5a",
   "metadata": {},
   "outputs": [],
   "source": [
    "X_train_df = epochs_df"
   ]
  },
  {
   "cell_type": "markdown",
   "id": "cdba2044-8cc3-4d97-a475-4e3b3f55d8ab",
   "metadata": {},
   "source": [
    "The test data"
   ]
  },
  {
   "cell_type": "code",
   "execution_count": 12,
   "id": "dd19c830-1b09-4cf8-9b59-0a665b229554",
   "metadata": {},
   "outputs": [
    {
     "name": "stdout",
     "output_type": "stream",
     "text": [
      "Pickled file found. Loading pickled data...\n",
      "Done\n"
     ]
    }
   ],
   "source": [
    "df_name = 'go_nogo_100_600_test_df_3-5_all_scales'\n",
    "pickled_data_filename = \"../data/responses_100_600_pickled/\" + df_name + \".pkl\"\n",
    "info_filename = \"../data/scales/all_scales.csv\"\n",
    "\n",
    "if os.path.isfile(pickled_data_filename):\n",
    "    print(\"Pickled file found. Loading pickled data...\")\n",
    "    epochs_df = pd.read_pickle(pickled_data_filename)\n",
    "    print(\"Done\")\n",
    "    pass\n",
    "else:\n",
    "    print(\"Pickled file not found\")"
   ]
  },
  {
   "cell_type": "code",
   "execution_count": 13,
   "id": "d01d24d1-0749-4461-8f61-c023b35c2466",
   "metadata": {},
   "outputs": [],
   "source": [
    "X_test_df = epochs_df"
   ]
  },
  {
   "cell_type": "markdown",
   "id": "92d00df6-9d28-46b4-9e6a-8cfaf1e12552",
   "metadata": {},
   "source": [
    "### 3. Apply pre-processing pipelines to data and compute statistics: mean and SD of scores"
   ]
  },
  {
   "cell_type": "code",
   "execution_count": 14,
   "id": "4d04cf49",
   "metadata": {},
   "outputs": [],
   "source": [
    "results_df = pd.DataFrame()"
   ]
  },
  {
   "cell_type": "code",
   "execution_count": 15,
   "id": "00267d6a-b98b-4d5b-9007-7e80fd97b86e",
   "metadata": {
    "scrolled": true
   },
   "outputs": [
    {
     "name": "stdout",
     "output_type": "stream",
     "text": [
      "---- DATASET: train-----------\n",
      "(96, 9, 181)\n",
      "(96, 13, 181)\n",
      "(96, 11, 181)\n",
      "(96, 17, 181)\n",
      "---- ROI 1\n",
      "---- PCA 1\n",
      " MEAN: 1.8953602928889747e-05\n",
      " SD: 1.0562940025190903e-05\n",
      "\n",
      "---- PCA 2\n",
      " MEAN: 1.1845588662262889e-05\n",
      " SD: 6.89601125647799e-06\n",
      "\n",
      "---- PCA 3\n",
      " MEAN: 6.042230898537439e-06\n",
      " SD: 3.115857273079911e-06\n",
      "\n",
      "---- PCA 4\n",
      " MEAN: 2.102309718395574e-06\n",
      " SD: 1.1593810121973813e-06\n",
      "\n",
      "---- ROI 2\n",
      "---- PCA 1\n",
      " MEAN: 2.4324090350905986e-05\n",
      " SD: 1.3607232178584808e-05\n",
      "\n",
      "---- PCA 2\n",
      " MEAN: 1.2994118919941206e-05\n",
      " SD: 7.699727379038759e-06\n",
      "\n",
      "---- PCA 3\n",
      " MEAN: 6.090104292145985e-06\n",
      " SD: 3.269377585271518e-06\n",
      "\n",
      "---- PCA 4\n",
      " MEAN: 2.4620134524185194e-06\n",
      " SD: 1.400189878581368e-06\n",
      "\n",
      "---- ROI 3\n",
      "---- PCA 1\n",
      " MEAN: 4.428561129222968e-05\n",
      " SD: 1.909256875971781e-05\n",
      "\n",
      "---- PCA 2\n",
      " MEAN: 1.1260718840475782e-05\n",
      " SD: 5.460446614857752e-06\n",
      "\n",
      "---- PCA 3\n",
      " MEAN: 6.568368335157186e-06\n",
      " SD: 3.296254396448207e-06\n",
      "\n",
      "---- PCA 4\n",
      " MEAN: 2.7183267475472265e-06\n",
      " SD: 1.5557452591412552e-06\n",
      "\n",
      "---- ROI 4\n",
      "---- PCA 1\n",
      " MEAN: 5.625392113278409e-05\n",
      " SD: 2.3591132383806078e-05\n",
      "\n",
      "---- PCA 2\n",
      " MEAN: 1.4000756416988124e-05\n",
      " SD: 6.7885474570098705e-06\n",
      "\n",
      "---- PCA 3\n",
      " MEAN: 6.795445630500438e-06\n",
      " SD: 3.5120357202183426e-06\n",
      "\n",
      "---- PCA 4\n",
      " MEAN: 3.0838838523094483e-06\n",
      " SD: 1.5096648681368858e-06\n",
      "\n",
      "---- DATASET: test-----------\n",
      "(34, 9, 181)\n",
      "(34, 13, 181)\n",
      "(34, 11, 181)\n",
      "(34, 17, 181)\n",
      "---- ROI 1\n",
      "---- PCA 1\n",
      " MEAN: 1.8355619211531143e-05\n",
      " SD: 9.662242964461435e-06\n",
      "\n",
      "---- PCA 2\n",
      " MEAN: 8.927976141775666e-06\n",
      " SD: 4.27401103531736e-06\n",
      "\n",
      "---- PCA 3\n",
      " MEAN: 5.96086736889814e-06\n",
      " SD: 2.7733041160989973e-06\n",
      "\n",
      "---- PCA 4\n",
      " MEAN: 1.8497737237120198e-06\n",
      " SD: 1.0418668536416479e-06\n",
      "\n",
      "---- ROI 2\n",
      "---- PCA 1\n",
      " MEAN: 2.3260091189903567e-05\n",
      " SD: 1.2713468533152453e-05\n",
      "\n",
      "---- PCA 2\n",
      " MEAN: 9.850757485383146e-06\n",
      " SD: 4.984032632236027e-06\n",
      "\n",
      "---- PCA 3\n",
      " MEAN: 6.132158624744148e-06\n",
      " SD: 2.7470395038561855e-06\n",
      "\n",
      "---- PCA 4\n",
      " MEAN: 2.045251151695891e-06\n",
      " SD: 1.1720089073539386e-06\n",
      "\n",
      "---- ROI 3\n",
      "---- PCA 1\n",
      " MEAN: 4.108193315508635e-05\n",
      " SD: 1.3799025438918756e-05\n",
      "\n",
      "---- PCA 2\n",
      " MEAN: 9.718143784591275e-06\n",
      " SD: 4.971598524910789e-06\n",
      "\n",
      "---- PCA 3\n",
      " MEAN: 6.326544186556589e-06\n",
      " SD: 2.852347403824387e-06\n",
      "\n",
      "---- PCA 4\n",
      " MEAN: 2.3436183583404846e-06\n",
      " SD: 1.137322547166105e-06\n",
      "\n",
      "---- ROI 4\n",
      "---- PCA 1\n",
      " MEAN: 5.22828898952031e-05\n",
      " SD: 1.7225225730583197e-05\n",
      "\n",
      "---- PCA 2\n",
      " MEAN: 1.188004264599621e-05\n",
      " SD: 5.731887389637198e-06\n",
      "\n",
      "---- PCA 3\n",
      " MEAN: 6.567065777424068e-06\n",
      " SD: 2.990556597480842e-06\n",
      "\n",
      "---- PCA 4\n",
      " MEAN: 2.7447467307291853e-06\n",
      " SD: 1.1501854423888427e-06\n",
      "\n"
     ]
    }
   ],
   "source": [
    "for item in {\"train\": X_train_df, \"test\": X_test_df}.items():\n",
    "    \n",
    "    dataset_name = item[0]\n",
    "    dataset = item[1]\n",
    "    \n",
    "    print(f\"---- DATASET: {dataset_name}-----------\")\n",
    "        \n",
    "    # ROI 1\n",
    "    X_df_copy = pd.DataFrame(copy.deepcopy(dataset.to_dict()))\n",
    "\n",
    "    X_roi_1_mid = roi_1_pipeline.transform(X_df_copy)\n",
    "    X_roi_1 = last_steps_pipeline_ern.transform(X_roi_1_mid)\n",
    "\n",
    "    # ROI 2\n",
    "    X_df_copy = pd.DataFrame(copy.deepcopy(dataset.to_dict()))\n",
    "\n",
    "    X_roi_2_mid = roi_2_pipeline.transform(X_df_copy)\n",
    "    X_roi_2 = last_steps_pipeline_ern.transform(X_roi_2_mid)\n",
    "    \n",
    "    # ROI 3\n",
    "    X_df_copy = pd.DataFrame(copy.deepcopy(dataset.to_dict()))\n",
    "\n",
    "    X_roi_3_mid = roi_3_pipeline.transform(X_df_copy)\n",
    "    X_roi_3 = last_steps_pipeline_pe.transform(X_roi_3_mid)\n",
    "\n",
    "    # ROI 4\n",
    "    X_df_copy = pd.DataFrame(copy.deepcopy(dataset.to_dict()))\n",
    "\n",
    "    X_roi_4_mid = roi_4_pipeline.transform(X_df_copy)\n",
    "    X_roi_4 = last_steps_pipeline_pe.transform(X_roi_4_mid)\n",
    "    \n",
    "\n",
    "    \n",
    "    print(f\"---- ROI 1\")\n",
    "\n",
    "    for i in range(0,4):\n",
    "        this_result = pd.DataFrame({\n",
    "            'dataset': [dataset_name],\n",
    "            'ROI': 1,\n",
    "            'component_num': [i+1],\n",
    "            'mean': [np.mean(X_roi_1[:,i])],\n",
    "            'sd': [np.std(X_roi_1[:,i])]\n",
    "        }) \n",
    "\n",
    "        results_df = results_df.append(this_result, ignore_index=True)\n",
    "        \n",
    "        print(f\"---- PCA {i+1}\\n MEAN: {np.mean(X_roi_1[:,i])}\\n SD: {np.std(X_roi_1[:,i])}\\n\")\n",
    "        \n",
    "##########################################\n",
    "\n",
    "    print(f\"---- ROI 2\")\n",
    "\n",
    "    for i in range(0,4):\n",
    "        this_result = pd.DataFrame({\n",
    "            'dataset': [dataset_name],\n",
    "            'ROI': 2,\n",
    "            'component_num': [i+1],\n",
    "            'mean': [np.mean(X_roi_2[:,i])],\n",
    "            'sd': [np.std(X_roi_2[:,i])]\n",
    "        }) \n",
    "\n",
    "        results_df = results_df.append(this_result, ignore_index=True)\n",
    "        \n",
    "        print(f\"---- PCA {i+1}\\n MEAN: {np.mean(X_roi_2[:,i])}\\n SD: {np.std(X_roi_2[:,i])}\\n\")\n",
    "\n",
    "##########################################\n",
    "\n",
    "        \n",
    "    print(f\"---- ROI 3\")\n",
    "\n",
    "    for i in range(0,4):\n",
    "        this_result = pd.DataFrame({\n",
    "            'dataset': [dataset_name],\n",
    "            'ROI': 3,\n",
    "            'component_num': [i+1],\n",
    "            'mean': [np.mean(X_roi_3[:,i])],\n",
    "            'sd': [np.std(X_roi_3[:,i])]\n",
    "        }) \n",
    "\n",
    "        results_df = results_df.append(this_result, ignore_index=True)\n",
    "        \n",
    "        print(f\"---- PCA {i+1}\\n MEAN: {np.mean(X_roi_3[:,i])}\\n SD: {np.std(X_roi_3[:,i])}\\n\")\n",
    "\n",
    "##########################################\n",
    "\n",
    "    print(f\"---- ROI 4\")\n",
    "\n",
    "    for i in range(0,4):\n",
    "        this_result = pd.DataFrame({\n",
    "            'dataset': [dataset_name],\n",
    "            'ROI': 4,\n",
    "            'component_num': [i+1],\n",
    "            'mean': [np.mean(X_roi_4[:,i])],\n",
    "            'sd': [np.std(X_roi_4[:,i])]\n",
    "        }) \n",
    "\n",
    "        results_df = results_df.append(this_result, ignore_index=True)\n",
    "        \n",
    "        print(f\"---- PCA {i+1}\\n MEAN: {np.mean(X_roi_4[:,i])}\\n SD: {np.std(X_roi_4[:,i])}\\n\")"
   ]
  },
  {
   "cell_type": "code",
   "execution_count": 127,
   "id": "128970ff-29ae-42df-a904-ac842bd1198b",
   "metadata": {},
   "outputs": [
    {
     "data": {
      "text/html": [
       "<div>\n",
       "<style scoped>\n",
       "    .dataframe tbody tr th:only-of-type {\n",
       "        vertical-align: middle;\n",
       "    }\n",
       "\n",
       "    .dataframe tbody tr th {\n",
       "        vertical-align: top;\n",
       "    }\n",
       "\n",
       "    .dataframe thead th {\n",
       "        text-align: right;\n",
       "    }\n",
       "</style>\n",
       "<table border=\"1\" class=\"dataframe\">\n",
       "  <thead>\n",
       "    <tr style=\"text-align: right;\">\n",
       "      <th></th>\n",
       "      <th></th>\n",
       "      <th></th>\n",
       "      <th>mean</th>\n",
       "      <th>sd</th>\n",
       "    </tr>\n",
       "    <tr>\n",
       "      <th>dataset</th>\n",
       "      <th>ROI</th>\n",
       "      <th>component_num</th>\n",
       "      <th></th>\n",
       "      <th></th>\n",
       "    </tr>\n",
       "  </thead>\n",
       "  <tbody>\n",
       "    <tr>\n",
       "      <th rowspan=\"16\" valign=\"top\">train</th>\n",
       "      <th rowspan=\"4\" valign=\"top\">1</th>\n",
       "      <th>1</th>\n",
       "      <td>0.000019</td>\n",
       "      <td>0.000011</td>\n",
       "    </tr>\n",
       "    <tr>\n",
       "      <th>2</th>\n",
       "      <td>0.000012</td>\n",
       "      <td>0.000007</td>\n",
       "    </tr>\n",
       "    <tr>\n",
       "      <th>3</th>\n",
       "      <td>0.000006</td>\n",
       "      <td>0.000003</td>\n",
       "    </tr>\n",
       "    <tr>\n",
       "      <th>4</th>\n",
       "      <td>0.000002</td>\n",
       "      <td>0.000001</td>\n",
       "    </tr>\n",
       "    <tr>\n",
       "      <th rowspan=\"4\" valign=\"top\">2</th>\n",
       "      <th>1</th>\n",
       "      <td>0.000024</td>\n",
       "      <td>0.000014</td>\n",
       "    </tr>\n",
       "    <tr>\n",
       "      <th>2</th>\n",
       "      <td>0.000013</td>\n",
       "      <td>0.000008</td>\n",
       "    </tr>\n",
       "    <tr>\n",
       "      <th>3</th>\n",
       "      <td>0.000006</td>\n",
       "      <td>0.000003</td>\n",
       "    </tr>\n",
       "    <tr>\n",
       "      <th>4</th>\n",
       "      <td>0.000002</td>\n",
       "      <td>0.000001</td>\n",
       "    </tr>\n",
       "    <tr>\n",
       "      <th rowspan=\"4\" valign=\"top\">3</th>\n",
       "      <th>1</th>\n",
       "      <td>0.000044</td>\n",
       "      <td>0.000019</td>\n",
       "    </tr>\n",
       "    <tr>\n",
       "      <th>2</th>\n",
       "      <td>0.000011</td>\n",
       "      <td>0.000005</td>\n",
       "    </tr>\n",
       "    <tr>\n",
       "      <th>3</th>\n",
       "      <td>0.000007</td>\n",
       "      <td>0.000003</td>\n",
       "    </tr>\n",
       "    <tr>\n",
       "      <th>4</th>\n",
       "      <td>0.000003</td>\n",
       "      <td>0.000002</td>\n",
       "    </tr>\n",
       "    <tr>\n",
       "      <th rowspan=\"4\" valign=\"top\">4</th>\n",
       "      <th>1</th>\n",
       "      <td>0.000056</td>\n",
       "      <td>0.000024</td>\n",
       "    </tr>\n",
       "    <tr>\n",
       "      <th>2</th>\n",
       "      <td>0.000014</td>\n",
       "      <td>0.000007</td>\n",
       "    </tr>\n",
       "    <tr>\n",
       "      <th>3</th>\n",
       "      <td>0.000007</td>\n",
       "      <td>0.000004</td>\n",
       "    </tr>\n",
       "    <tr>\n",
       "      <th>4</th>\n",
       "      <td>0.000003</td>\n",
       "      <td>0.000002</td>\n",
       "    </tr>\n",
       "    <tr>\n",
       "      <th rowspan=\"16\" valign=\"top\">test</th>\n",
       "      <th rowspan=\"4\" valign=\"top\">1</th>\n",
       "      <th>1</th>\n",
       "      <td>0.000018</td>\n",
       "      <td>0.000010</td>\n",
       "    </tr>\n",
       "    <tr>\n",
       "      <th>2</th>\n",
       "      <td>0.000009</td>\n",
       "      <td>0.000004</td>\n",
       "    </tr>\n",
       "    <tr>\n",
       "      <th>3</th>\n",
       "      <td>0.000006</td>\n",
       "      <td>0.000003</td>\n",
       "    </tr>\n",
       "    <tr>\n",
       "      <th>4</th>\n",
       "      <td>0.000002</td>\n",
       "      <td>0.000001</td>\n",
       "    </tr>\n",
       "    <tr>\n",
       "      <th rowspan=\"4\" valign=\"top\">2</th>\n",
       "      <th>1</th>\n",
       "      <td>0.000023</td>\n",
       "      <td>0.000013</td>\n",
       "    </tr>\n",
       "    <tr>\n",
       "      <th>2</th>\n",
       "      <td>0.000010</td>\n",
       "      <td>0.000005</td>\n",
       "    </tr>\n",
       "    <tr>\n",
       "      <th>3</th>\n",
       "      <td>0.000006</td>\n",
       "      <td>0.000003</td>\n",
       "    </tr>\n",
       "    <tr>\n",
       "      <th>4</th>\n",
       "      <td>0.000002</td>\n",
       "      <td>0.000001</td>\n",
       "    </tr>\n",
       "    <tr>\n",
       "      <th rowspan=\"4\" valign=\"top\">3</th>\n",
       "      <th>1</th>\n",
       "      <td>0.000041</td>\n",
       "      <td>0.000014</td>\n",
       "    </tr>\n",
       "    <tr>\n",
       "      <th>2</th>\n",
       "      <td>0.000010</td>\n",
       "      <td>0.000005</td>\n",
       "    </tr>\n",
       "    <tr>\n",
       "      <th>3</th>\n",
       "      <td>0.000006</td>\n",
       "      <td>0.000003</td>\n",
       "    </tr>\n",
       "    <tr>\n",
       "      <th>4</th>\n",
       "      <td>0.000002</td>\n",
       "      <td>0.000001</td>\n",
       "    </tr>\n",
       "    <tr>\n",
       "      <th rowspan=\"4\" valign=\"top\">4</th>\n",
       "      <th>1</th>\n",
       "      <td>0.000052</td>\n",
       "      <td>0.000017</td>\n",
       "    </tr>\n",
       "    <tr>\n",
       "      <th>2</th>\n",
       "      <td>0.000012</td>\n",
       "      <td>0.000006</td>\n",
       "    </tr>\n",
       "    <tr>\n",
       "      <th>3</th>\n",
       "      <td>0.000007</td>\n",
       "      <td>0.000003</td>\n",
       "    </tr>\n",
       "    <tr>\n",
       "      <th>4</th>\n",
       "      <td>0.000003</td>\n",
       "      <td>0.000001</td>\n",
       "    </tr>\n",
       "  </tbody>\n",
       "</table>\n",
       "</div>"
      ],
      "text/plain": [
       "                               mean        sd\n",
       "dataset ROI component_num                    \n",
       "train   1   1              0.000019  0.000011\n",
       "            2              0.000012  0.000007\n",
       "            3              0.000006  0.000003\n",
       "            4              0.000002  0.000001\n",
       "        2   1              0.000024  0.000014\n",
       "            2              0.000013  0.000008\n",
       "            3              0.000006  0.000003\n",
       "            4              0.000002  0.000001\n",
       "        3   1              0.000044  0.000019\n",
       "            2              0.000011  0.000005\n",
       "            3              0.000007  0.000003\n",
       "            4              0.000003  0.000002\n",
       "        4   1              0.000056  0.000024\n",
       "            2              0.000014  0.000007\n",
       "            3              0.000007  0.000004\n",
       "            4              0.000003  0.000002\n",
       "test    1   1              0.000018  0.000010\n",
       "            2              0.000009  0.000004\n",
       "            3              0.000006  0.000003\n",
       "            4              0.000002  0.000001\n",
       "        2   1              0.000023  0.000013\n",
       "            2              0.000010  0.000005\n",
       "            3              0.000006  0.000003\n",
       "            4              0.000002  0.000001\n",
       "        3   1              0.000041  0.000014\n",
       "            2              0.000010  0.000005\n",
       "            3              0.000006  0.000003\n",
       "            4              0.000002  0.000001\n",
       "        4   1              0.000052  0.000017\n",
       "            2              0.000012  0.000006\n",
       "            3              0.000007  0.000003\n",
       "            4              0.000003  0.000001"
      ]
     },
     "execution_count": 127,
     "metadata": {},
     "output_type": "execute_result"
    }
   ],
   "source": [
    "results_df = results_df.set_index(['dataset', 'ROI', 'component_num'])\n",
    "\n",
    "results_df"
   ]
  },
  {
   "cell_type": "code",
   "execution_count": 128,
   "id": "8469fca7-e120-49ff-8a67-732b13ae68bf",
   "metadata": {},
   "outputs": [],
   "source": [
    "results_df.to_csv('../public_data/results/components_scores/scores_per_component_stats.csv')"
   ]
  }
 ],
 "metadata": {
  "kernelspec": {
   "display_name": "erpinator",
   "language": "python",
   "name": "erpinator"
  },
  "language_info": {
   "codemirror_mode": {
    "name": "ipython",
    "version": 3
   },
   "file_extension": ".py",
   "mimetype": "text/x-python",
   "name": "python",
   "nbconvert_exporter": "python",
   "pygments_lexer": "ipython3",
   "version": "3.8.10"
  }
 },
 "nbformat": 4,
 "nbformat_minor": 5
}
