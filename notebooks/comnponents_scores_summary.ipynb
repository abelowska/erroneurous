{
 "cells": [
  {
   "cell_type": "markdown",
   "id": "40a73099-38c1-4bf0-afd3-5481df7c3d19",
   "metadata": {},
   "source": [
    "# ERN and Pe PCA components' scores"
   ]
  },
  {
   "cell_type": "markdown",
   "id": "d8ff9f56-5483-44c7-b9cc-486a31838279",
   "metadata": {},
   "source": [
    "### Imports"
   ]
  },
  {
   "cell_type": "code",
   "execution_count": 1,
   "id": "e9e84d26-b32c-41ae-b3f4-81e0ee55156b",
   "metadata": {},
   "outputs": [],
   "source": [
    "import os\n",
    "import re\n",
    "import glob\n",
    "import os\n",
    "import ast\n",
    "import os.path as op\n",
    "from collections import defaultdict\n",
    "from copy import deepcopy\n",
    "import copy\n",
    "\n",
    "import pickle\n",
    "from time import time\n",
    "import pywt\n",
    "import mne\n",
    "import scipy\n",
    "import numpy as np\n",
    "import plotly.graph_objects as go\n",
    "import plotly.express as px\n",
    "import pandas as pd\n",
    "import cesium.featurize\n",
    "from plotly.subplots import make_subplots\n",
    "from ipywidgets import Dropdown, FloatRangeSlider, IntSlider, FloatSlider, interact\n",
    "from sklearn.metrics import roc_auc_score\n",
    "from sklearn.model_selection import StratifiedKFold\n",
    "from sklearn.model_selection import train_test_split\n",
    "from sklearn.discriminant_analysis import LinearDiscriminantAnalysis\n",
    "from sklearn.base import TransformerMixin, BaseEstimator\n",
    "\n",
    "import sys\n",
    "\n",
    "from sklearn.pipeline import Pipeline, FeatureUnion\n",
    "from sklearn.preprocessing import StandardScaler\n",
    "from sklearn.preprocessing import FunctionTransformer\n",
    "from sklearn.svm import SVR\n",
    "from sklearn.decomposition import FastICA\n",
    "from sklearn.decomposition import PCA\n",
    "\n",
    "from rumination_experiment_transformers_averaged_CDS import *\n",
    "\n",
    "import warnings\n",
    "\n",
    "warnings.filterwarnings(\"ignore\")\n"
   ]
  },
  {
   "cell_type": "code",
   "execution_count": 2,
   "id": "727b28e2-f75c-47d7-97f2-24df8f7950ec",
   "metadata": {},
   "outputs": [],
   "source": [
    "pd.set_option('display.max_rows', None)\n",
    "pd.set_option('display.max_columns', None)"
   ]
  },
  {
   "cell_type": "markdown",
   "id": "59c69899-6a32-4418-9079-8bd66aed497f",
   "metadata": {},
   "source": [
    "## Load pickled ERN and Pe results"
   ]
  },
  {
   "cell_type": "code",
   "execution_count": 3,
   "id": "ba91198f",
   "metadata": {},
   "outputs": [],
   "source": [
    "results_ern = pd.read_pickle(\"../public_data/results/models_pickles/ern_results_with_external-p.pkl\")\n",
    "results_pe = pd.read_pickle(\"../public_data/results/models_pickles/pe_results_with_external-p.pkl\")"
   ]
  },
  {
   "cell_type": "markdown",
   "id": "3f5c66de",
   "metadata": {},
   "source": [
    "## Compute ERN and Pe components scores"
   ]
  },
  {
   "cell_type": "markdown",
   "id": "65c0cad2",
   "metadata": {},
   "source": [
    "### 1. Extract data pre-processing pipeliens for ERn and Pe"
   ]
  },
  {
   "cell_type": "markdown",
   "id": "5b9a6add-d60f-4cf3-8ec5-89b0c7e176fe",
   "metadata": {},
   "source": [
    "#### Extract post-PCA pipeline for ERN"
   ]
  },
  {
   "cell_type": "code",
   "execution_count": 4,
   "id": "f1fb66bf-1547-4f7c-8746-6b5e7c4cd214",
   "metadata": {
    "scrolled": true
   },
   "outputs": [
    {
     "data": {
      "text/plain": [
       "Pipeline(steps=[('ern_data_extraction', ErnTransformer()),\n",
       "                ('ern_amplitude', ErnAmplitude2()),\n",
       "                ('data_channel_swap', ChannelDataSwap()),\n",
       "                ('postprocessing', PostprocessingTransformer())])"
      ]
     },
     "execution_count": 4,
     "metadata": {},
     "output_type": "execute_result"
    }
   ],
   "source": [
    "last_steps_pipeline_ern = results_ern.best_estimator.iloc[0]['features'].transformer_list[0][1][:-1]\n",
    "last_steps_pipeline_ern"
   ]
  },
  {
   "cell_type": "markdown",
   "id": "39620d3e",
   "metadata": {},
   "source": [
    "#### Extract post-PCA pipeline for Pe"
   ]
  },
  {
   "cell_type": "code",
   "execution_count": 5,
   "id": "93b886b2",
   "metadata": {},
   "outputs": [
    {
     "data": {
      "text/plain": [
       "Pipeline(steps=[('pe_data_extraction', PeTransformer(stop_pe_bin=9)),\n",
       "                ('pe_amplitude', PeAmplitude2()),\n",
       "                ('data_channel_swap', ChannelDataSwap()),\n",
       "                ('postprocessing', PostprocessingTransformer())])"
      ]
     },
     "execution_count": 5,
     "metadata": {},
     "output_type": "execute_result"
    }
   ],
   "source": [
    "last_steps_pipeline_pe = results_pe.best_estimator.iloc[0]['features'].transformer_list[0][1][:-1]\n",
    "last_steps_pipeline_pe"
   ]
  },
  {
   "cell_type": "markdown",
   "id": "342f3375-cf8b-4045-ae59-e0e7f52fa9f6",
   "metadata": {},
   "source": [
    "#### Extract PCA-pipeline for both ERN ROIs"
   ]
  },
  {
   "cell_type": "code",
   "execution_count": 6,
   "id": "d71625f8-a4ba-4936-93cf-fbfc62be83d5",
   "metadata": {
    "scrolled": true
   },
   "outputs": [
    {
     "name": "stdout",
     "output_type": "stream",
     "text": [
      "Pipeline(steps=[('channels_extraction',\n",
      "                 PickChannels(channels_list=['Fpz', 'AFz', 'Fz', 'FCz', 'Cz',\n",
      "                                             'CPz', 'P1', 'Pz', 'P2'])),\n",
      "                ('average', Evoked()), ('extract_averaged_data', ExtractData()),\n",
      "                ('spatial_filter_preprocessing', SpatialFilterPreprocessing()),\n",
      "                ('spatial_filter', PCA(n_components=4, random_state=0)),\n",
      "                ('spatial_filter_postprocessing',\n",
      "                 SpatialFilterPostprocessing(timepoints_count=181)),\n",
      "                ('lowpass_filter', LowpassFilter()),\n",
      "                ('binning', BinTransformer()),\n",
      "                ('centering', CenteredSignalAfterBaseline3())])\n",
      "['Fpz', 'AFz', 'Fz', 'FCz', 'Cz', 'CPz', 'P1', 'Pz', 'P2']\n"
     ]
    }
   ],
   "source": [
    "# ROI 1\n",
    "roi_1_pipeline = results_ern.pre_processed_pipeline.iloc[9]\n",
    "roi_1 = roi_1_pipeline['channels_extraction'].channels_list\n",
    "\n",
    "print(roi_1_pipeline)\n",
    "print(roi_1)"
   ]
  },
  {
   "cell_type": "code",
   "execution_count": 7,
   "id": "fde1ad87-6128-47f6-af1c-00c4468472ec",
   "metadata": {},
   "outputs": [
    {
     "name": "stdout",
     "output_type": "stream",
     "text": [
      "Pipeline(steps=[('channels_extraction',\n",
      "                 PickChannels(channels_list=['Fpz', 'AFz', 'F1', 'Fz', 'F2',\n",
      "                                             'FCz', 'C1', 'Cz', 'C2', 'CPz',\n",
      "                                             'P1', 'Pz', 'P2'])),\n",
      "                ('average', Evoked()), ('extract_averaged_data', ExtractData()),\n",
      "                ('spatial_filter_preprocessing', SpatialFilterPreprocessing()),\n",
      "                ('spatial_filter', PCA(n_components=4, random_state=0)),\n",
      "                ('spatial_filter_postprocessing',\n",
      "                 SpatialFilterPostprocessing(timepoints_count=181)),\n",
      "                ('lowpass_filter', LowpassFilter()),\n",
      "                ('binning', BinTransformer()),\n",
      "                ('centering', CenteredSignalAfterBaseline3())])\n",
      "['Fpz', 'AFz', 'F1', 'Fz', 'F2', 'FCz', 'C1', 'Cz', 'C2', 'CPz', 'P1', 'Pz', 'P2']\n"
     ]
    }
   ],
   "source": [
    "# ROI 2\n",
    "roi_2_pipeline = results_ern.pre_processed_pipeline.iloc[15]\n",
    "roi_2 = roi_2_pipeline['channels_extraction'].channels_list\n",
    "\n",
    "print(roi_2_pipeline)\n",
    "print(roi_2)"
   ]
  },
  {
   "cell_type": "markdown",
   "id": "756347aa",
   "metadata": {},
   "source": [
    "#### Extract PCA-pipeline for both Pe ROIs"
   ]
  },
  {
   "cell_type": "code",
   "execution_count": 8,
   "id": "be6b8efa",
   "metadata": {},
   "outputs": [
    {
     "name": "stdout",
     "output_type": "stream",
     "text": [
      "Pipeline(steps=[('channels_extraction',\n",
      "                 PickChannels(channels_list=['Fpz', 'AFz', 'Fz', 'FCz', 'C1',\n",
      "                                             'Cz', 'C2', 'CPz', 'P1', 'Pz',\n",
      "                                             'P2'])),\n",
      "                ('average', Evoked()), ('extract_averaged_data', ExtractData()),\n",
      "                ('spatial_filter_preprocessing', SpatialFilterPreprocessing()),\n",
      "                ('spatial_filter', PCA(n_components=4, random_state=0)),\n",
      "                ('spatial_filter_postprocessing',\n",
      "                 SpatialFilterPostprocessing(timepoints_count=181)),\n",
      "                ('lowpass_filter', LowpassFilter()),\n",
      "                ('binning', BinTransformer()), ('baseline', ErnBaselined()),\n",
      "                ('centering', CenteredSignalAfterBaseline3())])\n",
      "['Fpz', 'AFz', 'Fz', 'FCz', 'C1', 'Cz', 'C2', 'CPz', 'P1', 'Pz', 'P2']\n"
     ]
    }
   ],
   "source": [
    "# ROI 3\n",
    "roi_3_pipeline = results_pe.pre_processed_pipeline.iloc[13]\n",
    "roi_3 = roi_3_pipeline['channels_extraction'].channels_list\n",
    "\n",
    "print(roi_3_pipeline)\n",
    "print(roi_3)"
   ]
  },
  {
   "cell_type": "code",
   "execution_count": 9,
   "id": "03ff0289",
   "metadata": {},
   "outputs": [
    {
     "name": "stdout",
     "output_type": "stream",
     "text": [
      "Pipeline(steps=[('channels_extraction',\n",
      "                 PickChannels(channels_list=['Fpz', 'AFz', 'F1', 'Fz', 'F2',\n",
      "                                             'FC1', 'FCz', 'FC2', 'C1', 'Cz',\n",
      "                                             'C2', 'CP1', 'CPz', 'CP2', 'P1',\n",
      "                                             'Pz', 'P2'])),\n",
      "                ('average', Evoked()), ('extract_averaged_data', ExtractData()),\n",
      "                ('spatial_filter_preprocessing', SpatialFilterPreprocessing()),\n",
      "                ('spatial_filter', PCA(n_components=4, random_state=0)),\n",
      "                ('spatial_filter_postprocessing',\n",
      "                 SpatialFilterPostprocessing(timepoints_count=181)),\n",
      "                ('lowpass_filter', LowpassFilter()),\n",
      "                ('binning', BinTransformer()), ('baseline', ErnBaselined()),\n",
      "                ('centering', CenteredSignalAfterBaseline3())])\n",
      "['Fpz', 'AFz', 'F1', 'Fz', 'F2', 'FC1', 'FCz', 'FC2', 'C1', 'Cz', 'C2', 'CP1', 'CPz', 'CP2', 'P1', 'Pz', 'P2']\n"
     ]
    }
   ],
   "source": [
    "# ROI 4\n",
    "roi_4_pipeline = results_pe.pre_processed_pipeline.iloc[1]\n",
    "roi_4 = roi_4_pipeline['channels_extraction'].channels_list\n",
    "\n",
    "print(roi_4_pipeline)\n",
    "print(roi_4)"
   ]
  },
  {
   "cell_type": "markdown",
   "id": "26982b6d-b1a1-423b-a7e7-2ae938d4d594",
   "metadata": {},
   "source": [
    "### 2. Read the data"
   ]
  },
  {
   "cell_type": "markdown",
   "id": "5bb9a799-8132-42d4-b937-aae1047fb84c",
   "metadata": {
    "tags": []
   },
   "source": [
    "The train data"
   ]
  },
  {
   "cell_type": "code",
   "execution_count": 37,
   "id": "26b79de8-796f-4d36-949b-2e65f4d93eb2",
   "metadata": {
    "tags": []
   },
   "outputs": [
    {
     "name": "stdout",
     "output_type": "stream",
     "text": [
      "Pickled file found. Loading pickled data...\n",
      "Done\n"
     ]
    }
   ],
   "source": [
    "df_name = \"go_nogo_100_600_df_3-5_all_scales\"\n",
    "pickled_data_filename = \"../data/responses_100_600_pickled/\" + df_name + \".pkl\"\n",
    "info_filename = \"../data/scales/all_scales.csv\"\n",
    "\n",
    "if os.path.isfile(pickled_data_filename):\n",
    "    print(\"Pickled file found. Loading pickled data...\")\n",
    "    epochs_df = pd.read_pickle(pickled_data_filename)\n",
    "    print(\"Done\")\n",
    "    pass\n",
    "else:\n",
    "    print(\"Pickled file not found\")"
   ]
  },
  {
   "cell_type": "code",
   "execution_count": 38,
   "id": "fce9a7b2-443d-4046-bc1d-d496e5bffe5a",
   "metadata": {
    "tags": []
   },
   "outputs": [],
   "source": [
    "X_train_df = epochs_df"
   ]
  },
  {
   "cell_type": "markdown",
   "id": "cdba2044-8cc3-4d97-a475-4e3b3f55d8ab",
   "metadata": {
    "tags": []
   },
   "source": [
    "The test data"
   ]
  },
  {
   "cell_type": "code",
   "execution_count": 39,
   "id": "dd19c830-1b09-4cf8-9b59-0a665b229554",
   "metadata": {
    "tags": []
   },
   "outputs": [
    {
     "name": "stdout",
     "output_type": "stream",
     "text": [
      "Pickled file found. Loading pickled data...\n",
      "Done\n"
     ]
    }
   ],
   "source": [
    "df_name = 'go_nogo_100_600_test_df_3-5_all_scales'\n",
    "pickled_data_filename = \"../data/responses_100_600_pickled/\" + df_name + \".pkl\"\n",
    "info_filename = \"../data/scales/all_scales.csv\"\n",
    "\n",
    "if os.path.isfile(pickled_data_filename):\n",
    "    print(\"Pickled file found. Loading pickled data...\")\n",
    "    epochs_df = pd.read_pickle(pickled_data_filename)\n",
    "    print(\"Done\")\n",
    "    pass\n",
    "else:\n",
    "    print(\"Pickled file not found\")"
   ]
  },
  {
   "cell_type": "code",
   "execution_count": 40,
   "id": "d01d24d1-0749-4461-8f61-c023b35c2466",
   "metadata": {
    "tags": []
   },
   "outputs": [],
   "source": [
    "X_test_df = epochs_df"
   ]
  },
  {
   "cell_type": "markdown",
   "id": "92d00df6-9d28-46b4-9e6a-8cfaf1e12552",
   "metadata": {},
   "source": [
    "### 3. Apply pre-processing pipelines to data and compute statistics: mean and SD of scores"
   ]
  },
  {
   "cell_type": "code",
   "execution_count": 111,
   "id": "00267d6a-b98b-4d5b-9007-7e80fd97b86e",
   "metadata": {
    "scrolled": true
   },
   "outputs": [
    {
     "name": "stdout",
     "output_type": "stream",
     "text": [
      "---- DATASET: train-----------\n",
      "(96, 9, 181)\n",
      "(96, 13, 181)\n",
      "(96, 11, 181)\n",
      "(96, 17, 181)\n",
      "---- ROI 1\n",
      "---- PCA 1\n",
      " MEAN: 1.8953602928889747e-05\n",
      " SD: 1.0562940025190903e-05\n",
      "\n",
      "---- PCA 2\n",
      " MEAN: 1.1845588662262889e-05\n",
      " SD: 6.89601125647799e-06\n",
      "\n",
      "---- PCA 3\n",
      " MEAN: 6.042230898537439e-06\n",
      " SD: 3.115857273079911e-06\n",
      "\n",
      "---- PCA 4\n",
      " MEAN: 2.102309718395574e-06\n",
      " SD: 1.1593810121973813e-06\n",
      "\n",
      "---- ROI 2\n",
      "---- PCA 1\n",
      " MEAN: 2.4324090350905986e-05\n",
      " SD: 1.3607232178584808e-05\n",
      "\n",
      "---- PCA 2\n",
      " MEAN: 1.2994118919941206e-05\n",
      " SD: 7.699727379038759e-06\n",
      "\n",
      "---- PCA 3\n",
      " MEAN: 6.090104292145985e-06\n",
      " SD: 3.269377585271518e-06\n",
      "\n",
      "---- PCA 4\n",
      " MEAN: 2.4620134524185194e-06\n",
      " SD: 1.400189878581368e-06\n",
      "\n",
      "---- ROI 3\n",
      "---- PCA 1\n",
      " MEAN: 4.428561129222968e-05\n",
      " SD: 1.909256875971781e-05\n",
      "\n",
      "---- PCA 2\n",
      " MEAN: 1.1260718840475782e-05\n",
      " SD: 5.460446614857752e-06\n",
      "\n",
      "---- PCA 3\n",
      " MEAN: 6.568368335157186e-06\n",
      " SD: 3.296254396448207e-06\n",
      "\n",
      "---- PCA 4\n",
      " MEAN: 2.7183267475472265e-06\n",
      " SD: 1.5557452591412552e-06\n",
      "\n",
      "---- ROI 4\n",
      "---- PCA 1\n",
      " MEAN: 5.625392113278409e-05\n",
      " SD: 2.3591132383806078e-05\n",
      "\n",
      "---- PCA 2\n",
      " MEAN: 1.4000756416988124e-05\n",
      " SD: 6.7885474570098705e-06\n",
      "\n",
      "---- PCA 3\n",
      " MEAN: 6.795445630500438e-06\n",
      " SD: 3.5120357202183426e-06\n",
      "\n",
      "---- PCA 4\n",
      " MEAN: 3.0838838523094483e-06\n",
      " SD: 1.5096648681368858e-06\n",
      "\n",
      "---- DATASET: test-----------\n",
      "(34, 9, 181)\n",
      "(34, 13, 181)\n",
      "(34, 11, 181)\n",
      "(34, 17, 181)\n",
      "---- ROI 1\n",
      "---- PCA 1\n",
      " MEAN: 1.8355619211531143e-05\n",
      " SD: 9.662242964461435e-06\n",
      "\n",
      "---- PCA 2\n",
      " MEAN: 8.927976141775666e-06\n",
      " SD: 4.27401103531736e-06\n",
      "\n",
      "---- PCA 3\n",
      " MEAN: 5.96086736889814e-06\n",
      " SD: 2.7733041160989973e-06\n",
      "\n",
      "---- PCA 4\n",
      " MEAN: 1.8497737237120198e-06\n",
      " SD: 1.0418668536416479e-06\n",
      "\n",
      "---- ROI 2\n",
      "---- PCA 1\n",
      " MEAN: 2.3260091189903567e-05\n",
      " SD: 1.2713468533152453e-05\n",
      "\n",
      "---- PCA 2\n",
      " MEAN: 9.850757485383146e-06\n",
      " SD: 4.984032632236027e-06\n",
      "\n",
      "---- PCA 3\n",
      " MEAN: 6.132158624744148e-06\n",
      " SD: 2.7470395038561855e-06\n",
      "\n",
      "---- PCA 4\n",
      " MEAN: 2.045251151695891e-06\n",
      " SD: 1.1720089073539386e-06\n",
      "\n",
      "---- ROI 3\n",
      "---- PCA 1\n",
      " MEAN: 4.108193315508635e-05\n",
      " SD: 1.3799025438918756e-05\n",
      "\n",
      "---- PCA 2\n",
      " MEAN: 9.718143784591275e-06\n",
      " SD: 4.971598524910789e-06\n",
      "\n",
      "---- PCA 3\n",
      " MEAN: 6.326544186556589e-06\n",
      " SD: 2.852347403824387e-06\n",
      "\n",
      "---- PCA 4\n",
      " MEAN: 2.3436183583404846e-06\n",
      " SD: 1.137322547166105e-06\n",
      "\n",
      "---- ROI 4\n",
      "---- PCA 1\n",
      " MEAN: 5.22828898952031e-05\n",
      " SD: 1.7225225730583197e-05\n",
      "\n",
      "---- PCA 2\n",
      " MEAN: 1.188004264599621e-05\n",
      " SD: 5.731887389637198e-06\n",
      "\n",
      "---- PCA 3\n",
      " MEAN: 6.567065777424068e-06\n",
      " SD: 2.990556597480842e-06\n",
      "\n",
      "---- PCA 4\n",
      " MEAN: 2.7447467307291853e-06\n",
      " SD: 1.1501854423888427e-06\n",
      "\n"
     ]
    }
   ],
   "source": [
    "results_df = pd.DataFrame()\n",
    "per_participant_results = pd.DataFrame()\n",
    "\n",
    "for item in {\"train\": X_train_df, \"test\": X_test_df}.items():    \n",
    "    dataset_name = item[0]\n",
    "    dataset = item[1]\n",
    "    \n",
    "    print(f\"---- DATASET: {dataset_name}-----------\")\n",
    "        \n",
    "    # ROI 1\n",
    "    X_df_copy = pd.DataFrame(copy.deepcopy(dataset.to_dict()))\n",
    "\n",
    "    X_roi_1_mid = roi_1_pipeline.transform(X_df_copy)\n",
    "    X_roi_1 = last_steps_pipeline_ern.transform(X_roi_1_mid)\n",
    "\n",
    "    # ROI 2\n",
    "    X_df_copy = pd.DataFrame(copy.deepcopy(dataset.to_dict()))\n",
    "\n",
    "    X_roi_2_mid = roi_2_pipeline.transform(X_df_copy)\n",
    "    X_roi_2 = last_steps_pipeline_ern.transform(X_roi_2_mid)\n",
    "    \n",
    "    # ROI 3\n",
    "    X_df_copy = pd.DataFrame(copy.deepcopy(dataset.to_dict()))\n",
    "\n",
    "    X_roi_3_mid = roi_3_pipeline.transform(X_df_copy)\n",
    "    X_roi_3 = last_steps_pipeline_pe.transform(X_roi_3_mid)\n",
    "\n",
    "    # ROI 4\n",
    "    X_df_copy = pd.DataFrame(copy.deepcopy(dataset.to_dict()))\n",
    "\n",
    "    X_roi_4_mid = roi_4_pipeline.transform(X_df_copy)\n",
    "    X_roi_4 = last_steps_pipeline_pe.transform(X_roi_4_mid)\n",
    "    \n",
    "\n",
    "    \n",
    "    print(f\"---- ROI 1\")\n",
    "\n",
    "    for i in range(0,4):\n",
    "        this_result = pd.DataFrame({\n",
    "            'dataset': [dataset_name],\n",
    "            'ROI': 1,\n",
    "            'component_num': [i+1],\n",
    "            'mean': [np.mean(X_roi_1[:,i])],\n",
    "            'sd': [np.std(X_roi_1[:,i])]\n",
    "        })\n",
    "        \n",
    "        this_participant_result = pd.DataFrame({\n",
    "            'dataset': [dataset_name] * len(X_roi_1[:,i].flatten()),\n",
    "            'ROI': [1] * len(X_roi_1[:,i].flatten()),\n",
    "            'component_num': [i+1] * len(X_roi_1[:,i].flatten()),\n",
    "            'score': X_roi_1[:,i],            \n",
    "        })\n",
    "        per_participant_results = pd.concat([per_participant_results, this_participant_result], ignore_index=True)\n",
    "\n",
    "        results_df = results_df.append(this_result, ignore_index=True)\n",
    "        \n",
    "        print(f\"---- PCA {i+1}\\n MEAN: {np.mean(X_roi_1[:,i])}\\n SD: {np.std(X_roi_1[:,i])}\\n\")\n",
    "        \n",
    "##########################################\n",
    "\n",
    "    print(f\"---- ROI 2\")\n",
    "\n",
    "    for i in range(0,4):\n",
    "        this_result = pd.DataFrame({\n",
    "            'dataset': [dataset_name],\n",
    "            'ROI': 2,\n",
    "            'component_num': [i+1],\n",
    "            'mean': [np.mean(X_roi_2[:,i])],\n",
    "            'sd': [np.std(X_roi_2[:,i])]\n",
    "        })\n",
    "        \n",
    "        this_participant_result = pd.DataFrame({\n",
    "            'dataset': [dataset_name] * len(X_roi_1[:,i].flatten()),\n",
    "            'ROI': [2] * len(X_roi_1[:,i].flatten()),\n",
    "            'component_num': [i+1] * len(X_roi_1[:,i].flatten()),\n",
    "            'score': X_roi_2[:,i],            \n",
    "        })\n",
    "        \n",
    "        per_participant_results = pd.concat([per_participant_results, this_participant_result], ignore_index=True)\n",
    "\n",
    "\n",
    "        results_df = results_df.append(this_result, ignore_index=True)\n",
    "        \n",
    "        print(f\"---- PCA {i+1}\\n MEAN: {np.mean(X_roi_2[:,i])}\\n SD: {np.std(X_roi_2[:,i])}\\n\")\n",
    "\n",
    "##########################################\n",
    "\n",
    "        \n",
    "    print(f\"---- ROI 3\")\n",
    "\n",
    "    for i in range(0,4):\n",
    "        this_result = pd.DataFrame({\n",
    "            'dataset': [dataset_name],\n",
    "            'ROI': 3,\n",
    "            'component_num': [i+1],\n",
    "            'mean': [np.mean(X_roi_3[:,i])],\n",
    "            'sd': [np.std(X_roi_3[:,i])]\n",
    "        })\n",
    "        \n",
    "        this_participant_result = pd.DataFrame({\n",
    "            'dataset': [dataset_name] * len(X_roi_1[:,i].flatten()),\n",
    "            'ROI': [3] * len(X_roi_1[:,i].flatten()),\n",
    "            'component_num': [i+1] * len(X_roi_1[:,i].flatten()),\n",
    "            'score': X_roi_3[:,i],            \n",
    "        })\n",
    "        per_participant_results = pd.concat([per_participant_results, this_participant_result], ignore_index=True)\n",
    "\n",
    "        results_df = results_df.append(this_result, ignore_index=True)\n",
    "        \n",
    "        print(f\"---- PCA {i+1}\\n MEAN: {np.mean(X_roi_3[:,i])}\\n SD: {np.std(X_roi_3[:,i])}\\n\")\n",
    "\n",
    "##########################################\n",
    "\n",
    "    print(f\"---- ROI 4\")\n",
    "\n",
    "    for i in range(0,4):\n",
    "        this_result = pd.DataFrame({\n",
    "            'dataset': [dataset_name],\n",
    "            'ROI': 4,\n",
    "            'component_num': [i+1],\n",
    "            'mean': [np.mean(X_roi_4[:,i])],\n",
    "            'sd': [np.std(X_roi_4[:,i])]\n",
    "        })\n",
    "        \n",
    "        this_participant_result = pd.DataFrame({\n",
    "            'dataset': [dataset_name] * len(X_roi_1[:,i].flatten()),\n",
    "            'ROI': [4] * len(X_roi_1[:,i].flatten()),\n",
    "            'component_num': [i+1] * len(X_roi_1[:,i].flatten()),\n",
    "            'score': X_roi_4[:,i],            \n",
    "        })\n",
    "        per_participant_results = pd.concat([per_participant_results, this_participant_result], ignore_index=True)\n",
    "\n",
    "        results_df = results_df.append(this_result, ignore_index=True)\n",
    "        \n",
    "        print(f\"---- PCA {i+1}\\n MEAN: {np.mean(X_roi_4[:,i])}\\n SD: {np.std(X_roi_4[:,i])}\\n\")"
   ]
  },
  {
   "cell_type": "code",
   "execution_count": 112,
   "id": "9f5c7cf7-48e5-4747-8f85-83d3bcdfcf53",
   "metadata": {},
   "outputs": [],
   "source": [
    "ERP = pd.DataFrame(np.array([['ERN'] * 8 + ['Pe'] * 8 + ['ERN'] * 8 + ['Pe'] * 8]).flatten(), columns=['erp'])\n",
    "results_df = pd.concat([results_df, ERP], axis=1)"
   ]
  },
  {
   "cell_type": "code",
   "execution_count": 113,
   "id": "ab0a876b-3bd0-4e2b-b2af-bcea61e8b600",
   "metadata": {},
   "outputs": [
    {
     "data": {
      "text/html": [
       "<div>\n",
       "<style scoped>\n",
       "    .dataframe tbody tr th:only-of-type {\n",
       "        vertical-align: middle;\n",
       "    }\n",
       "\n",
       "    .dataframe tbody tr th {\n",
       "        vertical-align: top;\n",
       "    }\n",
       "\n",
       "    .dataframe thead th {\n",
       "        text-align: right;\n",
       "    }\n",
       "</style>\n",
       "<table border=\"1\" class=\"dataframe\">\n",
       "  <thead>\n",
       "    <tr style=\"text-align: right;\">\n",
       "      <th></th>\n",
       "      <th>dataset</th>\n",
       "      <th>ROI</th>\n",
       "      <th>component_num</th>\n",
       "      <th>mean</th>\n",
       "      <th>sd</th>\n",
       "      <th>erp</th>\n",
       "    </tr>\n",
       "  </thead>\n",
       "  <tbody>\n",
       "    <tr>\n",
       "      <th>0</th>\n",
       "      <td>train</td>\n",
       "      <td>1</td>\n",
       "      <td>1</td>\n",
       "      <td>0.000019</td>\n",
       "      <td>0.000011</td>\n",
       "      <td>ERN</td>\n",
       "    </tr>\n",
       "    <tr>\n",
       "      <th>1</th>\n",
       "      <td>train</td>\n",
       "      <td>1</td>\n",
       "      <td>2</td>\n",
       "      <td>0.000012</td>\n",
       "      <td>0.000007</td>\n",
       "      <td>ERN</td>\n",
       "    </tr>\n",
       "    <tr>\n",
       "      <th>2</th>\n",
       "      <td>train</td>\n",
       "      <td>1</td>\n",
       "      <td>3</td>\n",
       "      <td>0.000006</td>\n",
       "      <td>0.000003</td>\n",
       "      <td>ERN</td>\n",
       "    </tr>\n",
       "    <tr>\n",
       "      <th>3</th>\n",
       "      <td>train</td>\n",
       "      <td>1</td>\n",
       "      <td>4</td>\n",
       "      <td>0.000002</td>\n",
       "      <td>0.000001</td>\n",
       "      <td>ERN</td>\n",
       "    </tr>\n",
       "    <tr>\n",
       "      <th>4</th>\n",
       "      <td>train</td>\n",
       "      <td>2</td>\n",
       "      <td>1</td>\n",
       "      <td>0.000024</td>\n",
       "      <td>0.000014</td>\n",
       "      <td>ERN</td>\n",
       "    </tr>\n",
       "  </tbody>\n",
       "</table>\n",
       "</div>"
      ],
      "text/plain": [
       "  dataset  ROI  component_num      mean        sd  erp\n",
       "0   train    1              1  0.000019  0.000011  ERN\n",
       "1   train    1              2  0.000012  0.000007  ERN\n",
       "2   train    1              3  0.000006  0.000003  ERN\n",
       "3   train    1              4  0.000002  0.000001  ERN\n",
       "4   train    2              1  0.000024  0.000014  ERN"
      ]
     },
     "execution_count": 113,
     "metadata": {},
     "output_type": "execute_result"
    }
   ],
   "source": [
    "results_df.head()"
   ]
  },
  {
   "cell_type": "code",
   "execution_count": null,
   "id": "0ec7b8ab-57bf-4b47-b648-c7aea4a68407",
   "metadata": {},
   "outputs": [],
   "source": [
    "results_df.set_index(['dataset', 'ROI', 'component_num'])"
   ]
  },
  {
   "cell_type": "code",
   "execution_count": 128,
   "id": "8469fca7-e120-49ff-8a67-732b13ae68bf",
   "metadata": {},
   "outputs": [],
   "source": [
    "results_df.to_csv('../public_data/results/components_scores/scores_per_component_stats.csv')"
   ]
  },
  {
   "cell_type": "code",
   "execution_count": 44,
   "id": "777188bd-20ef-4375-97d3-dc8bff036790",
   "metadata": {},
   "outputs": [
    {
     "data": {
      "text/html": [
       "<div>\n",
       "<style scoped>\n",
       "    .dataframe tbody tr th:only-of-type {\n",
       "        vertical-align: middle;\n",
       "    }\n",
       "\n",
       "    .dataframe tbody tr th {\n",
       "        vertical-align: top;\n",
       "    }\n",
       "\n",
       "    .dataframe thead th {\n",
       "        text-align: right;\n",
       "    }\n",
       "</style>\n",
       "<table border=\"1\" class=\"dataframe\">\n",
       "  <thead>\n",
       "    <tr style=\"text-align: right;\">\n",
       "      <th></th>\n",
       "      <th>dataset</th>\n",
       "      <th>ROI</th>\n",
       "      <th>component_num</th>\n",
       "      <th>score</th>\n",
       "    </tr>\n",
       "  </thead>\n",
       "  <tbody>\n",
       "    <tr>\n",
       "      <th>0</th>\n",
       "      <td>train</td>\n",
       "      <td>1</td>\n",
       "      <td>1</td>\n",
       "      <td>0.000013</td>\n",
       "    </tr>\n",
       "    <tr>\n",
       "      <th>1</th>\n",
       "      <td>train</td>\n",
       "      <td>1</td>\n",
       "      <td>1</td>\n",
       "      <td>0.000017</td>\n",
       "    </tr>\n",
       "    <tr>\n",
       "      <th>2</th>\n",
       "      <td>train</td>\n",
       "      <td>1</td>\n",
       "      <td>1</td>\n",
       "      <td>0.000037</td>\n",
       "    </tr>\n",
       "    <tr>\n",
       "      <th>3</th>\n",
       "      <td>train</td>\n",
       "      <td>1</td>\n",
       "      <td>1</td>\n",
       "      <td>0.000007</td>\n",
       "    </tr>\n",
       "    <tr>\n",
       "      <th>4</th>\n",
       "      <td>train</td>\n",
       "      <td>1</td>\n",
       "      <td>1</td>\n",
       "      <td>0.000014</td>\n",
       "    </tr>\n",
       "  </tbody>\n",
       "</table>\n",
       "</div>"
      ],
      "text/plain": [
       "  dataset  ROI  component_num     score\n",
       "0   train    1              1  0.000013\n",
       "1   train    1              1  0.000017\n",
       "2   train    1              1  0.000037\n",
       "3   train    1              1  0.000007\n",
       "4   train    1              1  0.000014"
      ]
     },
     "execution_count": 44,
     "metadata": {},
     "output_type": "execute_result"
    }
   ],
   "source": [
    "per_participant_results_PCA = per_participant_results.copy()\n",
    "per_participant_results_PCA.head()"
   ]
  },
  {
   "cell_type": "markdown",
   "id": "44de2201-f30f-46f9-a308-f8cc4022f931",
   "metadata": {},
   "source": [
    "## ERN/Pe ERP analyses"
   ]
  },
  {
   "cell_type": "markdown",
   "id": "e2e7492f-a26f-4580-89af-9aa3616020f7",
   "metadata": {
    "tags": []
   },
   "source": [
    "### Compute ERN and Pe components scores"
   ]
  },
  {
   "cell_type": "code",
   "execution_count": 45,
   "id": "905e21da-d057-46e3-bac7-3511c28b4bdc",
   "metadata": {},
   "outputs": [],
   "source": [
    "results_ern = pd.read_pickle(\"../public_data/results/models_pickles/ern_waves_analysis_train_cv_lin.pkl\")\n",
    "results_pe = pd.read_pickle(\"../public_data/results/models_pickles/pe_waves_analysis_train_cv_lin.pkl\")"
   ]
  },
  {
   "cell_type": "markdown",
   "id": "9d71f7b9-528b-49bd-b240-6f3bddec6040",
   "metadata": {},
   "source": [
    "#### 1. Extract data pre-processing pipeliens for ERN and Pe"
   ]
  },
  {
   "cell_type": "code",
   "execution_count": 46,
   "id": "72f6fed1-4e6e-40b1-b652-d93e032fccd6",
   "metadata": {},
   "outputs": [],
   "source": [
    "ern_pipeline = results_ern.pre_processed_pipeline[0]\n",
    "ern_features_pipeline = results_ern.best_estimator[0][:-1]\n",
    "\n",
    "pe_pipeline = results_pe.pre_processed_pipeline[0]\n",
    "pe_features_pipeline = results_pe.best_estimator[0][:-1]"
   ]
  },
  {
   "cell_type": "code",
   "execution_count": 47,
   "id": "499c23c4-bedb-4cd6-a7a6-5861b23e22f5",
   "metadata": {},
   "outputs": [
    {
     "data": {
      "text/plain": [
       "Pipeline(steps=[('channels_extraction', PickChannels(channels_list=['Cz'])),\n",
       "                ('trim', EpochTrim(tmax=0.35, tmin=0.15)),\n",
       "                ('average', Evoked()),\n",
       "                ('extract_averaged_data', ExtractData())])"
      ]
     },
     "execution_count": 47,
     "metadata": {},
     "output_type": "execute_result"
    }
   ],
   "source": [
    "pe_pipeline"
   ]
  },
  {
   "cell_type": "markdown",
   "id": "f88cc81f-776c-4b6e-a12a-e7798e726c6c",
   "metadata": {},
   "source": [
    "#### 2. Read the data"
   ]
  },
  {
   "cell_type": "markdown",
   "id": "e35e4b19-47eb-49e8-9364-84efe37b0783",
   "metadata": {
    "tags": []
   },
   "source": [
    "The train data"
   ]
  },
  {
   "cell_type": "code",
   "execution_count": 48,
   "id": "7833b71f-004f-4cab-83ec-0392690ce330",
   "metadata": {
    "tags": []
   },
   "outputs": [
    {
     "name": "stdout",
     "output_type": "stream",
     "text": [
      "Pickled file found. Loading pickled data...\n",
      "Done\n"
     ]
    }
   ],
   "source": [
    "df_name = \"go_nogo_100_600_df_3-5_all_scales\"\n",
    "pickled_data_filename = \"../data/responses_100_600_pickled/\" + df_name + \".pkl\"\n",
    "info_filename = \"../data/scales/all_scales.csv\"\n",
    "\n",
    "if os.path.isfile(pickled_data_filename):\n",
    "    print(\"Pickled file found. Loading pickled data...\")\n",
    "    epochs_df = pd.read_pickle(pickled_data_filename)\n",
    "    print(\"Done\")\n",
    "    pass\n",
    "else:\n",
    "    print(\"Pickled file not found\")"
   ]
  },
  {
   "cell_type": "code",
   "execution_count": 49,
   "id": "ce018d09-b22f-48e7-bcd0-60982d3e0c64",
   "metadata": {
    "tags": []
   },
   "outputs": [],
   "source": [
    "X_train_df = epochs_df"
   ]
  },
  {
   "cell_type": "markdown",
   "id": "c993ef06-9c15-43c4-8f3c-98f09b754479",
   "metadata": {
    "tags": []
   },
   "source": [
    "The test data"
   ]
  },
  {
   "cell_type": "code",
   "execution_count": 50,
   "id": "8844a124-33b4-4933-9530-274f2f88507b",
   "metadata": {
    "tags": []
   },
   "outputs": [
    {
     "name": "stdout",
     "output_type": "stream",
     "text": [
      "Pickled file found. Loading pickled data...\n",
      "Done\n"
     ]
    }
   ],
   "source": [
    "df_name = 'go_nogo_100_600_test_df_3-5_all_scales'\n",
    "pickled_data_filename = \"../data/responses_100_600_pickled/\" + df_name + \".pkl\"\n",
    "info_filename = \"../data/scales/all_scales.csv\"\n",
    "\n",
    "if os.path.isfile(pickled_data_filename):\n",
    "    print(\"Pickled file found. Loading pickled data...\")\n",
    "    epochs_df = pd.read_pickle(pickled_data_filename)\n",
    "    print(\"Done\")\n",
    "    pass\n",
    "else:\n",
    "    print(\"Pickled file not found\")"
   ]
  },
  {
   "cell_type": "code",
   "execution_count": 51,
   "id": "ad64d040-bf7c-44bc-90e8-5bd09971201a",
   "metadata": {
    "tags": []
   },
   "outputs": [],
   "source": [
    "X_test_df = epochs_df"
   ]
  },
  {
   "cell_type": "markdown",
   "id": "2d7e505e-6800-4ea7-8f7a-2d96a5043bda",
   "metadata": {},
   "source": [
    "#### 3. Apply piplines to data and compute statistics"
   ]
  },
  {
   "cell_type": "code",
   "execution_count": 52,
   "id": "1df3a8a0-e8e0-453c-947e-c84be46d6aea",
   "metadata": {
    "scrolled": true
   },
   "outputs": [
    {
     "name": "stdout",
     "output_type": "stream",
     "text": [
      "IN PE RETURN SHAPE: (206, 1, 27)\n",
      "(96, 1, 27)\n",
      "IN PE RETURN SHAPE: (206, 1, 53)\n",
      "(96, 1, 53)\n",
      "IN PE RETURN SHAPE: (178, 1, 27)\n",
      "(34, 1, 27)\n",
      "IN PE RETURN SHAPE: (178, 1, 53)\n",
      "(34, 1, 53)\n"
     ]
    }
   ],
   "source": [
    "results_df = pd.DataFrame()\n",
    "per_participant_results = pd.DataFrame()\n",
    "\n",
    "for item in {\"train\": X_train_df, \"test\": X_test_df}.items():\n",
    "    participant_dataset_df = pd.DataFrame()\n",
    "    \n",
    "    dataset_name = item[0]\n",
    "    dataset = item[1]\n",
    "            \n",
    "    # ERN\n",
    "    X_df_copy = pd.DataFrame(copy.deepcopy(dataset.to_dict()))\n",
    "\n",
    "    X_ern_mid = ern_pipeline.transform(X_df_copy)\n",
    "    X_ern = ern_features_pipeline.transform(X_ern_mid)\n",
    "        \n",
    "    this_result = pd.DataFrame({\n",
    "            'dataset': [dataset_name],\n",
    "            'component': [\"ERN\"],\n",
    "            'mean': [np.mean(X_ern)],\n",
    "            'sd': [np.std(X_ern)]\n",
    "    }) \n",
    "\n",
    "    results_df = results_df.append(this_result)\n",
    "        \n",
    "    # Pe\n",
    "    X_df_copy = pd.DataFrame(copy.deepcopy(dataset.to_dict()))\n",
    "\n",
    "    X_pe_mid = pe_pipeline.transform(X_df_copy)\n",
    "    X_pe = pe_features_pipeline.transform(X_pe_mid)\n",
    "    \n",
    "    this_result = pd.DataFrame({\n",
    "            'dataset': [dataset_name],\n",
    "            'component': [\"Pe\"],\n",
    "            'mean': [np.mean(X_pe)],\n",
    "            'sd': [np.std(X_pe)]\n",
    "    }) \n",
    "    \n",
    "    results_df = results_df.append(this_result, ignore_index=True)\n",
    "    \n",
    "    participant_dataset_df[\"ERN\"] = X_ern.flatten()\n",
    "    participant_dataset_df[\"Pe\"] = X_pe.flatten()\n",
    "    participant_dataset_df[\"dataset\"] = [dataset_name] * len(X_ern.flatten())\n",
    "\n",
    "    per_participant_results = per_participant_results.append(participant_dataset_df, ignore_index=True)"
   ]
  },
  {
   "cell_type": "code",
   "execution_count": 53,
   "id": "dde518ce-d242-4aee-8239-ed8cc9bc2356",
   "metadata": {},
   "outputs": [
    {
     "data": {
      "text/html": [
       "<div>\n",
       "<style scoped>\n",
       "    .dataframe tbody tr th:only-of-type {\n",
       "        vertical-align: middle;\n",
       "    }\n",
       "\n",
       "    .dataframe tbody tr th {\n",
       "        vertical-align: top;\n",
       "    }\n",
       "\n",
       "    .dataframe thead th {\n",
       "        text-align: right;\n",
       "    }\n",
       "</style>\n",
       "<table border=\"1\" class=\"dataframe\">\n",
       "  <thead>\n",
       "    <tr style=\"text-align: right;\">\n",
       "      <th></th>\n",
       "      <th>dataset</th>\n",
       "      <th>component</th>\n",
       "      <th>mean</th>\n",
       "      <th>sd</th>\n",
       "    </tr>\n",
       "  </thead>\n",
       "  <tbody>\n",
       "    <tr>\n",
       "      <th>0</th>\n",
       "      <td>train</td>\n",
       "      <td>ERN</td>\n",
       "      <td>-0.000005</td>\n",
       "      <td>0.000005</td>\n",
       "    </tr>\n",
       "    <tr>\n",
       "      <th>1</th>\n",
       "      <td>train</td>\n",
       "      <td>Pe</td>\n",
       "      <td>0.000015</td>\n",
       "      <td>0.000007</td>\n",
       "    </tr>\n",
       "    <tr>\n",
       "      <th>2</th>\n",
       "      <td>test</td>\n",
       "      <td>ERN</td>\n",
       "      <td>-0.000004</td>\n",
       "      <td>0.000004</td>\n",
       "    </tr>\n",
       "    <tr>\n",
       "      <th>3</th>\n",
       "      <td>test</td>\n",
       "      <td>Pe</td>\n",
       "      <td>0.000014</td>\n",
       "      <td>0.000008</td>\n",
       "    </tr>\n",
       "  </tbody>\n",
       "</table>\n",
       "</div>"
      ],
      "text/plain": [
       "  dataset component      mean        sd\n",
       "0   train       ERN -0.000005  0.000005\n",
       "1   train        Pe  0.000015  0.000007\n",
       "2    test       ERN -0.000004  0.000004\n",
       "3    test        Pe  0.000014  0.000008"
      ]
     },
     "execution_count": 53,
     "metadata": {},
     "output_type": "execute_result"
    }
   ],
   "source": [
    "results_df"
   ]
  },
  {
   "cell_type": "code",
   "execution_count": 73,
   "id": "83a114de-44dc-4660-8a24-2b9dca772926",
   "metadata": {},
   "outputs": [],
   "source": [
    "results_df.to_csv('../public_data/results/components_scores/scores_wave_analysis_stats.csv')"
   ]
  },
  {
   "cell_type": "code",
   "execution_count": 55,
   "id": "10110a57-a385-493a-92c6-708856f4c0d1",
   "metadata": {},
   "outputs": [
    {
     "data": {
      "text/html": [
       "<div>\n",
       "<style scoped>\n",
       "    .dataframe tbody tr th:only-of-type {\n",
       "        vertical-align: middle;\n",
       "    }\n",
       "\n",
       "    .dataframe tbody tr th {\n",
       "        vertical-align: top;\n",
       "    }\n",
       "\n",
       "    .dataframe thead th {\n",
       "        text-align: right;\n",
       "    }\n",
       "</style>\n",
       "<table border=\"1\" class=\"dataframe\">\n",
       "  <thead>\n",
       "    <tr style=\"text-align: right;\">\n",
       "      <th></th>\n",
       "      <th>ERN</th>\n",
       "      <th>Pe</th>\n",
       "      <th>dataset</th>\n",
       "    </tr>\n",
       "  </thead>\n",
       "  <tbody>\n",
       "    <tr>\n",
       "      <th>0</th>\n",
       "      <td>-4.188265e-06</td>\n",
       "      <td>0.000027</td>\n",
       "      <td>train</td>\n",
       "    </tr>\n",
       "    <tr>\n",
       "      <th>1</th>\n",
       "      <td>-3.915253e-06</td>\n",
       "      <td>0.000012</td>\n",
       "      <td>train</td>\n",
       "    </tr>\n",
       "    <tr>\n",
       "      <th>2</th>\n",
       "      <td>-1.794473e-05</td>\n",
       "      <td>0.000005</td>\n",
       "      <td>train</td>\n",
       "    </tr>\n",
       "    <tr>\n",
       "      <th>3</th>\n",
       "      <td>3.809618e-07</td>\n",
       "      <td>0.000007</td>\n",
       "      <td>train</td>\n",
       "    </tr>\n",
       "    <tr>\n",
       "      <th>4</th>\n",
       "      <td>-2.832309e-06</td>\n",
       "      <td>0.000008</td>\n",
       "      <td>train</td>\n",
       "    </tr>\n",
       "  </tbody>\n",
       "</table>\n",
       "</div>"
      ],
      "text/plain": [
       "            ERN        Pe dataset\n",
       "0 -4.188265e-06  0.000027   train\n",
       "1 -3.915253e-06  0.000012   train\n",
       "2 -1.794473e-05  0.000005   train\n",
       "3  3.809618e-07  0.000007   train\n",
       "4 -2.832309e-06  0.000008   train"
      ]
     },
     "execution_count": 55,
     "metadata": {},
     "output_type": "execute_result"
    }
   ],
   "source": [
    "per_participant_results_ERP = per_participant_results.copy()\n",
    "per_participant_results_ERP.head()"
   ]
  },
  {
   "cell_type": "code",
   "execution_count": 75,
   "id": "7c5543c6-f82f-4cdb-872f-5223d46aed94",
   "metadata": {},
   "outputs": [],
   "source": [
    "per_participant_results.to_csv('../public_data/results/components_scores/scores_wave_analysis_per_participant.csv')"
   ]
  },
  {
   "cell_type": "markdown",
   "id": "7c4430c4-ec26-436f-8eec-e7490421362a",
   "metadata": {},
   "source": [
    "### Test differences between train and test PCA-based and ERP-based scores"
   ]
  },
  {
   "cell_type": "markdown",
   "id": "223a37ca-3f25-4af1-9c0c-f8d03789443b",
   "metadata": {},
   "source": [
    "- PCA-based scores"
   ]
  },
  {
   "cell_type": "code",
   "execution_count": 119,
   "id": "504f8ce3-ea3f-427c-b603-1411c485ebee",
   "metadata": {},
   "outputs": [
    {
     "data": {
      "text/html": [
       "<div>\n",
       "<style scoped>\n",
       "    .dataframe tbody tr th:only-of-type {\n",
       "        vertical-align: middle;\n",
       "    }\n",
       "\n",
       "    .dataframe tbody tr th {\n",
       "        vertical-align: top;\n",
       "    }\n",
       "\n",
       "    .dataframe thead th {\n",
       "        text-align: right;\n",
       "    }\n",
       "</style>\n",
       "<table border=\"1\" class=\"dataframe\">\n",
       "  <thead>\n",
       "    <tr style=\"text-align: right;\">\n",
       "      <th></th>\n",
       "      <th>dataset</th>\n",
       "      <th>ROI</th>\n",
       "      <th>component_num</th>\n",
       "      <th>score</th>\n",
       "    </tr>\n",
       "  </thead>\n",
       "  <tbody>\n",
       "    <tr>\n",
       "      <th>0</th>\n",
       "      <td>train</td>\n",
       "      <td>1</td>\n",
       "      <td>1</td>\n",
       "      <td>0.000013</td>\n",
       "    </tr>\n",
       "    <tr>\n",
       "      <th>1</th>\n",
       "      <td>train</td>\n",
       "      <td>1</td>\n",
       "      <td>1</td>\n",
       "      <td>0.000017</td>\n",
       "    </tr>\n",
       "    <tr>\n",
       "      <th>2</th>\n",
       "      <td>train</td>\n",
       "      <td>1</td>\n",
       "      <td>1</td>\n",
       "      <td>0.000037</td>\n",
       "    </tr>\n",
       "    <tr>\n",
       "      <th>3</th>\n",
       "      <td>train</td>\n",
       "      <td>1</td>\n",
       "      <td>1</td>\n",
       "      <td>0.000007</td>\n",
       "    </tr>\n",
       "    <tr>\n",
       "      <th>4</th>\n",
       "      <td>train</td>\n",
       "      <td>1</td>\n",
       "      <td>1</td>\n",
       "      <td>0.000014</td>\n",
       "    </tr>\n",
       "  </tbody>\n",
       "</table>\n",
       "</div>"
      ],
      "text/plain": [
       "  dataset  ROI  component_num     score\n",
       "0   train    1              1  0.000013\n",
       "1   train    1              1  0.000017\n",
       "2   train    1              1  0.000037\n",
       "3   train    1              1  0.000007\n",
       "4   train    1              1  0.000014"
      ]
     },
     "execution_count": 119,
     "metadata": {},
     "output_type": "execute_result"
    }
   ],
   "source": [
    "per_participant_results_PCA.head()"
   ]
  },
  {
   "cell_type": "code",
   "execution_count": 120,
   "id": "a9157cce-cd96-4dbb-b90b-3e6b3cd54d99",
   "metadata": {},
   "outputs": [],
   "source": [
    "grouped_results = per_participant_results_PCA.groupby(by=[\"dataset\", 'ROI', 'component_num'])\n",
    "PCA_scores_differences_results = pd.DataFrame()\n",
    "\n",
    "for roi in range(1,5):\n",
    "    for component_num in range(1,5):\n",
    "        X_train = grouped_results.get_group(('train', roi, component_num))['score'].to_numpy()\n",
    "        X_test = grouped_results.get_group(('test', roi, component_num))['score'].to_numpy()\n",
    "        \n",
    "        t_stat, p_val = scipy.stats.ttest_ind(X_train, X_test, permutations=1000)\n",
    "            \n",
    "        this_result = pd.DataFrame({\n",
    "            'ROI': [roi],\n",
    "            'component': [component_num],\n",
    "            't_stats': [t_stat],\n",
    "            'p_value': [p_val],\n",
    "        }) \n",
    "        \n",
    "        PCA_scores_differences_results = pd.concat([PCA_scores_differences_results, this_result], ignore_index=True)        "
   ]
  },
  {
   "cell_type": "code",
   "execution_count": 121,
   "id": "2e4cb7e5-6d2c-401c-a780-27ebb6c49503",
   "metadata": {},
   "outputs": [
    {
     "data": {
      "text/html": [
       "<div>\n",
       "<style scoped>\n",
       "    .dataframe tbody tr th:only-of-type {\n",
       "        vertical-align: middle;\n",
       "    }\n",
       "\n",
       "    .dataframe tbody tr th {\n",
       "        vertical-align: top;\n",
       "    }\n",
       "\n",
       "    .dataframe thead th {\n",
       "        text-align: right;\n",
       "    }\n",
       "</style>\n",
       "<table border=\"1\" class=\"dataframe\">\n",
       "  <thead>\n",
       "    <tr style=\"text-align: right;\">\n",
       "      <th></th>\n",
       "      <th></th>\n",
       "      <th>t_stats</th>\n",
       "      <th>p_value</th>\n",
       "    </tr>\n",
       "    <tr>\n",
       "      <th>ROI</th>\n",
       "      <th>component</th>\n",
       "      <th></th>\n",
       "      <th></th>\n",
       "    </tr>\n",
       "  </thead>\n",
       "  <tbody>\n",
       "    <tr>\n",
       "      <th rowspan=\"4\" valign=\"top\">1</th>\n",
       "      <th>1</th>\n",
       "      <td>0.287685</td>\n",
       "      <td>0.770</td>\n",
       "    </tr>\n",
       "    <tr>\n",
       "      <th>2</th>\n",
       "      <td>2.296702</td>\n",
       "      <td>0.020</td>\n",
       "    </tr>\n",
       "    <tr>\n",
       "      <th>3</th>\n",
       "      <td>0.133513</td>\n",
       "      <td>0.881</td>\n",
       "    </tr>\n",
       "    <tr>\n",
       "      <th>4</th>\n",
       "      <td>1.111342</td>\n",
       "      <td>0.283</td>\n",
       "    </tr>\n",
       "    <tr>\n",
       "      <th rowspan=\"4\" valign=\"top\">2</th>\n",
       "      <th>1</th>\n",
       "      <td>0.395409</td>\n",
       "      <td>0.663</td>\n",
       "    </tr>\n",
       "    <tr>\n",
       "      <th>2</th>\n",
       "      <td>2.204175</td>\n",
       "      <td>0.031</td>\n",
       "    </tr>\n",
       "    <tr>\n",
       "      <th>3</th>\n",
       "      <td>-0.066567</td>\n",
       "      <td>0.946</td>\n",
       "    </tr>\n",
       "    <tr>\n",
       "      <th>4</th>\n",
       "      <td>1.541497</td>\n",
       "      <td>0.119</td>\n",
       "    </tr>\n",
       "    <tr>\n",
       "      <th rowspan=\"4\" valign=\"top\">3</th>\n",
       "      <th>1</th>\n",
       "      <td>0.891862</td>\n",
       "      <td>0.386</td>\n",
       "    </tr>\n",
       "    <tr>\n",
       "      <th>2</th>\n",
       "      <td>1.437118</td>\n",
       "      <td>0.152</td>\n",
       "    </tr>\n",
       "    <tr>\n",
       "      <th>3</th>\n",
       "      <td>0.377374</td>\n",
       "      <td>0.715</td>\n",
       "    </tr>\n",
       "    <tr>\n",
       "      <th>4</th>\n",
       "      <td>1.277869</td>\n",
       "      <td>0.172</td>\n",
       "    </tr>\n",
       "    <tr>\n",
       "      <th rowspan=\"4\" valign=\"top\">4</th>\n",
       "      <th>1</th>\n",
       "      <td>0.893244</td>\n",
       "      <td>0.366</td>\n",
       "    </tr>\n",
       "    <tr>\n",
       "      <th>2</th>\n",
       "      <td>1.615066</td>\n",
       "      <td>0.100</td>\n",
       "    </tr>\n",
       "    <tr>\n",
       "      <th>3</th>\n",
       "      <td>0.335613</td>\n",
       "      <td>0.718</td>\n",
       "    </tr>\n",
       "    <tr>\n",
       "      <th>4</th>\n",
       "      <td>1.183776</td>\n",
       "      <td>0.253</td>\n",
       "    </tr>\n",
       "  </tbody>\n",
       "</table>\n",
       "</div>"
      ],
      "text/plain": [
       "                t_stats  p_value\n",
       "ROI component                   \n",
       "1   1          0.287685    0.770\n",
       "    2          2.296702    0.020\n",
       "    3          0.133513    0.881\n",
       "    4          1.111342    0.283\n",
       "2   1          0.395409    0.663\n",
       "    2          2.204175    0.031\n",
       "    3         -0.066567    0.946\n",
       "    4          1.541497    0.119\n",
       "3   1          0.891862    0.386\n",
       "    2          1.437118    0.152\n",
       "    3          0.377374    0.715\n",
       "    4          1.277869    0.172\n",
       "4   1          0.893244    0.366\n",
       "    2          1.615066    0.100\n",
       "    3          0.335613    0.718\n",
       "    4          1.183776    0.253"
      ]
     },
     "execution_count": 121,
     "metadata": {},
     "output_type": "execute_result"
    }
   ],
   "source": [
    "PCA_scores_differences_results = PCA_scores_differences_results.set_index(['ROI', 'component'])\n",
    "PCA_scores_differences_results"
   ]
  },
  {
   "cell_type": "code",
   "execution_count": null,
   "id": "c6eda669-92d7-44f7-9d32-cd0207d1bbd3",
   "metadata": {},
   "outputs": [],
   "source": []
  },
  {
   "cell_type": "code",
   "execution_count": 85,
   "id": "ebff7248-5e5b-47af-ba53-1233668bb192",
   "metadata": {},
   "outputs": [],
   "source": [
    "PCA_scores_differences_results.to_csv('../public_data/results/components_scores/train_test_PCA_statistical_tests_results.csv')"
   ]
  },
  {
   "cell_type": "markdown",
   "id": "952ac273-01cd-4e99-ace5-15c737615780",
   "metadata": {},
   "source": [
    "- ERP-based scores"
   ]
  },
  {
   "cell_type": "code",
   "execution_count": 90,
   "id": "5b08f746-ee1d-46f9-b760-a564a80cb3e4",
   "metadata": {},
   "outputs": [
    {
     "data": {
      "text/html": [
       "<div>\n",
       "<style scoped>\n",
       "    .dataframe tbody tr th:only-of-type {\n",
       "        vertical-align: middle;\n",
       "    }\n",
       "\n",
       "    .dataframe tbody tr th {\n",
       "        vertical-align: top;\n",
       "    }\n",
       "\n",
       "    .dataframe thead th {\n",
       "        text-align: right;\n",
       "    }\n",
       "</style>\n",
       "<table border=\"1\" class=\"dataframe\">\n",
       "  <thead>\n",
       "    <tr style=\"text-align: right;\">\n",
       "      <th></th>\n",
       "      <th>ERN</th>\n",
       "      <th>Pe</th>\n",
       "      <th>dataset</th>\n",
       "    </tr>\n",
       "  </thead>\n",
       "  <tbody>\n",
       "    <tr>\n",
       "      <th>0</th>\n",
       "      <td>-4.188265e-06</td>\n",
       "      <td>0.000027</td>\n",
       "      <td>train</td>\n",
       "    </tr>\n",
       "    <tr>\n",
       "      <th>1</th>\n",
       "      <td>-3.915253e-06</td>\n",
       "      <td>0.000012</td>\n",
       "      <td>train</td>\n",
       "    </tr>\n",
       "    <tr>\n",
       "      <th>2</th>\n",
       "      <td>-1.794473e-05</td>\n",
       "      <td>0.000005</td>\n",
       "      <td>train</td>\n",
       "    </tr>\n",
       "    <tr>\n",
       "      <th>3</th>\n",
       "      <td>3.809618e-07</td>\n",
       "      <td>0.000007</td>\n",
       "      <td>train</td>\n",
       "    </tr>\n",
       "    <tr>\n",
       "      <th>4</th>\n",
       "      <td>-2.832309e-06</td>\n",
       "      <td>0.000008</td>\n",
       "      <td>train</td>\n",
       "    </tr>\n",
       "  </tbody>\n",
       "</table>\n",
       "</div>"
      ],
      "text/plain": [
       "            ERN        Pe dataset\n",
       "0 -4.188265e-06  0.000027   train\n",
       "1 -3.915253e-06  0.000012   train\n",
       "2 -1.794473e-05  0.000005   train\n",
       "3  3.809618e-07  0.000007   train\n",
       "4 -2.832309e-06  0.000008   train"
      ]
     },
     "execution_count": 90,
     "metadata": {},
     "output_type": "execute_result"
    }
   ],
   "source": [
    "per_participant_results_ERP.head()"
   ]
  },
  {
   "cell_type": "code",
   "execution_count": 91,
   "id": "397245d8-ba77-4afc-8db1-4d0ed83436cd",
   "metadata": {},
   "outputs": [],
   "source": [
    "grouped_results = per_participant_results_ERP.groupby(by=[\"dataset\"])\n",
    "ERP_scores_differences_results = pd.DataFrame()\n",
    "\n",
    "for component in ['ERN', 'Pe']:\n",
    "        X_train = grouped_results.get_group('train')[component].to_numpy()\n",
    "        X_test = grouped_results.get_group('test')[component].to_numpy()\n",
    "        \n",
    "        t_stat, p_val = scipy.stats.ttest_ind(X_train, X_test, permutations=1000)\n",
    "            \n",
    "        this_result = pd.DataFrame({\n",
    "            'component': [component],\n",
    "            't_stats': [t_stat],\n",
    "            'p_value': [p_val],\n",
    "        }) \n",
    "        \n",
    "        ERP_scores_differences_results = pd.concat([ERP_scores_differences_results, this_result], ignore_index=True)        "
   ]
  },
  {
   "cell_type": "code",
   "execution_count": 92,
   "id": "9219d461-3403-4a6e-a7e0-469428c5ba43",
   "metadata": {},
   "outputs": [
    {
     "data": {
      "text/html": [
       "<div>\n",
       "<style scoped>\n",
       "    .dataframe tbody tr th:only-of-type {\n",
       "        vertical-align: middle;\n",
       "    }\n",
       "\n",
       "    .dataframe tbody tr th {\n",
       "        vertical-align: top;\n",
       "    }\n",
       "\n",
       "    .dataframe thead th {\n",
       "        text-align: right;\n",
       "    }\n",
       "</style>\n",
       "<table border=\"1\" class=\"dataframe\">\n",
       "  <thead>\n",
       "    <tr style=\"text-align: right;\">\n",
       "      <th></th>\n",
       "      <th>t_stats</th>\n",
       "      <th>p_value</th>\n",
       "    </tr>\n",
       "    <tr>\n",
       "      <th>component</th>\n",
       "      <th></th>\n",
       "      <th></th>\n",
       "    </tr>\n",
       "  </thead>\n",
       "  <tbody>\n",
       "    <tr>\n",
       "      <th>ERN</th>\n",
       "      <td>-0.553042</td>\n",
       "      <td>0.595</td>\n",
       "    </tr>\n",
       "    <tr>\n",
       "      <th>Pe</th>\n",
       "      <td>0.980282</td>\n",
       "      <td>0.337</td>\n",
       "    </tr>\n",
       "  </tbody>\n",
       "</table>\n",
       "</div>"
      ],
      "text/plain": [
       "            t_stats  p_value\n",
       "component                   \n",
       "ERN       -0.553042    0.595\n",
       "Pe         0.980282    0.337"
      ]
     },
     "execution_count": 92,
     "metadata": {},
     "output_type": "execute_result"
    }
   ],
   "source": [
    "ERP_scores_differences_results = ERP_scores_differences_results.set_index(['component'])\n",
    "ERP_scores_differences_results"
   ]
  },
  {
   "cell_type": "code",
   "execution_count": 93,
   "id": "5e1c3474-9586-4390-83db-435b3200e0cc",
   "metadata": {},
   "outputs": [],
   "source": [
    "ERP_scores_differences_results.to_csv('../public_data/results/components_scores/train_test_ERP_statistical_tests_results.csv')"
   ]
  }
 ],
 "metadata": {
  "kernelspec": {
   "display_name": "erroneurous",
   "language": "python",
   "name": "erroneurous"
  },
  "language_info": {
   "codemirror_mode": {
    "name": "ipython",
    "version": 3
   },
   "file_extension": ".py",
   "mimetype": "text/x-python",
   "name": "python",
   "nbconvert_exporter": "python",
   "pygments_lexer": "ipython3",
   "version": "3.8.10"
  }
 },
 "nbformat": 4,
 "nbformat_minor": 5
}
